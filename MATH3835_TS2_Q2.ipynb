{
 "cells": [
  {
   "cell_type": "markdown",
   "metadata": {},
   "source": [
    "# Question 2: Finite Difference Method"
   ]
  },
  {
   "cell_type": "markdown",
   "metadata": {},
   "source": [
    "Given the second order differential equation function.\n",
    "\n",
    "$$ \\frac{d^2y}{dx^2} = f(x, y , \\frac{dy}{dx} )$$\n",
    "$$ \\frac{d^2y}{dx^2} = y'' = 6x - \\frac{1}{2}x^2 $$\n",
    "\n",
    "The Boundary value problem:\n",
    "\n",
    "$$ y(0) = 0, \\ and \\ y(12) = 0 $$\n",
    "\n",
    "The step size $h=4$ the actual $y(x)$ is unknown, we wish to find $y(4)$.\n",
    "\n",
    "$$ y'' = \\frac{y_{n+1} - 2y_n + y_{n-1}}{h^2}  \\quad \\ (from \\ central \\ difference) (1) $$\n",
    "$$ y' = \\frac{y_{n+1} - y_n}{h} \\ quad \\ (From \\ Forward \\ Euler) \\ (2) $$\n",
    "\n",
    "\n",
    "\n",
    "So using (1) we get:\n",
    "\n",
    "$$ \\frac{y_{n+1} - 2y_n + y_{n-1}}{h^2} = 6x_n - \\frac{1}{2}x_n^2  \\quad (3)$$\n",
    "\n",
    "We are using $h=4$, so (3) becomes,\n",
    "\n",
    "$$ y_{n+1} - 2y_n + y_{n-1} = 96x_n - 8x_n^2  \\quad (4)$$\n",
    "\n",
    "$$y_0 = 0$$                \n",
    "$$y_2 - 2y_1 + y_0 = 256$$ \n",
    "$$y_3 -2y_2 + y_1 = 256$$\n",
    "$$y_3 = 0$$\n",
    "\n",
    "\n",
    "$$\n",
    "\\begin{equation*}\n",
    "\\begin{bmatrix}\n",
    "1 & 0 & 0 & 0 \\\\\n",
    "1 & -2 & 1 & 0 \\\\\n",
    "0 & 1 & -2 & 1 \\\\\n",
    "0 & 0 & 0 & 1\n",
    "\\end{bmatrix}\n",
    "\\begin{bmatrix}\n",
    "y_0 \\\\\n",
    "y_1 \\\\\n",
    "y_2 \\\\\n",
    "y_3 \n",
    "\\end{bmatrix}\n",
    "= \\begin{bmatrix}\n",
    "0 \\\\\n",
    "256  \\\\\n",
    "256 \\\\\n",
    "0\n",
    "\\end{bmatrix}\n",
    "\\end{equation*}\n",
    "$$\n",
    "\n",
    "\n"
   ]
  },
  {
   "cell_type": "code",
   "execution_count": 9,
   "metadata": {},
   "outputs": [],
   "source": [
    "## Library\n",
    "import numpy as np\n",
    "import math \n",
    "\n",
    "%matplotlib inline\n",
    "import matplotlib.pyplot as plt # side-stepping mpl backend\n",
    "import matplotlib.gridspec as gridspec # subplots\n",
    "import warnings\n",
    "\n",
    "warnings.filterwarnings(\"ignore\")\n",
    "class ListTable(list):\n",
    "    \"\"\" Overridden list class which takes a 2-dimensional list of \n",
    "        the form [[1,2,3],[4,5,6]], and renders an HTML Table in \n",
    "        IPython Notebook. \"\"\"\n",
    "    \n",
    "    def _repr_html_(self):\n",
    "        html = [\"<table>\"]\n",
    "        for row in self:\n",
    "            html.append(\"<tr>\")\n",
    "            \n",
    "            for col in row:\n",
    "                html.append(\"<td>{0}</td>\".format(col))\n",
    "            \n",
    "            html.append(\"</tr>\")\n",
    "        html.append(\"</table>\")\n",
    "        return ''.join(html)"
   ]
  },
  {
   "cell_type": "markdown",
   "metadata": {},
   "source": [
    "## Discrete Interval \n",
    "Here we will use a step sizes on the  $ 0 \\leq x \\leq 12 $.\n",
    "### Interval\n",
    "The step Size will be $h_{1} = 4\n",
    "\n",
    "with the discrete time steps,\n",
    "$$ x_{i} = 0 + 4i $$\n",
    "for  $i=0,1,...,3$.\n",
    "\n"
   ]
  },
  {
   "cell_type": "code",
   "execution_count": 17,
   "metadata": {},
   "outputs": [
    {
     "name": "stdout",
     "output_type": "stream",
     "text": [
      "4\n"
     ]
    },
    {
     "data": {
      "image/png": "[encoded data removed]",
      "text/plain": [
       "<Figure size 1440x288 with 1 Axes>"
      ]
     },
     "metadata": {
      "needs_background": "light"
     },
     "output_type": "display_data"
    }
   ],
   "source": [
    "# Start and end of interval\n",
    "b=12\n",
    "a=0\n",
    "\n",
    "N1=3\n",
    "\n",
    "h1=int((b-a)/N1)\n",
    "print(h1)\n",
    "\n",
    "x1=np.arange(a,b+h1,h1)\n",
    "\n",
    "\n",
    "fig = plt.figure(figsize=(20,4))\n",
    "plt.plot(x1,0*x1,'s:',color='red',label='Course Grid h=%s'%(h1))\n",
    "\n",
    "\n",
    "plt.xlim((0,12))\n",
    "plt.ylim((-0.1,0.1))\n",
    "plt.title('Illustration of discrete time points')\n",
    "plt.legend()\n",
    "plt.show()"
   ]
  },
  {
   "cell_type": "code",
   "execution_count": 18,
   "metadata": {},
   "outputs": [],
   "source": [
    "def myfun_b(x,h):\n",
    "    return (h**2*(6*x - 0.5*x**2))\n",
    "\n",
    "def myfun_A(size, b0, bn, y0, y1, y2 ):\n",
    "    A = np.zeros(shape=(size+1,size+1))\n",
    "    A[0][0] = b0\n",
    "    A[size][size] = bn\n",
    "    for i in range(1,size):\n",
    "        A[i][i-1] = y0\n",
    "        A[i][i] = y1\n",
    "        A[i][i+1] = y2\n",
    "    return A"
   ]
  },
  {
   "cell_type": "code",
   "execution_count": 22,
   "metadata": {},
   "outputs": [
    {
     "name": "stdout",
     "output_type": "stream",
     "text": [
      "[[ 1.  0.  0.  0.]\n",
      " [ 1. -2.  1.  0.]\n",
      " [ 0.  1. -2.  1.]\n",
      " [ 0.  0.  0.  1.]]\n",
      "[  0. 256. 256.   0.]\n"
     ]
    },
    {
     "data": {
      "text/plain": [
       "[<matplotlib.lines.Line2D at 0x115a0d210>]"
      ]
     },
     "execution_count": 22,
     "metadata": {},
     "output_type": "execute_result"
    },
    {
     "data": {
      "image/png": "[encoded data removed]",
      "text/plain": [
       "<Figure size 432x288 with 1 Axes>"
      ]
     },
     "metadata": {
      "needs_background": "light"
     },
     "output_type": "display_data"
    }
   ],
   "source": [
    "\n",
    "A = myfun_A(N1, 1, 1, 1, -2, 1 )\n",
    "print(A)\n",
    "b = np.zeros(N1+1)\n",
    "\n",
    "for i in range (1,N1):\n",
    "    b[i] = myfun_b(x1[i], h1)\n",
    "print(b)\n",
    "y_numerical = np.linalg.solve(A, b)\n",
    "plt.plot(x1,y_numerical,'s:',color='blue',label='Course Grid h=%s'%(h1))\n"
   ]
  },
  {
   "cell_type": "code",
   "execution_count": 24,
   "metadata": {},
   "outputs": [
    {
     "data": {
      "text/html": [
       "<table><tr><td>x</td><td>y_numerical</td></tr><tr><td>0</td><td>0.0</td></tr><tr><td>4</td><td>-256.0</td></tr><tr><td>8</td><td>-256.0</td></tr><tr><td>12</td><td>0.0</td></tr></table>"
      ],
      "text/plain": [
       "[['x', 'y_numerical'], [0, 0.0], [4, -256.0], [8, -256.0], [12, 0.0]]"
      ]
     },
     "execution_count": 24,
     "metadata": {},
     "output_type": "execute_result"
    }
   ],
   "source": [
    "table = ListTable()\n",
    "table.append(['x', 'y_numerical'\n",
    "              ])\n",
    "tableSize = N1\n",
    "for i in range (0,tableSize+1):\n",
    "    table.append([round(x1[i],5), round(y_numerical[i],5)])\n",
    "    \n",
    "table"
   ]
  },
  {
   "cell_type": "code",
   "execution_count": null,
   "metadata": {},
   "outputs": [],
   "source": []
  }
 ],
 "metadata": {
  "kernelspec": {
   "display_name": "Python 3",
   "language": "python",
   "name": "python3"
  },
  "language_info": {
   "codemirror_mode": {
    "name": "ipython",
    "version": 3
   },
   "file_extension": ".py",
   "mimetype": "text/x-python",
   "name": "python",
   "nbconvert_exporter": "python",
   "pygments_lexer": "ipython3",
   "version": "3.7.4"
  }
 },
 "nbformat": 4,
 "nbformat_minor": 2
}
