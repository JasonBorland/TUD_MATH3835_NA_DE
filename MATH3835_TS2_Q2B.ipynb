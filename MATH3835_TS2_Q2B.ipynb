{
 "cells": [
  {
   "cell_type": "markdown",
   "metadata": {},
   "source": [
    "# Question 2B: Finite Difference Method"
   ]
  },
  {
   "cell_type": "markdown",
   "metadata": {},
   "source": [
    "Given the second order differential equation function.\n",
    "\n",
    "$$ \\frac{d^2y}{dx^2} = f(x, y , \\frac{dy}{dx} )$$\n",
    "$$ \\frac{d^2y}{dx^2} = y'' = 6x - \\frac{1}{2}x^2 $$\n",
    "\n",
    "The Boundary value problem:\n",
    "\n",
    "$$ y(0) = 0, \\ and \\ y(12) = 0 $$\n",
    "\n",
    "The step size $h=0.1$ the actual $y(x)$ is unknown, we wish to find $y(4)$.\n",
    "\n",
    "$$ y'' = \\frac{y_{n+1} - 2y_n + y_{n-1}}{h^2}  \\quad \\ (from \\ central \\ difference) (1) $$\n",
    "$$ y' = \\frac{y_{n+1} - y_n}{h} \\ quad \\ (From \\ Forward \\ Euler) \\ (2) $$\n",
    "\n",
    "\n",
    "\n",
    "So using (1) we get:\n",
    "\n",
    "$$ \\frac{y_{n+1} - 2y_n + y_{n-1}}{h^2} = 6x_n - \\frac{1}{2}x_n^2  \\quad (3)$$\n",
    "\n",
    "We are using $h=4$, so (3) becomes,\n",
    "\n",
    "$$ y_{n+1} - 2y_n + y_{n-1} = 96x_n - 8x_n^2  \\quad (4)$$\n",
    "\n",
    "$$y_0 = 0$$                \n",
    "$$y_2 - 2y_1 + y_0 = 256$$ \n",
    "$$y_3 -2y_2 + y_1 = 256$$\n",
    "$$y_3 = 0$$\n",
    "\n",
    "\n",
    "$$\n",
    "\\begin{equation*}\n",
    "\\begin{bmatrix}\n",
    "1 & 0 & 0 & 0 \\\\\n",
    "1 & -2 & 1 & 0 \\\\\n",
    "0 & 1 & -2 & 1 \\\\\n",
    "0 & 0 & 0 & 1\n",
    "\\end{bmatrix}\n",
    "\\begin{bmatrix}\n",
    "y_0 \\\\\n",
    "y_1 \\\\\n",
    "y_2 \\\\\n",
    "y_3 \n",
    "\\end{bmatrix}\n",
    "= \\begin{bmatrix}\n",
    "0 \\\\\n",
    "256  \\\\\n",
    "256 \\\\\n",
    "0\n",
    "\\end{bmatrix}\n",
    "\\end{equation*}\n",
    "$$\n",
    "\n",
    "\n"
   ]
  },
  {
   "cell_type": "code",
   "execution_count": 10,
   "metadata": {},
   "outputs": [],
   "source": [
    "## Library\n",
    "import numpy as np\n",
    "import math \n",
    "\n",
    "%matplotlib inline\n",
    "import matplotlib.pyplot as plt # side-stepping mpl backend\n",
    "import matplotlib.gridspec as gridspec # subplots\n",
    "import warnings\n",
    "\n",
    "warnings.filterwarnings(\"ignore\")\n",
    "class ListTable(list):\n",
    "    \"\"\" Overridden list class which takes a 2-dimensional list of \n",
    "        the form [[1,2,3],[4,5,6]], and renders an HTML Table in \n",
    "        IPython Notebook. \"\"\"\n",
    "    \n",
    "    def _repr_html_(self):\n",
    "        html = [\"<table>\"]\n",
    "        for row in self:\n",
    "            html.append(\"<tr>\")\n",
    "            \n",
    "            for col in row:\n",
    "                html.append(\"<td>{0}</td>\".format(col))\n",
    "            \n",
    "            html.append(\"</tr>\")\n",
    "        html.append(\"</table>\")\n",
    "        return ''.join(html)"
   ]
  },
  {
   "cell_type": "markdown",
   "metadata": {},
   "source": [
    "## Discrete Interval \n",
    "Here we will use a step sizes on the  $ 0 \\leq x \\leq 12 $.\n",
    "### Interval\n",
    "The step Size will be $h_{1} = 0.1\n",
    "\n",
    "with the discrete time steps,\n",
    "$$ x_{i} = 0 + 0.1i $$\n",
    "for  $i=0,1,...,120$.\n",
    "\n"
   ]
  },
  {
   "cell_type": "code",
   "execution_count": 11,
   "metadata": {},
   "outputs": [
    {
     "name": "stdout",
     "output_type": "stream",
     "text": [
      "0.1\n"
     ]
    },
    {
     "data": {
      "image/png": "[encoded data removed]",
      "text/plain": [
       "<Figure size 1440x288 with 1 Axes>"
      ]
     },
     "metadata": {
      "needs_background": "light"
     },
     "output_type": "display_data"
    }
   ],
   "source": [
    "# Start and end of interval\n",
    "b=12\n",
    "a=0\n",
    "\n",
    "N1=120\n",
    "\n",
    "h1=((b-a)/N1)\n",
    "print(h1)\n",
    "\n",
    "x1=np.arange(a,b+h1,h1)\n",
    "\n",
    "\n",
    "fig = plt.figure(figsize=(20,4))\n",
    "plt.plot(x1,0*x1,'s:',color='red',label='Course Grid h=%s'%(h1))\n",
    "\n",
    "\n",
    "plt.xlim((0,12))\n",
    "plt.ylim((-0.1,0.1))\n",
    "plt.title('Illustration of discrete time points')\n",
    "plt.legend()\n",
    "plt.show()"
   ]
  },
  {
   "cell_type": "code",
   "execution_count": 12,
   "metadata": {},
   "outputs": [],
   "source": [
    "def myfun_b(x,h):\n",
    "    return (h**2*(6*x - 0.5*x**2))\n",
    "\n",
    "def myfun_A(size, b0, bn, y0, y1, y2 ):\n",
    "    A = np.zeros(shape=(size+1,size+1))\n",
    "    A[0][0] = b0\n",
    "    A[size][size] = bn\n",
    "    for i in range(1,size):\n",
    "        A[i][i-1] = y0\n",
    "        A[i][i] = y1\n",
    "        A[i][i+1] = y2\n",
    "    return A\n",
    "\n",
    "def myfun_yactual (x):\n",
    "    return (x**3 - x**4/24 -72*x)"
   ]
  },
  {
   "cell_type": "code",
   "execution_count": 16,
   "metadata": {},
   "outputs": [
    {
     "name": "stdout",
     "output_type": "stream",
     "text": [
      "[[ 1.  0.  0. ...  0.  0.  0.]\n",
      " [ 1. -2.  1. ...  0.  0.  0.]\n",
      " [ 0.  1. -2. ...  0.  0.  0.]\n",
      " ...\n",
      " [ 0.  0.  0. ... -2.  1.  0.]\n",
      " [ 0.  0.  0. ...  1. -2.  1.]\n",
      " [ 0.  0.  0. ...  0.  0.  1.]]\n",
      "[0.      0.00595 0.0118  0.01755 0.0232  0.02875 0.0342  0.03955 0.0448\n",
      " 0.04995 0.055   0.05995 0.0648  0.06955 0.0742  0.07875 0.0832  0.08755\n",
      " 0.0918  0.09595 0.1     0.10395 0.1078  0.11155 0.1152  0.11875 0.1222\n",
      " 0.12555 0.1288  0.13195 0.135   0.13795 0.1408  0.14355 0.1462  0.14875\n",
      " 0.1512  0.15355 0.1558  0.15795 0.16    0.16195 0.1638  0.16555 0.1672\n",
      " 0.16875 0.1702  0.17155 0.1728  0.17395 0.175   0.17595 0.1768  0.17755\n",
      " 0.1782  0.17875 0.1792  0.17955 0.1798  0.17995 0.18    0.17995 0.1798\n",
      " 0.17955 0.1792  0.17875 0.1782  0.17755 0.1768  0.17595 0.175   0.17395\n",
      " 0.1728  0.17155 0.1702  0.16875 0.1672  0.16555 0.1638  0.16195 0.16\n",
      " 0.15795 0.1558  0.15355 0.1512  0.14875 0.1462  0.14355 0.1408  0.13795\n",
      " 0.135   0.13195 0.1288  0.12555 0.1222  0.11875 0.1152  0.11155 0.1078\n",
      " 0.10395 0.1     0.09595 0.0918  0.08755 0.0832  0.07875 0.0742  0.06955\n",
      " 0.0648  0.05995 0.055   0.04995 0.0448  0.03955 0.0342  0.02875 0.0232\n",
      " 0.01755 0.0118  0.00595 0.     ]\n"
     ]
    },
    {
     "data": {
      "text/plain": [
       "Text(0.5, 1.0, 'Analytical and Finite Difference Method Solutions')"
      ]
     },
     "execution_count": 16,
     "metadata": {},
     "output_type": "execute_result"
    },
    {
     "data": {
      "image/png": "[encoded data removed]",
      "text/plain": [
       "<Figure size 720x288 with 1 Axes>"
      ]
     },
     "metadata": {
      "needs_background": "light"
     },
     "output_type": "display_data"
    }
   ],
   "source": [
    "\n",
    "A = myfun_A(N1, 1, 1, 1, -2, 1 )\n",
    "print(A)\n",
    "b = np.zeros(N1+1)\n",
    "\n",
    "for i in range (1,N1):\n",
    "    b[i] = myfun_b(x1[i], h1)\n",
    "print(b)\n",
    "y_numerical = np.linalg.solve(A, b)\n",
    "\n",
    "y_actual = myfun_yactual(x1)\n",
    "\n",
    "fig = plt.figure(figsize=(10,4))\n",
    "\n",
    "plt.plot(x1,y_numerical,'s:',color='blue',label='y_numerical h=%s'%(h1))\n",
    "plt.plot(x1,y_actual,'^:',color='red',label='y_actual h=%s'%(h1))\n",
    "plt.xlim((0,12))\n",
    "plt.xlabel('x')\n",
    "plt.legend(loc='best')\n",
    "plt.title('Analytical and Finite Difference Method Solutions')"
   ]
  },
  {
   "cell_type": "code",
   "execution_count": 14,
   "metadata": {},
   "outputs": [
    {
     "data": {
      "text/html": [
       "<table><tr><td>x</td><td>y_numerical</td><td>y_actual</td></tr><tr><td>0.0</td><td>0.0</td><td>0.0</td></tr><tr><td>0.1</td><td>-7.1995</td><td>-7.199</td></tr><tr><td>0.2</td><td>-14.39305</td><td>-14.39207</td></tr><tr><td>0.3</td><td>-21.5748</td><td>-21.57334</td></tr><tr><td>0.4</td><td>-28.739</td><td>-28.73707</td></tr><tr><td>0.5</td><td>-35.88</td><td>-35.8776</td></tr><tr><td>0.6</td><td>-42.99225</td><td>-42.9894</td></tr><tr><td>0.7</td><td>-50.0703</td><td>-50.067</td></tr><tr><td>0.8</td><td>-57.1088</td><td>-57.10507</td></tr><tr><td>0.9</td><td>-64.1025</td><td>-64.09834</td></tr><tr><td>1.0</td><td>-71.04625</td><td>-71.04167</td></tr><tr><td>1.1</td><td>-77.935</td><td>-77.93</td></tr><tr><td>1.2</td><td>-84.7638</td><td>-84.7584</td></tr><tr><td>1.3</td><td>-91.5278</td><td>-91.522</td></tr><tr><td>1.4</td><td>-98.22225</td><td>-98.21607</td></tr><tr><td>1.5</td><td>-104.8425</td><td>-104.83594</td></tr><tr><td>1.6</td><td>-111.384</td><td>-111.37707</td></tr><tr><td>1.7</td><td>-117.8423</td><td>-117.835</td></tr><tr><td>1.8</td><td>-124.21305</td><td>-124.2054</td></tr><tr><td>1.9</td><td>-130.492</td><td>-130.484</td></tr><tr><td>2.0</td><td>-136.675</td><td>-136.66667</td></tr><tr><td>2.1</td><td>-142.758</td><td>-142.74934</td></tr><tr><td>2.2</td><td>-148.73705</td><td>-148.72807</td></tr><tr><td>2.3</td><td>-154.6083</td><td>-154.599</td></tr><tr><td>2.4</td><td>-160.368</td><td>-160.3584</td></tr><tr><td>2.5</td><td>-166.0125</td><td>-166.0026</td></tr><tr><td>2.6</td><td>-171.53825</td><td>-171.52807</td></tr><tr><td>2.7</td><td>-176.9418</td><td>-176.93134</td></tr><tr><td>2.8</td><td>-182.2198</td><td>-182.20907</td></tr><tr><td>2.9</td><td>-187.369</td><td>-187.358</td></tr><tr><td>3.0</td><td>-192.38625</td><td>-192.375</td></tr><tr><td>3.1</td><td>-197.2685</td><td>-197.257</td></tr><tr><td>3.2</td><td>-202.0128</td><td>-202.00107</td></tr><tr><td>3.3</td><td>-206.6163</td><td>-206.60434</td></tr><tr><td>3.4</td><td>-211.07625</td><td>-211.06407</td></tr><tr><td>3.5</td><td>-215.39</td><td>-215.3776</td></tr><tr><td>3.6</td><td>-219.555</td><td>-219.5424</td></tr><tr><td>3.7</td><td>-223.5688</td><td>-223.556</td></tr><tr><td>3.8</td><td>-227.42905</td><td>-227.41607</td></tr><tr><td>3.9</td><td>-231.1335</td><td>-231.12034</td></tr><tr><td>4.0</td><td>-234.68</td><td>-234.66667</td></tr><tr><td>4.1</td><td>-238.0665</td><td>-238.053</td></tr><tr><td>4.2</td><td>-241.29105</td><td>-241.2774</td></tr><tr><td>4.3</td><td>-244.3518</td><td>-244.338</td></tr><tr><td>4.4</td><td>-247.247</td><td>-247.23307</td></tr><tr><td>4.5</td><td>-249.975</td><td>-249.96094</td></tr><tr><td>4.6</td><td>-252.53425</td><td>-252.52007</td></tr><tr><td>4.7</td><td>-254.9233</td><td>-254.909</td></tr><tr><td>4.8</td><td>-257.1408</td><td>-257.1264</td></tr><tr><td>4.9</td><td>-259.1855</td><td>-259.171</td></tr><tr><td>5.0</td><td>-261.05625</td><td>-261.04167</td></tr><tr><td>5.1</td><td>-262.752</td><td>-262.73734</td></tr><tr><td>5.2</td><td>-264.2718</td><td>-264.25707</td></tr><tr><td>5.3</td><td>-265.6148</td><td>-265.6</td></tr><tr><td>5.4</td><td>-266.78025</td><td>-266.7654</td></tr><tr><td>5.5</td><td>-267.7675</td><td>-267.7526</td></tr><tr><td>5.6</td><td>-268.576</td><td>-268.56107</td></tr><tr><td>5.7</td><td>-269.2053</td><td>-269.19034</td></tr><tr><td>5.8</td><td>-269.65505</td><td>-269.64007</td></tr><tr><td>5.9</td><td>-269.925</td><td>-269.91</td></tr><tr><td>6.0</td><td>-270.015</td><td>-270.0</td></tr><tr><td>6.1</td><td>-269.925</td><td>-269.91</td></tr><tr><td>6.2</td><td>-269.65505</td><td>-269.64007</td></tr><tr><td>6.3</td><td>-269.2053</td><td>-269.19034</td></tr><tr><td>6.4</td><td>-268.576</td><td>-268.56107</td></tr><tr><td>6.5</td><td>-267.7675</td><td>-267.7526</td></tr><tr><td>6.6</td><td>-266.78025</td><td>-266.7654</td></tr><tr><td>6.7</td><td>-265.6148</td><td>-265.6</td></tr><tr><td>6.8</td><td>-264.2718</td><td>-264.25707</td></tr><tr><td>6.9</td><td>-262.752</td><td>-262.73734</td></tr><tr><td>7.0</td><td>-261.05625</td><td>-261.04167</td></tr><tr><td>7.1</td><td>-259.1855</td><td>-259.171</td></tr><tr><td>7.2</td><td>-257.1408</td><td>-257.1264</td></tr><tr><td>7.3</td><td>-254.9233</td><td>-254.909</td></tr><tr><td>7.4</td><td>-252.53425</td><td>-252.52007</td></tr><tr><td>7.5</td><td>-249.975</td><td>-249.96094</td></tr><tr><td>7.6</td><td>-247.247</td><td>-247.23307</td></tr><tr><td>7.7</td><td>-244.3518</td><td>-244.338</td></tr><tr><td>7.8</td><td>-241.29105</td><td>-241.2774</td></tr><tr><td>7.9</td><td>-238.0665</td><td>-238.053</td></tr><tr><td>8.0</td><td>-234.68</td><td>-234.66667</td></tr><tr><td>8.1</td><td>-231.1335</td><td>-231.12034</td></tr><tr><td>8.2</td><td>-227.42905</td><td>-227.41607</td></tr><tr><td>8.3</td><td>-223.5688</td><td>-223.556</td></tr><tr><td>8.4</td><td>-219.555</td><td>-219.5424</td></tr><tr><td>8.5</td><td>-215.39</td><td>-215.3776</td></tr><tr><td>8.6</td><td>-211.07625</td><td>-211.06407</td></tr><tr><td>8.7</td><td>-206.6163</td><td>-206.60434</td></tr><tr><td>8.8</td><td>-202.0128</td><td>-202.00107</td></tr><tr><td>8.9</td><td>-197.2685</td><td>-197.257</td></tr><tr><td>9.0</td><td>-192.38625</td><td>-192.375</td></tr><tr><td>9.1</td><td>-187.369</td><td>-187.358</td></tr><tr><td>9.2</td><td>-182.2198</td><td>-182.20907</td></tr><tr><td>9.3</td><td>-176.9418</td><td>-176.93134</td></tr><tr><td>9.4</td><td>-171.53825</td><td>-171.52807</td></tr><tr><td>9.5</td><td>-166.0125</td><td>-166.0026</td></tr><tr><td>9.6</td><td>-160.368</td><td>-160.3584</td></tr><tr><td>9.7</td><td>-154.6083</td><td>-154.599</td></tr><tr><td>9.8</td><td>-148.73705</td><td>-148.72807</td></tr><tr><td>9.9</td><td>-142.758</td><td>-142.74934</td></tr><tr><td>10.0</td><td>-136.675</td><td>-136.66667</td></tr><tr><td>10.1</td><td>-130.492</td><td>-130.484</td></tr><tr><td>10.2</td><td>-124.21305</td><td>-124.2054</td></tr><tr><td>10.3</td><td>-117.8423</td><td>-117.835</td></tr><tr><td>10.4</td><td>-111.384</td><td>-111.37707</td></tr><tr><td>10.5</td><td>-104.8425</td><td>-104.83594</td></tr><tr><td>10.6</td><td>-98.22225</td><td>-98.21607</td></tr><tr><td>10.7</td><td>-91.5278</td><td>-91.522</td></tr><tr><td>10.8</td><td>-84.7638</td><td>-84.7584</td></tr><tr><td>10.9</td><td>-77.935</td><td>-77.93</td></tr><tr><td>11.0</td><td>-71.04625</td><td>-71.04167</td></tr><tr><td>11.1</td><td>-64.1025</td><td>-64.09834</td></tr><tr><td>11.2</td><td>-57.1088</td><td>-57.10507</td></tr><tr><td>11.3</td><td>-50.0703</td><td>-50.067</td></tr><tr><td>11.4</td><td>-42.99225</td><td>-42.9894</td></tr><tr><td>11.5</td><td>-35.88</td><td>-35.8776</td></tr><tr><td>11.6</td><td>-28.739</td><td>-28.73707</td></tr><tr><td>11.7</td><td>-21.5748</td><td>-21.57334</td></tr><tr><td>11.8</td><td>-14.39305</td><td>-14.39207</td></tr><tr><td>11.9</td><td>-7.1995</td><td>-7.199</td></tr><tr><td>12.0</td><td>0.0</td><td>0.0</td></tr></table>"
      ],
      "text/plain": [
       "[['x', 'y_numerical', 'y_actual'],\n",
       " [0.0, 0.0, 0.0],\n",
       " [0.1, -7.1995, -7.199],\n",
       " [0.2, -14.39305, -14.39207],\n",
       " [0.3, -21.5748, -21.57334],\n",
       " [0.4, -28.739, -28.73707],\n",
       " [0.5, -35.88, -35.8776],\n",
       " [0.6, -42.99225, -42.9894],\n",
       " [0.7, -50.0703, -50.067],\n",
       " [0.8, -57.1088, -57.10507],\n",
       " [0.9, -64.1025, -64.09834],\n",
       " [1.0, -71.04625, -71.04167],\n",
       " [1.1, -77.935, -77.93],\n",
       " [1.2, -84.7638, -84.7584],\n",
       " [1.3, -91.5278, -91.522],\n",
       " [1.4, -98.22225, -98.21607],\n",
       " [1.5, -104.8425, -104.83594],\n",
       " [1.6, -111.384, -111.37707],\n",
       " [1.7, -117.8423, -117.835],\n",
       " [1.8, -124.21305, -124.2054],\n",
       " [1.9, -130.492, -130.484],\n",
       " [2.0, -136.675, -136.66667],\n",
       " [2.1, -142.758, -142.74934],\n",
       " [2.2, -148.73705, -148.72807],\n",
       " [2.3, -154.6083, -154.599],\n",
       " [2.4, -160.368, -160.3584],\n",
       " [2.5, -166.0125, -166.0026],\n",
       " [2.6, -171.53825, -171.52807],\n",
       " [2.7, -176.9418, -176.93134],\n",
       " [2.8, -182.2198, -182.20907],\n",
       " [2.9, -187.369, -187.358],\n",
       " [3.0, -192.38625, -192.375],\n",
       " [3.1, -197.2685, -197.257],\n",
       " [3.2, -202.0128, -202.00107],\n",
       " [3.3, -206.6163, -206.60434],\n",
       " [3.4, -211.07625, -211.06407],\n",
       " [3.5, -215.39, -215.3776],\n",
       " [3.6, -219.555, -219.5424],\n",
       " [3.7, -223.5688, -223.556],\n",
       " [3.8, -227.42905, -227.41607],\n",
       " [3.9, -231.1335, -231.12034],\n",
       " [4.0, -234.68, -234.66667],\n",
       " [4.1, -238.0665, -238.053],\n",
       " [4.2, -241.29105, -241.2774],\n",
       " [4.3, -244.3518, -244.338],\n",
       " [4.4, -247.247, -247.23307],\n",
       " [4.5, -249.975, -249.96094],\n",
       " [4.6, -252.53425, -252.52007],\n",
       " [4.7, -254.9233, -254.909],\n",
       " [4.8, -257.1408, -257.1264],\n",
       " [4.9, -259.1855, -259.171],\n",
       " [5.0, -261.05625, -261.04167],\n",
       " [5.1, -262.752, -262.73734],\n",
       " [5.2, -264.2718, -264.25707],\n",
       " [5.3, -265.6148, -265.6],\n",
       " [5.4, -266.78025, -266.7654],\n",
       " [5.5, -267.7675, -267.7526],\n",
       " [5.6, -268.576, -268.56107],\n",
       " [5.7, -269.2053, -269.19034],\n",
       " [5.8, -269.65505, -269.64007],\n",
       " [5.9, -269.925, -269.91],\n",
       " [6.0, -270.015, -270.0],\n",
       " [6.1, -269.925, -269.91],\n",
       " [6.2, -269.65505, -269.64007],\n",
       " [6.3, -269.2053, -269.19034],\n",
       " [6.4, -268.576, -268.56107],\n",
       " [6.5, -267.7675, -267.7526],\n",
       " [6.6, -266.78025, -266.7654],\n",
       " [6.7, -265.6148, -265.6],\n",
       " [6.8, -264.2718, -264.25707],\n",
       " [6.9, -262.752, -262.73734],\n",
       " [7.0, -261.05625, -261.04167],\n",
       " [7.1, -259.1855, -259.171],\n",
       " [7.2, -257.1408, -257.1264],\n",
       " [7.3, -254.9233, -254.909],\n",
       " [7.4, -252.53425, -252.52007],\n",
       " [7.5, -249.975, -249.96094],\n",
       " [7.6, -247.247, -247.23307],\n",
       " [7.7, -244.3518, -244.338],\n",
       " [7.8, -241.29105, -241.2774],\n",
       " [7.9, -238.0665, -238.053],\n",
       " [8.0, -234.68, -234.66667],\n",
       " [8.1, -231.1335, -231.12034],\n",
       " [8.2, -227.42905, -227.41607],\n",
       " [8.3, -223.5688, -223.556],\n",
       " [8.4, -219.555, -219.5424],\n",
       " [8.5, -215.39, -215.3776],\n",
       " [8.6, -211.07625, -211.06407],\n",
       " [8.7, -206.6163, -206.60434],\n",
       " [8.8, -202.0128, -202.00107],\n",
       " [8.9, -197.2685, -197.257],\n",
       " [9.0, -192.38625, -192.375],\n",
       " [9.1, -187.369, -187.358],\n",
       " [9.2, -182.2198, -182.20907],\n",
       " [9.3, -176.9418, -176.93134],\n",
       " [9.4, -171.53825, -171.52807],\n",
       " [9.5, -166.0125, -166.0026],\n",
       " [9.6, -160.368, -160.3584],\n",
       " [9.7, -154.6083, -154.599],\n",
       " [9.8, -148.73705, -148.72807],\n",
       " [9.9, -142.758, -142.74934],\n",
       " [10.0, -136.675, -136.66667],\n",
       " [10.1, -130.492, -130.484],\n",
       " [10.2, -124.21305, -124.2054],\n",
       " [10.3, -117.8423, -117.835],\n",
       " [10.4, -111.384, -111.37707],\n",
       " [10.5, -104.8425, -104.83594],\n",
       " [10.6, -98.22225, -98.21607],\n",
       " [10.7, -91.5278, -91.522],\n",
       " [10.8, -84.7638, -84.7584],\n",
       " [10.9, -77.935, -77.93],\n",
       " [11.0, -71.04625, -71.04167],\n",
       " [11.1, -64.1025, -64.09834],\n",
       " [11.2, -57.1088, -57.10507],\n",
       " [11.3, -50.0703, -50.067],\n",
       " [11.4, -42.99225, -42.9894],\n",
       " [11.5, -35.88, -35.8776],\n",
       " [11.6, -28.739, -28.73707],\n",
       " [11.7, -21.5748, -21.57334],\n",
       " [11.8, -14.39305, -14.39207],\n",
       " [11.9, -7.1995, -7.199],\n",
       " [12.0, 0.0, 0.0]]"
      ]
     },
     "execution_count": 14,
     "metadata": {},
     "output_type": "execute_result"
    }
   ],
   "source": [
    "table = ListTable()\n",
    "table.append(['x', 'y_numerical', 'y_actual'\n",
    "              ])\n",
    "tableSize = N1\n",
    "for i in range (0,tableSize+1):\n",
    "    table.append([round(x1[i],5), round(y_numerical[i],5), round(y_actual[i],5)])\n",
    "    \n",
    "table"
   ]
  },
  {
   "cell_type": "code",
   "execution_count": null,
   "metadata": {},
   "outputs": [],
   "source": []
  }
 ],
 "metadata": {
  "kernelspec": {
   "display_name": "Python 3",
   "language": "python",
   "name": "python3"
  },
  "language_info": {
   "codemirror_mode": {
    "name": "ipython",
    "version": 3
   },
   "file_extension": ".py",
   "mimetype": "text/x-python",
   "name": "python",
   "nbconvert_exporter": "python",
   "pygments_lexer": "ipython3",
   "version": "3.7.4"
  }
 },
 "nbformat": 4,
 "nbformat_minor": 2
}
