{
 "cells": [
  {
   "cell_type": "markdown",
   "metadata": {},
   "source": [
    "# Question 3A: Shooting Method"
   ]
  },
  {
   "cell_type": "markdown",
   "metadata": {},
   "source": [
    "Given the second order differential equation function.\n",
    "\n",
    "$$ \\frac{d^2y}{dx^2} = f(x, y , \\frac{dy}{dx} )$$\n",
    "$$ xy'' - 2xy' +2y = x^3sin(x) $$\n",
    "\n",
    "The Boundary value problem:\n",
    "\n",
    "$$ y(\\frac{\\pi}{2}) = \\frac{1}{20}\\pi^2 - \\pi, \\ and \\ y(2\\pi) = \\frac{4}{5}\\pi^2 - 2\\pi $$\n",
    "\n",
    "The step size $h=\\frac{\\pi}{2}$ the actual $y(x)$ is unknown, we wish to find $y(\\frac{3\\pi}{2})$.\n",
    "\n",
    "We will make a guess of the value $y'(0) = 4$\n",
    "\n",
    "We can then reduce the BVP to simultaneous 1st order equations. These we are IVPs, and we can use IVP methods like Euler's method.\n",
    "$$\n",
    "\\begin{align*}\n",
    "\\frac{dy}{dx} &= z \\\\\n",
    "&= f_1(x, y, z)     \\qquad (1) \\ (\\ note \\ this \\ is \\ just \\ assumed) \\\\\n",
    "\\frac{dz}{dx} &= x^2sin(x) + 2z - 2\\frac{y}{x} \\\\\n",
    "&= f_2(x,y,z) \\qquad (2) \\\\\n",
    "\\end{align*}\n",
    "$$\n",
    "\n",
    "\n",
    "To solve we use an IVP method, we will use EUlers:\n",
    "\n",
    "$$ y_{i+1} = y_i + f_1(x_i, y_i, z_i)h $$\n",
    "$$ z_{i+1} = z_i + f_2(x_i, y_i, z_i)h $$\n",
    "\n",
    "\n"
   ]
  },
  {
   "cell_type": "code",
   "execution_count": 38,
   "metadata": {},
   "outputs": [],
   "source": [
    "## Library\n",
    "import numpy as np\n",
    "import math \n",
    "\n",
    "%matplotlib inline\n",
    "import matplotlib.pyplot as plt # side-stepping mpl backend\n",
    "import matplotlib.gridspec as gridspec # subplots\n",
    "import warnings\n",
    "\n",
    "warnings.filterwarnings(\"ignore\")\n",
    "class ListTable(list):\n",
    "    \"\"\" Overridden list class which takes a 2-dimensional list of \n",
    "        the form [[1,2,3],[4,5,6]], and renders an HTML Table in \n",
    "        IPython Notebook. \"\"\"\n",
    "    \n",
    "    def _repr_html_(self):\n",
    "        html = [\"<table>\"]\n",
    "        for row in self:\n",
    "            html.append(\"<tr>\")\n",
    "            \n",
    "            for col in row:\n",
    "                html.append(\"<td>{0}</td>\".format(col))\n",
    "            \n",
    "            html.append(\"</tr>\")\n",
    "        html.append(\"</table>\")\n",
    "        return ''.join(html)"
   ]
  },
  {
   "cell_type": "markdown",
   "metadata": {},
   "source": [
    "## Defining the Function"
   ]
  },
  {
   "cell_type": "code",
   "execution_count": 39,
   "metadata": {},
   "outputs": [],
   "source": [
    "def myfun_f1(x,y,z):\n",
    "    return (z)\n",
    "\n",
    "def myfun_f2(x,y,z):\n",
    "    return (x**2*math.sin(x) +2*z -2*y/x)\n"
   ]
  },
  {
   "cell_type": "markdown",
   "metadata": {},
   "source": [
    "## Discrete Interval \n",
    "Here we will use a step sizes on the  $ 0 \\leq x \\leq 12 $.\n",
    "### Interval\n",
    "The step Size will be $h_{1} = \\frac{\\pi}{2}\n",
    "\n",
    "with the discrete time steps,\n",
    "$$ x_{i} = 0 + \\frac{\\pi}{2}i $$\n",
    "for  $i=0,1,...,4$.\n",
    "\n"
   ]
  },
  {
   "cell_type": "code",
   "execution_count": 40,
   "metadata": {},
   "outputs": [
    {
     "data": {
      "image/png": "[encoded data removed]",
      "text/plain": [
       "<Figure size 1440x288 with 1 Axes>"
      ]
     },
     "metadata": {
      "needs_background": "light"
     },
     "output_type": "display_data"
    }
   ],
   "source": [
    "# Start and end of interval\n",
    "b=2*math.pi\n",
    "a=math.pi/2\n",
    "# Steps N1=400\n",
    "N1=3\n",
    "\n",
    "h1=math.pi/2\n",
    "\n",
    "x1=np.arange(a,b+h1,h1)\n",
    "\n",
    "\n",
    "fig = plt.figure(figsize=(20,4))\n",
    "plt.plot(x1,0*x1,'s:',color='red',label='Course Grid h=%s'%(h1))\n",
    "\n",
    "\n",
    "plt.xlim((0,2*math.pi))\n",
    "plt.ylim((-0.1,0.1))\n",
    "plt.title('Illustration of discrete time points')\n",
    "plt.legend()\n",
    "plt.show()"
   ]
  },
  {
   "cell_type": "markdown",
   "metadata": {},
   "source": [
    "## Setting up the inital Conditions for our 1st guess\n",
    "$$ w_{1} = \\pi/2 $$\n",
    "$$ z_{1} = 4 $$\n",
    "\n",
    "## Setting up the inital Conditions for our 2nd guess\n",
    "$$ w_{2} = \\pi/2 $$\n",
    "$$ z_{2} = -4 $$"
   ]
  },
  {
   "cell_type": "code",
   "execution_count": 41,
   "metadata": {},
   "outputs": [],
   "source": [
    "## 1st Guess \n",
    "\n",
    "IC_W1=1/20*math.pi**2 - math.pi # Intial condtion\n",
    "IC_Z1=4 # Intial condtion\n",
    "\n",
    "w1 = np.zeros(N1+1)\n",
    "z1 = np.zeros(N1+1)\n",
    "\n",
    "\n",
    "w1[0]=IC_W1\n",
    "z1[0]=IC_Z1\n",
    "\n",
    "## 2nd Guess \n",
    "\n",
    "IC_W2=1/20*math.pi**2 - math.pi  # Intial condtion\n",
    "IC_Z2=-4 # Intial condtion\n",
    "\n",
    "w2 = np.zeros(N1+1)\n",
    "z2 = np.zeros(N1+1)\n",
    "\n",
    "\n",
    "w2[0]=IC_W2\n",
    "z2[0]=IC_Z2\n",
    "\n"
   ]
  },
  {
   "cell_type": "markdown",
   "metadata": {},
   "source": [
    "## Euler Method\n",
    "\n",
    "$$ w_{i+1} = w_{i} + hf_1(x_{i}, w_{i}, z_{i}) $$\n",
    "\n",
    "$$ z_{i+1} = z_{i} + hf_2(x_{i}, w_{i}, z_{i}) $$\n",
    "\n",
    "\n",
    "\n"
   ]
  },
  {
   "cell_type": "code",
   "execution_count": 42,
   "metadata": {},
   "outputs": [
    {
     "data": {
      "text/plain": [
       "Text(0.5, 1.0, 'BVP Shooting Method 1st and 2nd Guesses (z=5,-100) solution')"
      ]
     },
     "execution_count": 42,
     "metadata": {},
     "output_type": "execute_result"
    },
    {
     "data": {
      "image/png": "[encoded data removed]",
      "text/plain": [
       "<Figure size 720x288 with 1 Axes>"
      ]
     },
     "metadata": {
      "needs_background": "light"
     },
     "output_type": "display_data"
    }
   ],
   "source": [
    "\n",
    "for i in range (0,N1):\n",
    "    z1[i+1]=z1[i]+h1*myfun_f2(x1[i], w1[i], z1[i])\n",
    "    w1[i+1]=w1[i]+h1*myfun_f1(x1[i], w1[i], z1[i])\n",
    "    z2[i+1]=z2[i]+h1*myfun_f2(x1[i], w2[i], z2[i])\n",
    "    w2[i+1]=w2[i]+h1*myfun_f1(x1[i], w2[i], z2[i])\n",
    "    \n",
    "    \n",
    "    \n",
    "    \n",
    "fig = plt.figure(figsize=(10,4))\n",
    "plt.plot(x1,w1,'s:',color='blue',label='BVP Shooting Method 1st Guess (Euler)')\n",
    "plt.plot(x1,w2,'*:',color='red',label='BVP Shooting Method 2nd Guess (Euler)')\n",
    "\n",
    "\n",
    "plt.xlim((0,2*math.pi))\n",
    "plt.xlabel('x')\n",
    "plt.legend(loc='best')\n",
    "plt.title('BVP Shooting Method 1st and 2nd Guesses (z=5,-100) solution')\n",
    "\n"
   ]
  },
  {
   "cell_type": "code",
   "execution_count": 43,
   "metadata": {},
   "outputs": [
    {
     "data": {
      "text/html": [
       "<table><tr><td>x</td><td>w1</td><td>z1</td><td>w2</td><td>z2</td></tr><tr><td>1.5708</td><td>-2.64811</td><td>4.0</td><td>-2.64811</td><td>-4.0</td></tr><tr><td>3.14159</td><td>3.63507</td><td>25.73838</td><td>-8.9313</td><td>-7.39436</td></tr><tr><td>4.71239</td><td>44.06483</td><td>102.96281</td><td>-20.54633</td><td>-21.69313</td></tr><tr><td>6.28319</td><td>205.79843</td><td>362.17142</td><td>-54.62183</td><td>-111.02863</td></tr></table>"
      ],
      "text/plain": [
       "[['x', 'w1', 'z1', 'w2', 'z2'],\n",
       " [1.5708, -2.64811, 4.0, -2.64811, -4.0],\n",
       " [3.14159, 3.63507, 25.73838, -8.9313, -7.39436],\n",
       " [4.71239, 44.06483, 102.96281, -20.54633, -21.69313],\n",
       " [6.28319, 205.79843, 362.17142, -54.62183, -111.02863]]"
      ]
     },
     "execution_count": 43,
     "metadata": {},
     "output_type": "execute_result"
    }
   ],
   "source": [
    "table = ListTable()\n",
    "table.append(['x', 'w1', 'z1','w2', 'z2'\n",
    "              ])\n",
    "tableSize = 3\n",
    "for i in range (0,tableSize+1):\n",
    "    table.append([round(x1[i],5), round(w1[i],5), round(z1[i],5), round(w2[i],5), round(z2[i],5)])\n",
    "    \n",
    "table"
   ]
  },
  {
   "cell_type": "markdown",
   "metadata": {},
   "source": [
    "$y'(0)$ | $y_3 \\approx y(12)$ | \n",
    "--- | --- |\n",
    "$p_0$ | $q_0$ | \n",
    "$p_1$ | $q_1$ | \n",
    "\n",
    "\n",
    "Interpolating a more accurate value for $y'(0)$:\n",
    "\n",
    "$$ p = p_0 + \\frac{p_1-p_0}{q_1-q_0}(q-q_0) $$\n",
    "\n",
    "In the example above we have:\n",
    "\n",
    "$y'(0)$ | $y_3 \\approx y(12)$ | \n",
    "--- | --- |\n",
    "4 | 205.798 | \n",
    "-4 | -54.622 | \n",
    "\n",
    "\n",
    "Therefore:\n",
    "\n",
    "$$ p = 4 + \\frac{-4 -4}{-54.622 - 205.798}(q-205.798) $$\n",
    "\n",
    "We want the value of p when $q=1.612$, therefore $p = -2.$\n",
    "\n",
    "We now rerun through the IVP method with y(0) =0 and y'(0) = -70.79508 as the initial conditions.\n"
   ]
  },
  {
   "cell_type": "code",
   "execution_count": 34,
   "metadata": {},
   "outputs": [
    {
     "name": "stdout",
     "output_type": "stream",
     "text": [
      "1.6124982136919002\n",
      "-2.2725053372077193\n"
     ]
    }
   ],
   "source": [
    "## Best Guess\n",
    "EC=4/5*math.pi**2 - 2*math.pi # Intial condtion\n",
    "print(EC)\n",
    "p = z1[0] + (z2[0]-z1[0])/(w2[N1]-w1[N1])*(EC-w1[N1])\n",
    "print(p)\n",
    "\n",
    "IC_W3=1/20*math.pi**2 - math.pi # Intial condtion\n",
    "IC_Z3=p # Intial condtion\n",
    "w3 = np.zeros(N1+1)\n",
    "z3 = np.zeros(N1+1)\n",
    "\n",
    "w3[0]=IC_W3\n",
    "z3[0]=IC_Z3"
   ]
  },
  {
   "cell_type": "code",
   "execution_count": 35,
   "metadata": {},
   "outputs": [
    {
     "data": {
      "text/plain": [
       "Text(0.5, 1.0, 'BVP Shooting Method Best Guess (z=-21.33) solution')"
      ]
     },
     "execution_count": 35,
     "metadata": {},
     "output_type": "execute_result"
    },
    {
     "data": {
      "image/png": "[encoded data removed]",
      "text/plain": [
       "<Figure size 720x288 with 1 Axes>"
      ]
     },
     "metadata": {
      "needs_background": "light"
     },
     "output_type": "display_data"
    }
   ],
   "source": [
    "for i in range (0,N1):\n",
    "    w3[i+1]=w3[i]+h1*myfun_f1(x1[i], w3[i], z3[i])\n",
    "    z3[i+1]=z3[i]+h1*myfun_f2(x1[i], w3[i], z3[i])\n",
    "    \n",
    "    \n",
    "    \n",
    "    \n",
    "fig = plt.figure(figsize=(10,4))\n",
    "plt.plot(x1,w3,'s:',color='green',label='BVP Shooting Method best Guess (Euler)')\n",
    "\n",
    "\n",
    "\n",
    "plt.xlim((0,12))\n",
    "plt.xlabel('x')\n",
    "plt.legend(loc='best')\n",
    "plt.title('BVP Shooting Method Best Guess (z=-21.33) solution')"
   ]
  },
  {
   "cell_type": "code",
   "execution_count": 37,
   "metadata": {},
   "outputs": [
    {
     "data": {
      "text/html": [
       "<table><tr><td>x</td><td>w1</td><td>z1</td><td>w2</td><td>z2</td><td>w3</td><td>z3</td></tr><tr><td>4.71239</td><td>44.06483</td><td>102.96281</td><td>-20.54633</td><td>-21.69313</td><td>-6.5944</td><td>5.22468</td></tr><tr><td>6.28319</td><td>205.79843</td><td>362.17142</td><td>-54.62183</td><td>-111.02863</td><td>1.6125</td><td>-8.84731</td></tr></table>"
      ],
      "text/plain": [
       "[['x', 'w1', 'z1', 'w2', 'z2', 'w3', 'z3'],\n",
       " [4.71239, 44.06483, 102.96281, -20.54633, -21.69313, -6.5944, 5.22468],\n",
       " [6.28319, 205.79843, 362.17142, -54.62183, -111.02863, 1.6125, -8.84731]]"
      ]
     },
     "execution_count": 37,
     "metadata": {},
     "output_type": "execute_result"
    }
   ],
   "source": [
    "table = ListTable()\n",
    "table.append(['x', 'w1', 'z1','w2', 'z2', 'w3', 'z3'\n",
    "              ])\n",
    "\n",
    "table.append([round(x1[int(4/h1)],5), round(w1[int(4/h1)],5), round(z1[int(4/h1)],5), \n",
    "              round(w2[int(4/h1)],5), round(z2[int(4/h1)],5), \n",
    "                 round(w3[int(4/h1)],5), round(z3[int(4/h1)],5)])\n",
    "table.append([round(x1[N1],5), round(w1[N1],5), round(z1[N1],5), round(w2[N1],5), round(z2[N1],5), \n",
    "                 round(w3[N1],5), round(z3[N1],5)])\n",
    "\n",
    "\"\"\"\n",
    "tableSize = 3\n",
    "for i in range (0,tableSize+1):\n",
    "    table.append([round(x1[i],5), round(w1[i],5), round(z1[i],5), round(w2[i],5), round(z2[i],5), \n",
    "                 round(w3[i],5), round(z3[i],5)])\n",
    "\"\"\"\n",
    "    \n",
    "table"
   ]
  },
  {
   "cell_type": "code",
   "execution_count": null,
   "metadata": {},
   "outputs": [],
   "source": []
  },
  {
   "cell_type": "code",
   "execution_count": null,
   "metadata": {},
   "outputs": [],
   "source": []
  }
 ],
 "metadata": {
  "kernelspec": {
   "display_name": "Python 3",
   "language": "python",
   "name": "python3"
  },
  "language_info": {
   "codemirror_mode": {
    "name": "ipython",
    "version": 3
   },
   "file_extension": ".py",
   "mimetype": "text/x-python",
   "name": "python",
   "nbconvert_exporter": "python",
   "pygments_lexer": "ipython3",
   "version": "3.7.4"
  }
 },
 "nbformat": 4,
 "nbformat_minor": 2
}
