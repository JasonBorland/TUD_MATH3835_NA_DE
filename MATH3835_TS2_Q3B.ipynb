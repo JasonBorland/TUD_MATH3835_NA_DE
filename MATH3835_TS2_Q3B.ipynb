{
 "cells": [
  {
   "cell_type": "markdown",
   "metadata": {},
   "source": [
    "# Question 3B: Shooting Method"
   ]
  },
  {
   "cell_type": "markdown",
   "metadata": {},
   "source": [
    "Given the second order differential equation function.\n",
    "\n",
    "$$ \\frac{d^2y}{dx^2} = f(x, y , \\frac{dy}{dx} )$$\n",
    "$$ xy'' - 2xy' +2y = x^3sin(x) $$\n",
    "\n",
    "The Boundary value problem:\n",
    "\n",
    "$$ y(\\frac{\\pi}{2}) = \\frac{1}{20}\\pi^2 - \\pi, \\ and \\ y(2\\pi) = \\frac{4}{5}\\pi^2 - 2\\pi $$\n",
    "\n",
    "The step size $h=\\frac{\\pi}{20}$ the actual $y(x)$ is unknown, we wish to find $y(\\frac{3\\pi}{2})$.\n",
    "\n",
    "We will make a guess of the value $y'(0) = 4$\n",
    "\n",
    "We can then reduce the BVP to simultaneous 1st order equations. These we are IVPs, and we can use IVP methods like Euler's method.\n",
    "$$\n",
    "\\begin{align*}\n",
    "\\frac{dy}{dx} &= z \\\\\n",
    "&= f_1(x, y, z)     \\qquad (1) \\ (\\ note \\ this \\ is \\ just \\ assumed) \\\\\n",
    "\\frac{dz}{dx} &= x^2sin(x) + 2z - 2\\frac{y}{x} \\\\\n",
    "&= f_2(x,y,z) \\qquad (2) \\\\\n",
    "\\end{align*}\n",
    "$$\n",
    "\n",
    "\n",
    "To solve we use an IVP method, we will use EUlers:\n",
    "\n",
    "$$ y_{i+1} = y_i + f_1(x_i, y_i, z_i)h $$\n",
    "$$ z_{i+1} = z_i + f_2(x_i, y_i, z_i)h $$\n",
    "\n",
    "\n"
   ]
  },
  {
   "cell_type": "code",
   "execution_count": 1,
   "metadata": {},
   "outputs": [],
   "source": [
    "## Library\n",
    "import numpy as np\n",
    "import math \n",
    "\n",
    "%matplotlib inline\n",
    "import matplotlib.pyplot as plt # side-stepping mpl backend\n",
    "import matplotlib.gridspec as gridspec # subplots\n",
    "import warnings\n",
    "\n",
    "warnings.filterwarnings(\"ignore\")\n",
    "class ListTable(list):\n",
    "    \"\"\" Overridden list class which takes a 2-dimensional list of \n",
    "        the form [[1,2,3],[4,5,6]], and renders an HTML Table in \n",
    "        IPython Notebook. \"\"\"\n",
    "    \n",
    "    def _repr_html_(self):\n",
    "        html = [\"<table>\"]\n",
    "        for row in self:\n",
    "            html.append(\"<tr>\")\n",
    "            \n",
    "            for col in row:\n",
    "                html.append(\"<td>{0}</td>\".format(col))\n",
    "            \n",
    "            html.append(\"</tr>\")\n",
    "        html.append(\"</table>\")\n",
    "        return ''.join(html)"
   ]
  },
  {
   "cell_type": "markdown",
   "metadata": {},
   "source": [
    "## Defining the Function"
   ]
  },
  {
   "cell_type": "code",
   "execution_count": 2,
   "metadata": {},
   "outputs": [],
   "source": [
    "def myfun_f1(x,y,z):\n",
    "    return (z)\n",
    "\n",
    "def myfun_f2(x,y,z):\n",
    "    return (x**2*math.sin(x) +2*z -2*y/x)\n"
   ]
  },
  {
   "cell_type": "markdown",
   "metadata": {},
   "source": [
    "## Discrete Interval \n",
    "Here we will use a step sizes on the  $ \\frac{\\pi}{2} \\leq x \\leq 2\\pi $.\n",
    "### Interval\n",
    "The step Size will be $h_{1} = \\frac{\\pi}{20}$\n",
    "\n",
    "with the discrete time steps,\n",
    "$$ x_{i} = 0 + \\frac{\\pi}{20}i $$\n",
    "for  $i=0,1,...,30$.\n",
    "\n"
   ]
  },
  {
   "cell_type": "code",
   "execution_count": 3,
   "metadata": {},
   "outputs": [
    {
     "data": {
      "image/png": "[encoded data removed]",
      "text/plain": [
       "<Figure size 1440x288 with 1 Axes>"
      ]
     },
     "metadata": {
      "needs_background": "light"
     },
     "output_type": "display_data"
    }
   ],
   "source": [
    "# Start and end of interval\n",
    "b=2*math.pi\n",
    "a=math.pi/2\n",
    "# Steps N1=400\n",
    "N1=30\n",
    "\n",
    "h1=math.pi/20\n",
    "\n",
    "x1=np.arange(a,b+h1,h1)\n",
    "\n",
    "\n",
    "fig = plt.figure(figsize=(20,4))\n",
    "plt.plot(x1,0*x1,'s:',color='red',label='Course Grid h=%s'%(h1))\n",
    "\n",
    "\n",
    "plt.xlim((0,2*math.pi))\n",
    "plt.ylim((-0.1,0.1))\n",
    "plt.title('Illustration of discrete time points')\n",
    "plt.legend()\n",
    "plt.show()"
   ]
  },
  {
   "cell_type": "markdown",
   "metadata": {},
   "source": [
    "## Setting up the inital Conditions for our 1st guess\n",
    "$$ w_{1} = \\pi/2 $$\n",
    "$$ z_{1} = 4 $$\n",
    "\n",
    "## Setting up the inital Conditions for our 2nd guess\n",
    "$$ w_{2} = \\pi/2 $$\n",
    "$$ z_{2} = -4 $$"
   ]
  },
  {
   "cell_type": "code",
   "execution_count": 4,
   "metadata": {},
   "outputs": [],
   "source": [
    "## 1st Guess \n",
    "\n",
    "IC_W1=1/20*math.pi**2 - math.pi # Intial condtion\n",
    "IC_Z1=4 # Intial condtion\n",
    "\n",
    "w1 = np.zeros(N1+1)\n",
    "z1 = np.zeros(N1+1)\n",
    "\n",
    "\n",
    "w1[0]=IC_W1\n",
    "z1[0]=IC_Z1\n",
    "\n",
    "## 2nd Guess \n",
    "\n",
    "IC_W2=1/20*math.pi**2 - math.pi  # Intial condtion\n",
    "IC_Z2=-4 # Intial condtion\n",
    "\n",
    "w2 = np.zeros(N1+1)\n",
    "z2 = np.zeros(N1+1)\n",
    "\n",
    "\n",
    "w2[0]=IC_W2\n",
    "z2[0]=IC_Z2\n",
    "\n"
   ]
  },
  {
   "cell_type": "markdown",
   "metadata": {},
   "source": [
    "## Euler Method\n",
    "\n",
    "$$ w_{i+1} = w_{i} + hf_1(x_{i}, w_{i}, z_{i}) $$\n",
    "\n",
    "$$ z_{i+1} = z_{i} + hf_2(x_{i}, w_{i}, z_{i}) $$\n",
    "\n",
    "\n",
    "\n"
   ]
  },
  {
   "cell_type": "code",
   "execution_count": 5,
   "metadata": {},
   "outputs": [
    {
     "data": {
      "text/plain": [
       "Text(0.5, 1.0, 'BVP Shooting Method 1st and 2nd Guesses (z=4,-4) solution')"
      ]
     },
     "execution_count": 5,
     "metadata": {},
     "output_type": "execute_result"
    },
    {
     "data": {
      "image/png": "[encoded data removed]",
      "text/plain": [
       "<Figure size 720x288 with 1 Axes>"
      ]
     },
     "metadata": {
      "needs_background": "light"
     },
     "output_type": "display_data"
    }
   ],
   "source": [
    "\n",
    "for i in range (0,N1):\n",
    "    z1[i+1]=z1[i]+h1*myfun_f2(x1[i], w1[i], z1[i])\n",
    "    w1[i+1]=w1[i]+h1*myfun_f1(x1[i], w1[i], z1[i])\n",
    "    z2[i+1]=z2[i]+h1*myfun_f2(x1[i], w2[i], z2[i])\n",
    "    w2[i+1]=w2[i]+h1*myfun_f1(x1[i], w2[i], z2[i])\n",
    "    \n",
    "    \n",
    "    \n",
    "    \n",
    "fig = plt.figure(figsize=(10,4))\n",
    "plt.plot(x1,w1,'s:',color='blue',label='BVP Shooting Method 1st Guess (Euler)')\n",
    "plt.plot(x1,w2,'*:',color='red',label='BVP Shooting Method 2nd Guess (Euler)')\n",
    "\n",
    "\n",
    "plt.xlim((0,2*math.pi))\n",
    "plt.xlabel('x')\n",
    "plt.legend(loc='best')\n",
    "plt.title('BVP Shooting Method 1st and 2nd Guesses (z=4,-4) solution')\n",
    "\n"
   ]
  },
  {
   "cell_type": "code",
   "execution_count": 7,
   "metadata": {},
   "outputs": [
    {
     "data": {
      "text/html": [
       "<table><tr><td>x</td><td>w1</td><td>z1</td><td>w2</td><td>z2</td></tr><tr><td>1.5708</td><td>-2.64811</td><td>4.0</td><td>-2.64811</td><td>-4.0</td></tr><tr><td>1.72788</td><td>-2.01979</td><td>6.17384</td><td>-3.27643</td><td>-4.33944</td></tr><tr><td>1.88496</td><td>-1.05001</td><td>8.94384</td><td>-3.95807</td><td>-4.6438</td></tr><tr><td>2.04204</td><td>0.35489</td><td>12.45943</td><td>-4.68751</td><td>-4.91222</td></tr><tr><td>2.19911</td><td>2.31201</td><td>16.90269</td><td>-5.45912</td><td>-5.15066</td></tr><tr><td>2.35619</td><td>4.96708</td><td>22.49711</td><td>-6.26819</td><td>-5.37434</td></tr><tr><td>2.51327</td><td>8.50091</td><td>29.51914</td><td>-7.11239</td><td>-5.61035</td></tr><tr><td>2.67035</td><td>13.13777</td><td>38.31344</td><td>-7.99366</td><td>-5.90065</td></tr><tr><td>2.82743</td><td>19.15603</td><td>49.31286</td><td>-8.92053</td><td>-6.30544</td></tr><tr><td>2.98451</td><td>26.90208</td><td>63.06455</td><td>-9.91099</td><td>-6.90714</td></tr><tr><td>3.14159</td><td>36.80823</td><td>80.26395</td><td>-10.99596</td><td>-7.81494</td></tr><tr><td>3.29867</td><td>49.41607</td><td>101.79879</td><td>-12.22353</td><td>-9.17048</td></tr><tr><td>3.45575</td><td>65.40658</td><td>128.80615</td><td>-13.66402</td><td>-11.15471</td></tr><tr><td>3.61283</td><td>85.6394</td><td>162.74606</td><td>-15.4162</td><td>-13.99656</td></tr><tr><td>3.76991</td><td>111.2035</td><td>205.49653</td><td>-17.61477</td><td>-17.98398</td></tr><tr><td>3.92699</td><td>143.48281</td><td>259.476</td><td>-20.43969</td><td>-23.47812</td></tr><tr><td>4.08407</td><td>184.24121</td><td>327.8013</td><td>-24.12763</td><td>-30.93168</td></tr><tr><td>4.24115</td><td>235.73212</td><td>414.49106</td><td>-28.98636</td><td>-40.91283</td></tr><tr><td>4.39823</td><td>300.84022</td><td>524.72814</td><td>-35.41294</td><td>-54.13633</td></tr><tr><td>4.55531</td><td>383.26432</td><td>665.19786</td><td>-43.91665</td><td>-71.50416</td></tr><tr><td>4.71239</td><td>487.75336</td><td>844.52451</td><td>-55.1485</td><td>-94.15853</td></tr><tr><td>4.86947</td><td>620.41096</td><td>1073.83461</td><td>-69.93889</td><td>-123.55094</td></tr><tr><td>5.02655</td><td>789.08851</td><td>1367.48442</td><td>-89.34622</td><td>-161.5322</td></tr><tr><td>5.18363</td><td>1003.89246</td><td>1743.99973</td><td>-114.71964</td><td>-210.46946</td></tr><tr><td>5.34071</td><td>1277.83929</td><td>2227.29074</td><td>-147.78011</td><td>-273.39838</td></tr><tr><td>5.49779</td><td>1627.7013</td><td>2848.22302</td><td>-190.72543</td><td>-354.2208</td></tr><tr><td>5.65487</td><td>2075.09913</td><td>3646.64994</td><td>-246.3663</td><td>-457.96117</td></tr><tr><td>5.81195</td><td>2647.91356</td><td>4674.04307</td><td>-318.30267</td><td>-591.09936</td></tr><tr><td>5.96903</td><td>3382.11053</td><td>5996.89769</td><td>-411.15234</td><td>-762.002</td></tr><tr><td>6.12611</td><td>4324.10102</td><td>7701.1434</td><td>-530.84733</td><td>-981.48184</td></tr><tr><td>6.28319</td><td>5533.7938</td><td>9897.85798</td><td>-685.01814</td><td>-1263.52271</td></tr></table>"
      ],
      "text/plain": [
       "[['x', 'w1', 'z1', 'w2', 'z2'],\n",
       " [1.5708, -2.64811, 4.0, -2.64811, -4.0],\n",
       " [1.72788, -2.01979, 6.17384, -3.27643, -4.33944],\n",
       " [1.88496, -1.05001, 8.94384, -3.95807, -4.6438],\n",
       " [2.04204, 0.35489, 12.45943, -4.68751, -4.91222],\n",
       " [2.19911, 2.31201, 16.90269, -5.45912, -5.15066],\n",
       " [2.35619, 4.96708, 22.49711, -6.26819, -5.37434],\n",
       " [2.51327, 8.50091, 29.51914, -7.11239, -5.61035],\n",
       " [2.67035, 13.13777, 38.31344, -7.99366, -5.90065],\n",
       " [2.82743, 19.15603, 49.31286, -8.92053, -6.30544],\n",
       " [2.98451, 26.90208, 63.06455, -9.91099, -6.90714],\n",
       " [3.14159, 36.80823, 80.26395, -10.99596, -7.81494],\n",
       " [3.29867, 49.41607, 101.79879, -12.22353, -9.17048],\n",
       " [3.45575, 65.40658, 128.80615, -13.66402, -11.15471],\n",
       " [3.61283, 85.6394, 162.74606, -15.4162, -13.99656],\n",
       " [3.76991, 111.2035, 205.49653, -17.61477, -17.98398],\n",
       " [3.92699, 143.48281, 259.476, -20.43969, -23.47812],\n",
       " [4.08407, 184.24121, 327.8013, -24.12763, -30.93168],\n",
       " [4.24115, 235.73212, 414.49106, -28.98636, -40.91283],\n",
       " [4.39823, 300.84022, 524.72814, -35.41294, -54.13633],\n",
       " [4.55531, 383.26432, 665.19786, -43.91665, -71.50416],\n",
       " [4.71239, 487.75336, 844.52451, -55.1485, -94.15853],\n",
       " [4.86947, 620.41096, 1073.83461, -69.93889, -123.55094],\n",
       " [5.02655, 789.08851, 1367.48442, -89.34622, -161.5322],\n",
       " [5.18363, 1003.89246, 1743.99973, -114.71964, -210.46946],\n",
       " [5.34071, 1277.83929, 2227.29074, -147.78011, -273.39838],\n",
       " [5.49779, 1627.7013, 2848.22302, -190.72543, -354.2208],\n",
       " [5.65487, 2075.09913, 3646.64994, -246.3663, -457.96117],\n",
       " [5.81195, 2647.91356, 4674.04307, -318.30267, -591.09936],\n",
       " [5.96903, 3382.11053, 5996.89769, -411.15234, -762.002],\n",
       " [6.12611, 4324.10102, 7701.1434, -530.84733, -981.48184],\n",
       " [6.28319, 5533.7938, 9897.85798, -685.01814, -1263.52271]]"
      ]
     },
     "execution_count": 7,
     "metadata": {},
     "output_type": "execute_result"
    }
   ],
   "source": [
    "table = ListTable()\n",
    "table.append(['x', 'w1', 'z1','w2', 'z2'\n",
    "              ])\n",
    "tableSize = 30\n",
    "for i in range (0,tableSize+1):\n",
    "    table.append([round(x1[i],5), round(w1[i],5), round(z1[i],5), round(w2[i],5), round(z2[i],5)])\n",
    "    \n",
    "table"
   ]
  },
  {
   "cell_type": "markdown",
   "metadata": {},
   "source": [
    "$y'(0)$ | $y_3 \\approx y(12)$ | \n",
    "--- | --- |\n",
    "$p_0$ | $q_0$ | \n",
    "$p_1$ | $q_1$ | \n",
    "\n",
    "\n",
    "Interpolating a more accurate value for $y'(0)$:\n",
    "\n",
    "$$ p = p_0 + \\frac{p_1-p_0}{q_1-q_0}(q-q_0) $$\n",
    "\n",
    "In the example above we have:\n",
    "\n",
    "$y'(0)$ | $y_3 \\approx y(12)$ | \n",
    "--- | --- |\n",
    "4 | 205.798 | \n",
    "-4 | -54.622 | \n",
    "\n",
    "\n",
    "Therefore:\n",
    "\n",
    "$$ p = 4 + \\frac{-4 -4}{-54.622 - 205.798}(q-205.798) $$\n",
    "\n",
    "We want the value of p when $q=1.612$, therefore $p = -2.$\n",
    "\n",
    "We now rerun through the IVP method with y(0) =0 and y'(0) = -70.79508 as the initial conditions.\n"
   ]
  },
  {
   "cell_type": "code",
   "execution_count": 8,
   "metadata": {},
   "outputs": [
    {
     "name": "stdout",
     "output_type": "stream",
     "text": [
      "1.6124982136919002\n",
      "-3.116705061014798\n"
     ]
    }
   ],
   "source": [
    "## Best Guess\n",
    "EC=4/5*math.pi**2 - 2*math.pi # Intial condtion\n",
    "print(EC)\n",
    "p = z1[0] + (z2[0]-z1[0])/(w2[N1]-w1[N1])*(EC-w1[N1])\n",
    "print(p)\n",
    "\n",
    "IC_W3=1/20*math.pi**2 - math.pi # Intial condtion\n",
    "IC_Z3=p # Intial condtion\n",
    "w3 = np.zeros(N1+1)\n",
    "z3 = np.zeros(N1+1)\n",
    "\n",
    "w3[0]=IC_W3\n",
    "z3[0]=IC_Z3"
   ]
  },
  {
   "cell_type": "code",
   "execution_count": 11,
   "metadata": {},
   "outputs": [
    {
     "data": {
      "text/plain": [
       "Text(0.5, 1.0, 'BVP Shooting Method Best Guess (z=-3.1167) solution')"
      ]
     },
     "execution_count": 11,
     "metadata": {},
     "output_type": "execute_result"
    },
    {
     "data": {
      "image/png": "[encoded data removed]",
      "text/plain": [
       "<Figure size 720x288 with 1 Axes>"
      ]
     },
     "metadata": {
      "needs_background": "light"
     },
     "output_type": "display_data"
    }
   ],
   "source": [
    "for i in range (0,N1):\n",
    "    w3[i+1]=w3[i]+h1*myfun_f1(x1[i], w3[i], z3[i])\n",
    "    z3[i+1]=z3[i]+h1*myfun_f2(x1[i], w3[i], z3[i])\n",
    "    \n",
    "    \n",
    "    \n",
    "    \n",
    "fig = plt.figure(figsize=(10,4))\n",
    "plt.plot(x1,w3,'s:',color='green',label='BVP Shooting Method best Guess (Euler)')\n",
    "\n",
    "\n",
    "\n",
    "plt.xlim((0,12))\n",
    "plt.xlabel('x')\n",
    "plt.legend(loc='best')\n",
    "plt.title('BVP Shooting Method Best Guess (z=-3.1167) solution')"
   ]
  },
  {
   "cell_type": "code",
   "execution_count": 12,
   "metadata": {},
   "outputs": [
    {
     "data": {
      "text/html": [
       "<table><tr><td>x</td><td>w1</td><td>z1</td><td>w2</td><td>z2</td><td>w3</td><td>z3</td></tr><tr><td>5.49779</td><td>1627.7013</td><td>2848.22302</td><td>-190.72543</td><td>-354.2208</td><td>10.05047</td><td>-0.63299</td></tr><tr><td>6.28319</td><td>5533.7938</td><td>9897.85798</td><td>-685.01814</td><td>-1263.52271</td><td>1.6125</td><td>-31.17382</td></tr></table>"
      ],
      "text/plain": [
       "[['x', 'w1', 'z1', 'w2', 'z2', 'w3', 'z3'],\n",
       " [5.49779, 1627.7013, 2848.22302, -190.72543, -354.2208, 10.05047, -0.63299],\n",
       " [6.28319, 5533.7938, 9897.85798, -685.01814, -1263.52271, 1.6125, -31.17382]]"
      ]
     },
     "execution_count": 12,
     "metadata": {},
     "output_type": "execute_result"
    }
   ],
   "source": [
    "table = ListTable()\n",
    "table.append(['x', 'w1', 'z1','w2', 'z2', 'w3', 'z3'\n",
    "              ])\n",
    "\n",
    "table.append([round(x1[int(4/h1)],5), round(w1[int(4/h1)],5), round(z1[int(4/h1)],5), \n",
    "              round(w2[int(4/h1)],5), round(z2[int(4/h1)],5), \n",
    "                 round(w3[int(4/h1)],5), round(z3[int(4/h1)],5)])\n",
    "table.append([round(x1[N1],5), round(w1[N1],5), round(z1[N1],5), round(w2[N1],5), round(z2[N1],5), \n",
    "                 round(w3[N1],5), round(z3[N1],5)])\n",
    "\n",
    "\"\"\"\n",
    "tableSize = 3\n",
    "for i in range (0,tableSize+1):\n",
    "    table.append([round(x1[i],5), round(w1[i],5), round(z1[i],5), round(w2[i],5), round(z2[i],5), \n",
    "                 round(w3[i],5), round(z3[i],5)])\n",
    "\"\"\"\n",
    "    \n",
    "table"
   ]
  },
  {
   "cell_type": "code",
   "execution_count": null,
   "metadata": {},
   "outputs": [],
   "source": []
  },
  {
   "cell_type": "code",
   "execution_count": null,
   "metadata": {},
   "outputs": [],
   "source": []
  }
 ],
 "metadata": {
  "kernelspec": {
   "display_name": "Python 3",
   "language": "python",
   "name": "python3"
  },
  "language_info": {
   "codemirror_mode": {
    "name": "ipython",
    "version": 3
   },
   "file_extension": ".py",
   "mimetype": "text/x-python",
   "name": "python",
   "nbconvert_exporter": "python",
   "pygments_lexer": "ipython3",
   "version": "3.7.4"
  }
 },
 "nbformat": 4,
 "nbformat_minor": 2
}
