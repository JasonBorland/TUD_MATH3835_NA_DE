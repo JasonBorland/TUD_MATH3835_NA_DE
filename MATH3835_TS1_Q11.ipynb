{
 "cells": [
  {
   "cell_type": "markdown",
   "metadata": {},
   "source": [
    "# Question 11: Derive the difference equation for the one-step, then the 3-step Adams Bashforth Method"
   ]
  },
  {
   "cell_type": "markdown",
   "metadata": {},
   "source": [
    "## What is the Multi-step Method ?\n",
    "\n",
    "### 1. Single Step (Euler, Runga-Kutta)\n",
    "Estimates of $y_{i+1}$ depends on $y_i$ and $x_i$.\n",
    "\n",
    "### 2. Multi-step Methods (Adams)\n",
    "A 2-step method implies $y_{i+1}$ is dependent on $y_i \\ and \\ y_{i-1}, \\ and \\ x_i \\ and \\ x_{i-1}$.\n",
    "\n",
    "A 3-step method implies $y_{i+1}$ is dependent on $y_i, \\ y_{i-1} \\ and \\ y_{i-2}, \\ and \\ x_i, \\ x_{i-1}, \\ and \\ x_{i-2}$.\n",
    "\n",
    "This is an auto-regressive process dependent on prior data points.\n",
    "\n",
    "THe Adams Bashforth method is based on an interpolating polynomial.  We require a Lagrange polynomial to derive the formula.\n",
    "\n",
    "### 3. Lagrange Polynomials\n",
    "Given k points from a function $f(x)$ you can write a polynomial of k-1 degrees called a Lagrange polynomial.\n",
    "\n",
    "The general formula is:\n",
    "\n",
    "$$ f(x) \\approx L_n(x) = \\frac{f(x_0)(x-x_1)(x-x_2) \\cdots (x-x_n)}{(x_0-x_1)(x_0-x_2) \\cdots (x_0-x_n)}  + \\cdots + \\frac{f(x_n)(x-x_0)(x-x_1) \\cdots (x-x_{n-1})}{(x_n-x_0)(x_n-x_1) \\cdots (x_n-x_{n-1})}  \\quad (1)$$\n",
    "\n",
    "\n",
    "\n",
    "### Lagrange order 1\n",
    "$$ L_1(x) = f(x_1)  \\quad (3)$$\n",
    "\n",
    "### Lagrange order 2\n",
    "$$ L_2(x) = \\frac{f(x_0)(x-x_1)}{(x_0-x_1)} + \\frac{f(x_1)(x-x_0)}{(x_1-x_0)} \\quad (4)$$\n",
    "\n",
    "\n",
    "### Lagrange order 3\n",
    "$$ L_3(x) = \\frac{f(x_0)(x-x_1)(x-x_2)}{(x_0-x_1)(x_0-x_2)} + \\frac{f(x_1)(x-x_0)(x-x_2)}{(x_1-x_0)(x_1-x_2)} + \\frac{f(x_2)(x-x_0)(x-x_1)}{(x_2-x_0)(x_2-x_1)} \\quad (5)$$\n",
    "\n",
    "\n",
    "\n",
    "\n"
   ]
  },
  {
   "cell_type": "markdown",
   "metadata": {},
   "source": [
    "The method relies on the integral version of our problem:\n",
    "\n",
    "$$ y' = \\frac{y_{n+1} - y_n}{h}  \\quad \\Rightarrow y_{n+1} = y_n + hy' $$\n",
    "\n",
    "$$ y(x_{n+1}) = y(x_n) + \\int_{x_n}^{x_{n+1}} f(t,y(t)) dt  \\quad (6)$$\n",
    "\n",
    "with know points $(x_{n-1}, y_{n-1}), (x_n,y_n)$\n"
   ]
  },
  {
   "cell_type": "markdown",
   "metadata": {},
   "source": [
    "#### Lagrangian of order 1\n",
    "with know points $(x_n,y_n)$\n",
    "$$ \n",
    "\\begin{align*}\n",
    "\\int_{x_n}^{x_{n+1}} f(t,y(t)) dt & \\approx \\int_{x_n}^{x_{n+1}} L_1(t) dt \\\\\n",
    "&= \\int_{x_n}^{x_{n+1}} \\Big [ f(x_n,y_n) \\Big ] dt \\\\\n",
    "&= f(x_n,y_n)[x_{n+1} - x_n] \\\\\n",
    "&= hf(x_n,y_n) \\\\\n",
    "\\end{align*}\n",
    "$$\n",
    "\n",
    "Therefore the Adams-Bashforth Method of order 1: \n",
    "$$y(x_{n+1}) = y(x_n) + hf(x_n,y(x_n))$$\n"
   ]
  },
  {
   "cell_type": "markdown",
   "metadata": {},
   "source": [
    "### Lagrangian of order 2\n",
    "with known points $(x_{n-1}, y_{n-1}), (x_n,y_n)$\n",
    "\n",
    "$$ \n",
    "\\begin{align*}\n",
    "\\int_{x_n}^{x_{n+1}} f(t,y(t)) dt & \\approx \\int_{x_n}^{x_{n+1}} L_2(t) dt \\\\\n",
    "&= \\int_{x_n}^{x_{n+1}} \\Big [f(x_{n-1},y_{n-1})\\frac{(t-x_n)}{(x_{n-1}-x_n)} + f(x_n,y_n)\\frac{(t-x_{n-1})}{(x_n-x_{n-1})}  \\Big ] dt \\\\\n",
    "\\end{align*}\n",
    "$$\n",
    "\n",
    "Using a substitution $t = x_n + sh$\n",
    "\n",
    "$$ \n",
    "\\begin{align*}\n",
    "\\int_{x_n}^{x_{n+1}} \\Big [ \\frac{(t-x_{n-1})}{(x_{n}-x_{n-1})} \\Big ] dt  &=  h\\int_{0}^{1}(s+1)ds = \\frac{3h}{2} \\\\\n",
    "\\int_{x_n}^{x_{n+1}} \\Big [ \\frac{(t-x_n)}{(x_{n-1}-x_n)} \\Big ] dt  &=  -h\\int_{0}^{1}(s)ds = \\frac{-h}{2} \\\\\n",
    "\\end{align*}\n",
    "$$\n",
    "\n",
    "\n",
    "Therefore the Adams-Bashforth Method of Order 2:\n",
    "$$ y(x_{n+1}) = y(x_n) + \\frac{h}{2}[3f(x_n,y(x_n)) - f(x_{n-1},y(x_{n-1}))] $$\n",
    "\n",
    "\n"
   ]
  },
  {
   "cell_type": "markdown",
   "metadata": {},
   "source": [
    "### Lagrangian of order 3\n",
    "with known points $(x_{n-2}, y_{n-2}), (x_{n-1}, y_{n-1}), (x_n,y_n)$\n",
    "$$\\int_{x_n}^{x_{n+1}} f(t,y(t)) dt  \\approx \\int_{x_n}^{x_{n+1}} L_2(t) dt$$\n",
    "$$ \n",
    "\\begin{align*}\n",
    "= \\int_{x_n}^{x_{n+1}} \\Big [f(x_{n-2},y_{n-2})\\frac{(t-x_{n-1})(t-x_{n})}{(x_{n-2}-x_{n-1})(x_{n-2}-x_n)} + f(x_{n-1},y_{n-1})\\frac{(t-x_{n-2})(t-x_n)}{(x_{n-1}-x_{n-2})(x_{n-1}-x_n)} + f(x_n,y_n)\\frac{(t-x_{n-2})(t-x_{n-1})}{(x_n-x_{n-2})(x_n-x_{n-1})}  \\Big ] dt \\\\\n",
    "\\end{align*}\n",
    "$$\n",
    "\n",
    "Using substitution $t = x_n + sh$\n",
    "\n",
    "$$ \n",
    "\\begin{align*}\n",
    "\\int_{x_n}^{x_{n+1}} \\Big [ \\frac{(t-x_{n-1})(t-x_n)}{(x_{n-2}-x_{n-1})(x_{n-2}-x_n)} \\Big ] dt  &=  \\frac{h}{2}\\int_{0}^{1}(s+s^2)ds = \\frac{5h}{12} \\\\\n",
    "\\int_{x_n}^{x_{n+1}} \\Big [ \\frac{(t-x_{n-2})(t-x_n)}{(x_{n-1}-x_{n-2})(x_{n-1}-x_n)} \\Big ] dt  &=  -h\\int_{0}^{1}(2s + s^2)ds = \\frac{-16h}{12} \\\\\n",
    "\\int_{x_n}^{x_{n+1}} \\Big [ \\frac{(t-x_{n-2})(t-x_{n-1})}{(x_n-x_{n-2})(x_n-x_{n-1})} \\Big ] dt  &=  \\frac{h}{2}\\int_{0}^{1}(2+3s+s^2)ds = \\frac{23h}{12} \\\\\n",
    "\\end{align*}\n",
    "$$\n",
    "\n",
    "Therefore the Adams-Bashforth of order 3 is:\n",
    "$$ y(x_{n+1}) = y(x_n) + \\frac{h}{12}[23f(x_n,y(x_n)) - 16f(x_{n-1},y(x_{n-1}))+ 5f(x_{n-2},y(x_{n-2}))] $$\n",
    "\n"
   ]
  },
  {
   "cell_type": "code",
   "execution_count": null,
   "metadata": {},
   "outputs": [],
   "source": []
  }
 ],
 "metadata": {
  "kernelspec": {
   "display_name": "Python 3",
   "language": "python",
   "name": "python3"
  },
  "language_info": {
   "codemirror_mode": {
    "name": "ipython",
    "version": 3
   },
   "file_extension": ".py",
   "mimetype": "text/x-python",
   "name": "python",
   "nbconvert_exporter": "python",
   "pygments_lexer": "ipython3",
   "version": "3.7.4"
  }
 },
 "nbformat": 4,
 "nbformat_minor": 2
}
