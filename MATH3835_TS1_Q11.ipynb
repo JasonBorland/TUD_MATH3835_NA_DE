{
 "cells": [
  {
   "cell_type": "markdown",
   "metadata": {},
   "source": [
    "# Question 1: Lipschitz Condition"
   ]
  },
  {
   "cell_type": "markdown",
   "metadata": {},
   "source": [
    "## What is the Lipschitz Condition\n",
    "This is a basic introduction to the Lipschitz condition within the context of differential equations. Lipschitz conditions are connected with \"contractive mappings\", which have important applications to the existance, uniqueness and approximation of solutions to equations - including ordinary differential equations.\n",
    "\n",
    "\n"
   ]
  },
  {
   "cell_type": "markdown",
   "metadata": {},
   "source": [
    "### 1 Introduction\n",
    "One of the most important problems in the theory of differential equations is the general initial value problem (IVP)\n",
    "\n",
    "$$ y' = f(t,y) , \\quad  y(\\tau) = A  \\qquad(1)$$\n",
    "\n",
    "Much of the theory for IVP (1) and its variations involves a so-called *Lipschitz Condition*.  Such a condition takes the form of a fundamental inequality and is the cornerstone for gaining information about solutions to (1), such as existance, uniqueness and approximation.\n",
    "\n",
    "#### Theorem: Lipschitz Condition\n",
    "We say $f$ satisfies a Lipschitz condition on set $D$ if there is a constant $L \\ge 0$ such that\n",
    "\n",
    "$$ \\lvert f(t,u) - f(t,v) \\rvert \\le L \\lvert u - v \\rvert  \\qquad (2) $$ \n",
    "\n",
    "for all $(t,u), (t,v) \\in D$\n",
    "\n"
   ]
  },
  {
   "cell_type": "markdown",
   "metadata": {},
   "source": [
    "### 2. When does a Lipschitz Condition hold?\n",
    "\n",
    "Given some $f$ and some set $D$, when does (2) hold?  Well that depends on the function $f$ and the set $D$.\n",
    "In some cases, it is easy to directly verify that (2) holds (or does not hold).\n",
    "\n",
    "**Example 1.** Let $D=\\Re^2$ and let $f(t,u) := t^2 +2u$. For each $(t,u),(t,v) \\in D$ consider\n",
    "$$ \n",
    "\\begin{align*}\n",
    "\\lvert f(t,u) - f(t,v) \\rvert &= \\lvert (t^2 +2u) - (t^2 + 2v) \\rvert \\\\\n",
    "&= 2 \\lvert u - v \\rvert \\\\\n",
    "\\end{align*}\n",
    "$$\n",
    "\n",
    "\n",
    "and so our $f$ does satisfy a *Lipschitz condition* on $D = \\Re^2$ with $L = 2$"
   ]
  },
  {
   "cell_type": "markdown",
   "metadata": {},
   "source": [
    "### Lemma 1.\n",
    "Let $D$ be the rectangle\n",
    "$$ R := \\lbrace (t,p) : t \\in [a,b], \\lvert p - A \\rvert \\leq B $$\n",
    "\n",
    "or the infinite strip \n",
    "$$ S := \\lbrace (t,p) : t \\in [a,b], \\lvert p \\rvert < \\infty \\rbrace $$.\n",
    "\n",
    "if $f:D \\to \\Re$ and $\\partial f / \\partial y $ exists, is continuous and there is some constant $K \\ge 0$ such that\n",
    "\n",
    "$$\\lvert \\frac{\\partial f}{\\partial y}(t,y) \\rvert \\le K \\qquad (3)$$,\n",
    "\n",
    "for all $(t,y) \\in D$.  Then (2) holds with $L = K$.\n",
    "\n",
    "\n",
    "### Proof of Lemma 1.\n",
    "By the fundamental theorem of calculus, for all $(t,u),(t,v) \\in D$, we have \n",
    "\n",
    "$$ f(t,u) - f(t,v)  = \\int_{v}^{u} \\frac{\\partial f}{\\partial y} (t,y) \\ dy  $$\n",
    "\n",
    "and so\n",
    "\n",
    "$$ \n",
    "\\begin{align*}\n",
    "\\lvert f(t,u) - f(t,v) \\rvert &= \\Big \\lvert \\int_{v}^{u} \\frac{\\partial f}{\\partial y} (t,y) \\ dy \\Big \\rvert \\\\\n",
    "& \\le \\Big \\lvert \\int_{v}^{u} \\Big \\lvert \\frac{\\partial f}{\\partial y} (t,y) \\Big \\rvert \\ dy \\Big \\rvert \\\\\n",
    "& \\le \\Big \\lvert \\int_{v}^{u} K \\ dy \\Big \\rvert  \\\\\n",
    "&= K \\lvert u - v \\rvert \\\\\n",
    "\\end{align*}\n",
    "$$\n",
    "\n",
    " \n",
    "\n",
    "\n",
    "\n"
   ]
  },
  {
   "cell_type": "markdown",
   "metadata": {},
   "source": [
    "### Example 2.\n",
    "$$ f(t,y) := cos(t) + y^3 $$\n",
    "and \n",
    "$$ D = R := \\lbrace (t,p) \\in \\Re^2 : \\ t \\in [0,1], \\ \\lvert p \\rvert \\le 1 \\rbrace.$$\n",
    "\n",
    "For all $(t,y) \\in D$ we have\n",
    "\n",
    "$$ \\Big \\lvert \\frac{\\partial f}{\\partial y} (t,y) \\Big \\rvert = \\lvert 3y^2 \\rvert \\le 3 $$\n",
    "\n",
    "and $\\partial d / \\partial y $ is continuous on $D$.  Thus (3) holds with $K=3$.  By Lemma 1 our $f$ is Lipschitz with $L=K=3$.  That is,\n",
    "\n",
    "\n",
    "$$ \\lvert (cost(t) + u^3) -(cost(t) + v^3) \\rvert \\le 3\\lvert u - v \\rvert $$\n",
    "for all $(t,u),(t,v) \\in D$\n",
    "\n",
    "\n",
    "![Example2](images/image1.png \"Graph of Set D for Example 2\")"
   ]
  },
  {
   "cell_type": "markdown",
   "metadata": {},
   "source": [
    "### Example 3.\n",
    "$$ f(t,y) := cos(t) + y^3 $$\n",
    "and \n",
    "$$ D = S := \\lbrace (t,p) \\in \\Re^2 : \\ t \\in [0,1], \\ \\lvert p \\rvert <  \\infty \\rbrace.$$\n",
    "\n",
    "Although $\\partial f / \\partial y$ is continuous on D, it is not bounded by a constant on D and so Lemma 1 is not applicable.  Thus, our $f$ may, or may not be Lipschitz.  For this example, we can use simple inequalities to investigate a little further.  For all $(t,u),(t,v) \\in D$ consider\n",
    "$$\n",
    "\\begin{align*}\n",
    "\\lvert f(t,u) - f(t,v) \\rvert &= \\lvert u^3 - v^3 \\rvert \\\\\n",
    "&= \\lvert (u - v)(u^2 + uv + v^2) \\rvert \\\\\n",
    "&= \\lvert (u^2 + uv + v^2) \\rvert \\lvert ( u - v) \\rvert \\\\\n",
    "\\end{align*}\n",
    "$$\n",
    "\n",
    "Now, there is no constant $ L \\ge 0$ such that $\\lvert (u^2 + uv + v^2) \\rvert  \\le L$ for all $(t,u),(t,v) \\in D$. Hence f does not satisfy a Lipschitz condition.\n",
    "\n",
    "![Example3](images/image2.png \"Graph of Set D for Example 3\")"
   ]
  },
  {
   "cell_type": "markdown",
   "metadata": {},
   "source": [
    "Lemma 1 can be extended to the case where D is a \"convex\" set (such a filled disk in the plane).\n",
    "\n",
    "$$ f(t,y) := t + tan^{-1}(y) $$\n",
    "$$ \\Big \\lvert \\frac{\\partial f}{\\partial y} \\Big \\rvert = \\Big \\lvert \\frac{1}{1 + y^2)} \\Big \\rvert \\le 1 $$\n",
    "\n",
    "For all $(t,y) \\in \\Re $\n",
    "\n"
   ]
  },
  {
   "cell_type": "markdown",
   "metadata": {},
   "source": [
    "## 3. Illustration of application\n",
    "\n",
    "**Theorem** (Picard - Lindelof) Let $f : R \\to \\Re$ be continuous and let $(\\tau, A) \\in R$. If there is a constant $L \\ge 0$ satisfying\n",
    "\n",
    "$$ \\lvert f(t,u) - f(t,v) \\rvert \\le L \\lvert u - v \\rvert \\qquad (4)$$ \n",
    "\n",
    "for all $(t,u), (t,v) \\in R$\n",
    "\n",
    "Then the IVP (1) has a unique solution $y=y(t)$ on some interval containing $\\tau$.\n",
    "\n",
    "In view of Lemma 1 we can state the following special case of the previous result.\n",
    "\n",
    "**Corollary** Let $f : R \\to \\Re$ be continuous and let $(\\tau, A) \\in R$.  If $\\partial f / \\partial y $ exists and is continuous on R and there is some constant $K \\ge 0 $ such that\n",
    "\n",
    "$$\\Big \\lvert \\frac{\\partial f}{\\partial y}(t,y) \\Big \\rvert \\le K \\quad (5)$$,\n",
    "\n",
    "for all $(t,y) \\in R$\n",
    "\n",
    "then the IVP (1) has a uniques solution y = y(t) on ome interval containing $\\tau$\n"
   ]
  },
  {
   "cell_type": "markdown",
   "metadata": {},
   "source": [
    "### Question 1A: \n",
    "$\\frac{df}{dx} = xy^3$, with $-1 \\le x \\le 1, \\ 0 \\le y \\le 10$\n",
    "\n",
    "Therefore:\n",
    "\n",
    "$$ f(x,y) = xy^3 \\ \\ where \\ D = R := \\lbrace (x,y) \\in \\Re^2 \\ : \\ t \\in [-1,1], \\ y \\le 10 \\rbrace $$\n",
    "\n",
    "Using Lemma 1:\n",
    "\n",
    "$$ \\Big \\lvert  \\frac{\\partial f(x,y)}{\\partial y} \\Big \\rvert = \\lvert 3xy^2 \\rvert \\le 300 $$\n",
    "\n",
    "\n",
    "\n",
    "The function $f(x,y)$ satisfies Lipschitz. with $K=L=300$.\n",
    "\n",
    "For the function to be smooth and uniformly monotone it must satisfy:\n",
    "\n",
    "$$ -M \\le f_y(x,y) \\le -m <0 $$\n",
    "\n",
    "Where M and m are positive.\n",
    "\n",
    "In this case m does not exist as y = 0 is in the set D. So m = 0 which is not $<0$ so the function is not smooth and uniformly monotone but is Lipschitz.\n",
    "\n"
   ]
  },
  {
   "cell_type": "markdown",
   "metadata": {},
   "source": [
    "### Question 1B:\n",
    "\n",
    "$$ \\frac{dy}{dx} = \\frac{x^2y^2}{1 + x^2}, \\ with \\ -1 \\le x \\le 1, \\ -10 \\le y < 0. $$\n",
    "\n",
    "Therefore:\n",
    "\n",
    "$$ f(x,y) = \\frac{x^2y^2}{1 + x^2} \\ where \\ D=R := \\lbrace (x,y) \\in \\Re^2 \\ : \\ x \\in [-1,1], \\ -10 \\le y < 0 \\rbrace $$\n",
    "\n",
    "Using Lemma 1:\n",
    "\n",
    "$$ \\Big \\lvert  \\frac{\\partial f(x,y)}{\\partial y} \\Big \\rvert = \\Big \\lvert 2y \\frac{x^2}{x^2+1} \\Big \\rvert = 2 \\Big \\lvert \\frac{x^2}{x^2+1} \\Big \\rvert \\lvert y \\rvert  $$ \n",
    "\n",
    "\n",
    "We know, $\\Big \\lvert \\frac{x^2}{x^2+1} \\Big \\rvert \\le 1 $ \n",
    "\n",
    "Therefore:\n",
    "$$\n",
    "\\begin{align*}\n",
    "\\Big \\lvert  \\frac{\\partial f(x,y)}{\\partial y} \\Big \\rvert = \\Big \\lvert 2y \\frac{x^2}{x^2+1} \\Big \\rvert &= 2 \\Big \\lvert \\frac{x^2}{x^2+1} \\Big \\rvert \\lvert y \\rvert \\\\\n",
    "& \\le 2(1)(10) \\\\\n",
    "& \\le 20 \\\\\n",
    "\\end{align*}\n",
    "$$\n",
    "\n",
    "\n",
    "So the function $f(x,y)$ satisfies Lipschitz, with K=L=20.\n",
    "\n",
    "Further, for the function to be smooth and uniformly monotone it must satisfy:\n",
    "\n",
    "$$ -M \\le f_y(x,y) \\le -m <0 $$\n",
    "\n",
    "Where M and m are positive.\n",
    "\n",
    "However although M =10  there is no upper bound for m as $y < 0$, so it is not smooth and uniformly monotone.  If y had the range $ -10 \\le y \\le -1$ , then it would be smooth and uniformly monotone."
   ]
  },
  {
   "cell_type": "code",
   "execution_count": null,
   "metadata": {},
   "outputs": [],
   "source": []
  }
 ],
 "metadata": {
  "kernelspec": {
   "display_name": "Python 3",
   "language": "python",
   "name": "python3"
  },
  "language_info": {
   "codemirror_mode": {
    "name": "ipython",
    "version": 3
   },
   "file_extension": ".py",
   "mimetype": "text/x-python",
   "name": "python",
   "nbconvert_exporter": "python",
   "pygments_lexer": "ipython3",
   "version": "3.7.4"
  }
 },
 "nbformat": 4,
 "nbformat_minor": 2
}
