{
 "cells": [
  {
   "cell_type": "markdown",
   "metadata": {},
   "source": [
    "# Question 1B: Shooting Method"
   ]
  },
  {
   "cell_type": "markdown",
   "metadata": {},
   "source": [
    "Given the second order differential equation function.\n",
    "\n",
    "$$ \\frac{d^2y}{dx^2} = f(x, y , \\frac{dy}{dx} )$$\n",
    "$$ \\frac{d^2y}{dx^2} = y'' = 6x - \\frac{1}{2}x^2 $$\n",
    "\n",
    "The Boundary value problem:\n",
    "\n",
    "$$ y(0) = 0, \\ and \\ y(12) = 0 $$\n",
    "\n",
    "The step size $h=0.1$ the actual $y(x)$ is unknown, we wish to find $y(4)$.\n",
    "\n",
    "We will make a guess of the value $y'(0) = 5$\n",
    "\n",
    "We can then reduce the BVP to simultaneous 1st order equations. These we are IVPs, and we can use IVP methods like Euler's method.\n",
    "$$\n",
    "\\begin{align*}\n",
    "\\frac{dy}{dx} &= z \\\\\n",
    "&= f_1(x, y, z)     \\qquad (1) \\ (\\ note \\ this \\ is \\ just \\ assumed) \\\\\n",
    "\\frac{dz}{dx} &= 6x - \\frac{1}{2}x^2  \\\\\n",
    "&= f_2(x,y,z) \\qquad (2) \\\\\n",
    "\\end{align*}\n",
    "$$\n",
    "\n",
    "\n",
    "To solve we use an IVP method, we will use EUlers:\n",
    "\n",
    "$$ y_{i+1} = y_i + f_1(x_i, y_i, z_i)h $$\n",
    "$$ z_{i+1} = z_i + f_2(x_i, y_i, z_i)h $$\n",
    "\n",
    "\n"
   ]
  },
  {
   "cell_type": "code",
   "execution_count": 75,
   "metadata": {},
   "outputs": [],
   "source": [
    "## Library\n",
    "import numpy as np\n",
    "import math \n",
    "\n",
    "%matplotlib inline\n",
    "import matplotlib.pyplot as plt # side-stepping mpl backend\n",
    "import matplotlib.gridspec as gridspec # subplots\n",
    "import warnings\n",
    "\n",
    "warnings.filterwarnings(\"ignore\")\n",
    "class ListTable(list):\n",
    "    \"\"\" Overridden list class which takes a 2-dimensional list of \n",
    "        the form [[1,2,3],[4,5,6]], and renders an HTML Table in \n",
    "        IPython Notebook. \"\"\"\n",
    "    \n",
    "    def _repr_html_(self):\n",
    "        html = [\"<table>\"]\n",
    "        for row in self:\n",
    "            html.append(\"<tr>\")\n",
    "            \n",
    "            for col in row:\n",
    "                html.append(\"<td>{0}</td>\".format(col))\n",
    "            \n",
    "            html.append(\"</tr>\")\n",
    "        html.append(\"</table>\")\n",
    "        return ''.join(html)"
   ]
  },
  {
   "cell_type": "markdown",
   "metadata": {},
   "source": [
    "## Defining the Function"
   ]
  },
  {
   "cell_type": "code",
   "execution_count": 76,
   "metadata": {},
   "outputs": [],
   "source": [
    "def myfun_f1(x,y,z):\n",
    "    return (z)\n",
    "\n",
    "def myfun_f2(x,y,z):\n",
    "    return (6*x - 0.5*x**2)\n"
   ]
  },
  {
   "cell_type": "markdown",
   "metadata": {},
   "source": [
    "## Discrete Interval \n",
    "Here we will use a step sizes on the  $ 0 \\leq x \\leq 12 $.\n",
    "### Interval\n",
    "The step Size will be $h_{1} = 0.1\n",
    "\n",
    "with the discrete time steps,\n",
    "$$ x_{i} = 0 + 0.1i $$\n",
    "for  $i=0,1,...,120$.\n",
    "\n"
   ]
  },
  {
   "cell_type": "code",
   "execution_count": 77,
   "metadata": {},
   "outputs": [
    {
     "data": {
      "image/png": "[encoded data removed]",
      "text/plain": [
       "<Figure size 1440x288 with 1 Axes>"
      ]
     },
     "metadata": {
      "needs_background": "light"
     },
     "output_type": "display_data"
    }
   ],
   "source": [
    "# Start and end of interval\n",
    "b=12\n",
    "a=0\n",
    "# Steps N1=400\n",
    "N1=120\n",
    "\n",
    "h1=0.1\n",
    "\n",
    "x1=np.arange(a,b+h1,h1)\n",
    "\n",
    "\n",
    "fig = plt.figure(figsize=(20,4))\n",
    "plt.plot(x1,0*x1,'s:',color='red',label='Course Grid h=%s'%(h1))\n",
    "\n",
    "\n",
    "plt.xlim((0,12))\n",
    "plt.ylim((-0.1,0.1))\n",
    "plt.title('Illustration of discrete time points')\n",
    "plt.legend()\n",
    "plt.show()"
   ]
  },
  {
   "cell_type": "markdown",
   "metadata": {},
   "source": [
    "## Setting up the inital Conditions for our 1st guess\n",
    "$$ w_{1} = 0 $$\n",
    "$$ z_{1} = 5 $$\n",
    "\n",
    "## Setting up the inital Conditions for our 2nd guess\n",
    "$$ w_{2} = 0 $$\n",
    "$$ z_{2} = -100 $$"
   ]
  },
  {
   "cell_type": "code",
   "execution_count": 78,
   "metadata": {},
   "outputs": [],
   "source": [
    "## 1st Guess \n",
    "\n",
    "IC_W1=0 # Intial condtion\n",
    "IC_Z1=5 # Intial condtion\n",
    "w1 = np.zeros(N1+1)\n",
    "z1 = np.zeros(N1+1)\n",
    "\n",
    "\n",
    "w1[0]=IC_W1\n",
    "z1[0]=IC_Z1\n",
    "\n",
    "## 2nd Guess \n",
    "\n",
    "IC_W2=0 # Intial condtion\n",
    "IC_Z2=-100 # Intial condtion\n",
    "w2 = np.zeros(N1+1)\n",
    "z2 = np.zeros(N1+1)\n",
    "\n",
    "\n",
    "w2[0]=IC_W2\n",
    "z2[0]=IC_Z2\n",
    "\n"
   ]
  },
  {
   "cell_type": "markdown",
   "metadata": {},
   "source": [
    "## Euler Method\n",
    "\n",
    "$$ w_{i+1} = w_{i} + hf_1(x_{i}, w_{i}, z_{i}) $$\n",
    "\n",
    "$$ z_{i+1} = z_{i} + hf_2(x_{i}, w_{i}, z_{i}) $$\n",
    "\n",
    "\n",
    "\n"
   ]
  },
  {
   "cell_type": "code",
   "execution_count": 84,
   "metadata": {},
   "outputs": [
    {
     "data": {
      "text/plain": [
       "Text(0.5, 1.0, 'BVP Shooting Method 1st and 2nd Guesses (z=5,-100) solution')"
      ]
     },
     "execution_count": 84,
     "metadata": {},
     "output_type": "execute_result"
    },
    {
     "data": {
      "image/png": "[encoded data removed]",
      "text/plain": [
       "<Figure size 720x288 with 1 Axes>"
      ]
     },
     "metadata": {
      "needs_background": "light"
     },
     "output_type": "display_data"
    }
   ],
   "source": [
    "\n",
    "for i in range (0,N1):\n",
    "    w1[i+1]=w1[i]+h1*myfun_f1(x1[i], w1[i], z1[i])\n",
    "    z1[i+1]=z1[i]+h1*myfun_f2(x1[i], w1[i], z1[i])\n",
    "    w2[i+1]=w2[i]+h1*myfun_f1(x1[i], w2[i], z2[i])\n",
    "    z2[i+1]=z2[i]+h1*myfun_f2(x1[i], w2[i], z2[i])\n",
    "    \n",
    "    \n",
    "    \n",
    "fig = plt.figure(figsize=(10,4))\n",
    "plt.plot(x1,w1,'s:',color='blue',label='BVP Shooting Method 1st Guess (Euler)')\n",
    "plt.plot(x1,w2,'*:',color='red',label='BVP Shooting Method 2nd Guess (Euler)')\n",
    "\n",
    "\n",
    "plt.xlim((0,12))\n",
    "plt.xlabel('x')\n",
    "plt.legend(loc='best')\n",
    "plt.title('BVP Shooting Method 1st and 2nd Guesses (z=5,-100) solution')\n",
    "\n"
   ]
  },
  {
   "cell_type": "code",
   "execution_count": 85,
   "metadata": {},
   "outputs": [
    {
     "data": {
      "text/html": [
       "<table><tr><td>x</td><td>w1</td><td>z1</td><td>w2</td><td>z2</td></tr><tr><td>0.0</td><td>0.0</td><td>5.0</td><td>0.0</td><td>-100.0</td></tr><tr><td>0.1</td><td>0.5</td><td>5.0</td><td>-10.0</td><td>-100.0</td></tr><tr><td>0.2</td><td>1.0</td><td>5.0595</td><td>-20.0</td><td>-99.9405</td></tr><tr><td>0.3</td><td>1.50595</td><td>5.1775</td><td>-29.99405</td><td>-99.8225</td></tr><tr><td>0.4</td><td>2.0237</td><td>5.353</td><td>-39.9763</td><td>-99.647</td></tr><tr><td>0.5</td><td>2.559</td><td>5.585</td><td>-49.941</td><td>-99.415</td></tr><tr><td>0.6</td><td>3.1175</td><td>5.8725</td><td>-59.8825</td><td>-99.1275</td></tr><tr><td>0.7</td><td>3.70475</td><td>6.2145</td><td>-69.79525</td><td>-98.7855</td></tr><tr><td>0.8</td><td>4.3262</td><td>6.61</td><td>-79.6738</td><td>-98.39</td></tr><tr><td>0.9</td><td>4.9872</td><td>7.058</td><td>-89.5128</td><td>-97.942</td></tr><tr><td>1.0</td><td>5.693</td><td>7.5575</td><td>-99.307</td><td>-97.4425</td></tr><tr><td>1.1</td><td>6.44875</td><td>8.1075</td><td>-109.05125</td><td>-96.8925</td></tr><tr><td>1.2</td><td>7.2595</td><td>8.707</td><td>-118.7405</td><td>-96.293</td></tr><tr><td>1.3</td><td>8.1302</td><td>9.355</td><td>-128.3698</td><td>-95.645</td></tr><tr><td>1.4</td><td>9.0657</td><td>10.0505</td><td>-137.9343</td><td>-94.9495</td></tr><tr><td>1.5</td><td>10.07075</td><td>10.7925</td><td>-147.42925</td><td>-94.2075</td></tr><tr><td>1.6</td><td>11.15</td><td>11.58</td><td>-156.85</td><td>-93.42</td></tr><tr><td>1.7</td><td>12.308</td><td>12.412</td><td>-166.192</td><td>-92.588</td></tr><tr><td>1.8</td><td>13.5492</td><td>13.2875</td><td>-175.4508</td><td>-91.7125</td></tr><tr><td>1.9</td><td>14.87795</td><td>14.2055</td><td>-184.62205</td><td>-90.7945</td></tr><tr><td>2.0</td><td>16.2985</td><td>15.165</td><td>-193.7015</td><td>-89.835</td></tr><tr><td>2.1</td><td>17.815</td><td>16.165</td><td>-202.685</td><td>-88.835</td></tr><tr><td>2.2</td><td>19.4315</td><td>17.2045</td><td>-211.5685</td><td>-87.7955</td></tr><tr><td>2.3</td><td>21.15195</td><td>18.2825</td><td>-220.34805</td><td>-86.7175</td></tr><tr><td>2.4</td><td>22.9802</td><td>19.398</td><td>-229.0198</td><td>-85.602</td></tr><tr><td>2.5</td><td>24.92</td><td>20.55</td><td>-237.58</td><td>-84.45</td></tr><tr><td>2.6</td><td>26.975</td><td>21.7375</td><td>-246.025</td><td>-83.2625</td></tr><tr><td>2.7</td><td>29.14875</td><td>22.9595</td><td>-254.35125</td><td>-82.0405</td></tr><tr><td>2.8</td><td>31.4447</td><td>24.215</td><td>-262.5553</td><td>-80.785</td></tr><tr><td>2.9</td><td>33.8662</td><td>25.503</td><td>-270.6338</td><td>-79.497</td></tr><tr><td>3.0</td><td>36.4165</td><td>26.8225</td><td>-278.5835</td><td>-78.1775</td></tr><tr><td>3.1</td><td>39.09875</td><td>28.1725</td><td>-286.40125</td><td>-76.8275</td></tr><tr><td>3.2</td><td>41.916</td><td>29.552</td><td>-294.084</td><td>-75.448</td></tr><tr><td>3.3</td><td>44.8712</td><td>30.96</td><td>-301.6288</td><td>-74.04</td></tr><tr><td>3.4</td><td>47.9672</td><td>32.3955</td><td>-309.0328</td><td>-72.6045</td></tr><tr><td>3.5</td><td>51.20675</td><td>33.8575</td><td>-316.29325</td><td>-71.1425</td></tr><tr><td>3.6</td><td>54.5925</td><td>35.345</td><td>-323.4075</td><td>-69.655</td></tr><tr><td>3.7</td><td>58.127</td><td>36.857</td><td>-330.373</td><td>-68.143</td></tr><tr><td>3.8</td><td>61.8127</td><td>38.3925</td><td>-337.1873</td><td>-66.6075</td></tr><tr><td>3.9</td><td>65.65195</td><td>39.9505</td><td>-343.84805</td><td>-65.0495</td></tr><tr><td>4.0</td><td>69.647</td><td>41.53</td><td>-350.353</td><td>-63.47</td></tr><tr><td>4.1</td><td>73.8</td><td>43.13</td><td>-356.7</td><td>-61.87</td></tr><tr><td>4.2</td><td>78.113</td><td>44.7495</td><td>-362.887</td><td>-60.2505</td></tr><tr><td>4.3</td><td>82.58795</td><td>46.3875</td><td>-368.91205</td><td>-58.6125</td></tr><tr><td>4.4</td><td>87.2267</td><td>48.043</td><td>-374.7733</td><td>-56.957</td></tr><tr><td>4.5</td><td>92.031</td><td>49.715</td><td>-380.469</td><td>-55.285</td></tr><tr><td>4.6</td><td>97.0025</td><td>51.4025</td><td>-385.9975</td><td>-53.5975</td></tr><tr><td>4.7</td><td>102.14275</td><td>53.1045</td><td>-391.35725</td><td>-51.8955</td></tr><tr><td>4.8</td><td>107.4532</td><td>54.82</td><td>-396.5468</td><td>-50.18</td></tr><tr><td>4.9</td><td>112.9352</td><td>56.548</td><td>-401.5648</td><td>-48.452</td></tr><tr><td>5.0</td><td>118.59</td><td>58.2875</td><td>-406.41</td><td>-46.7125</td></tr><tr><td>5.1</td><td>124.41875</td><td>60.0375</td><td>-411.08125</td><td>-44.9625</td></tr><tr><td>5.2</td><td>130.4225</td><td>61.797</td><td>-415.5775</td><td>-43.203</td></tr><tr><td>5.3</td><td>136.6022</td><td>63.565</td><td>-419.8978</td><td>-41.435</td></tr><tr><td>5.4</td><td>142.9587</td><td>65.3405</td><td>-424.0413</td><td>-39.6595</td></tr><tr><td>5.5</td><td>149.49275</td><td>67.1225</td><td>-428.00725</td><td>-37.8775</td></tr><tr><td>5.6</td><td>156.205</td><td>68.91</td><td>-431.795</td><td>-36.09</td></tr><tr><td>5.7</td><td>163.096</td><td>70.702</td><td>-435.404</td><td>-34.298</td></tr><tr><td>5.8</td><td>170.1662</td><td>72.4975</td><td>-438.8338</td><td>-32.5025</td></tr><tr><td>5.9</td><td>177.41595</td><td>74.2955</td><td>-442.08405</td><td>-30.7045</td></tr><tr><td>6.0</td><td>184.8455</td><td>76.095</td><td>-445.1545</td><td>-28.905</td></tr><tr><td>6.1</td><td>192.455</td><td>77.895</td><td>-448.045</td><td>-27.105</td></tr><tr><td>6.2</td><td>200.2445</td><td>79.6945</td><td>-450.7555</td><td>-25.3055</td></tr><tr><td>6.3</td><td>208.21395</td><td>81.4925</td><td>-453.28605</td><td>-23.5075</td></tr><tr><td>6.4</td><td>216.3632</td><td>83.288</td><td>-455.6368</td><td>-21.712</td></tr><tr><td>6.5</td><td>224.692</td><td>85.08</td><td>-457.808</td><td>-19.92</td></tr><tr><td>6.6</td><td>233.2</td><td>86.8675</td><td>-459.8</td><td>-18.1325</td></tr><tr><td>6.7</td><td>241.88675</td><td>88.6495</td><td>-461.61325</td><td>-16.3505</td></tr><tr><td>6.8</td><td>250.7517</td><td>90.425</td><td>-463.2483</td><td>-14.575</td></tr><tr><td>6.9</td><td>259.7942</td><td>92.193</td><td>-464.7058</td><td>-12.807</td></tr><tr><td>7.0</td><td>269.0135</td><td>93.9525</td><td>-465.9865</td><td>-11.0475</td></tr><tr><td>7.1</td><td>278.40875</td><td>95.7025</td><td>-467.09125</td><td>-9.2975</td></tr><tr><td>7.2</td><td>287.979</td><td>97.442</td><td>-468.021</td><td>-7.558</td></tr><tr><td>7.3</td><td>297.7232</td><td>99.17</td><td>-468.7768</td><td>-5.83</td></tr><tr><td>7.4</td><td>307.6402</td><td>100.8855</td><td>-469.3598</td><td>-4.1145</td></tr><tr><td>7.5</td><td>317.72875</td><td>102.5875</td><td>-469.77125</td><td>-2.4125</td></tr><tr><td>7.6</td><td>327.9875</td><td>104.275</td><td>-470.0125</td><td>-0.725</td></tr><tr><td>7.7</td><td>338.415</td><td>105.947</td><td>-470.085</td><td>0.947</td></tr><tr><td>7.8</td><td>349.0097</td><td>107.6025</td><td>-469.9903</td><td>2.6025</td></tr><tr><td>7.9</td><td>359.76995</td><td>109.2405</td><td>-469.73005</td><td>4.2405</td></tr><tr><td>8.0</td><td>370.694</td><td>110.86</td><td>-469.306</td><td>5.86</td></tr><tr><td>8.1</td><td>381.78</td><td>112.46</td><td>-468.72</td><td>7.46</td></tr><tr><td>8.2</td><td>393.026</td><td>114.0395</td><td>-467.974</td><td>9.0395</td></tr><tr><td>8.3</td><td>404.42995</td><td>115.5975</td><td>-467.07005</td><td>10.5975</td></tr><tr><td>8.4</td><td>415.9897</td><td>117.133</td><td>-466.0103</td><td>12.133</td></tr><tr><td>8.5</td><td>427.703</td><td>118.645</td><td>-464.797</td><td>13.645</td></tr><tr><td>8.6</td><td>439.5675</td><td>120.1325</td><td>-463.4325</td><td>15.1325</td></tr><tr><td>8.7</td><td>451.58075</td><td>121.5945</td><td>-461.91925</td><td>16.5945</td></tr><tr><td>8.8</td><td>463.7402</td><td>123.03</td><td>-460.2598</td><td>18.03</td></tr><tr><td>8.9</td><td>476.0432</td><td>124.438</td><td>-458.4568</td><td>19.438</td></tr><tr><td>9.0</td><td>488.487</td><td>125.8175</td><td>-456.513</td><td>20.8175</td></tr><tr><td>9.1</td><td>501.06875</td><td>127.1675</td><td>-454.43125</td><td>22.1675</td></tr><tr><td>9.2</td><td>513.7855</td><td>128.487</td><td>-452.2145</td><td>23.487</td></tr><tr><td>9.3</td><td>526.6342</td><td>129.775</td><td>-449.8658</td><td>24.775</td></tr><tr><td>9.4</td><td>539.6117</td><td>131.0305</td><td>-447.3883</td><td>26.0305</td></tr><tr><td>9.5</td><td>552.71475</td><td>132.2525</td><td>-444.78525</td><td>27.2525</td></tr><tr><td>9.6</td><td>565.94</td><td>133.44</td><td>-442.06</td><td>28.44</td></tr><tr><td>9.7</td><td>579.284</td><td>134.592</td><td>-439.216</td><td>29.592</td></tr><tr><td>9.8</td><td>592.7432</td><td>135.7075</td><td>-436.2568</td><td>30.7075</td></tr><tr><td>9.9</td><td>606.31395</td><td>136.7855</td><td>-433.18605</td><td>31.7855</td></tr><tr><td>10.0</td><td>619.9925</td><td>137.825</td><td>-430.0075</td><td>32.825</td></tr><tr><td>10.1</td><td>633.775</td><td>138.825</td><td>-426.725</td><td>33.825</td></tr><tr><td>10.2</td><td>647.6575</td><td>139.7845</td><td>-423.3425</td><td>34.7845</td></tr><tr><td>10.3</td><td>661.63595</td><td>140.7025</td><td>-419.86405</td><td>35.7025</td></tr><tr><td>10.4</td><td>675.7062</td><td>141.578</td><td>-416.2938</td><td>36.578</td></tr><tr><td>10.5</td><td>689.864</td><td>142.41</td><td>-412.636</td><td>37.41</td></tr><tr><td>10.6</td><td>704.105</td><td>143.1975</td><td>-408.895</td><td>38.1975</td></tr><tr><td>10.7</td><td>718.42475</td><td>143.9395</td><td>-405.07525</td><td>38.9395</td></tr><tr><td>10.8</td><td>732.8187</td><td>144.635</td><td>-401.1813</td><td>39.635</td></tr><tr><td>10.9</td><td>747.2822</td><td>145.283</td><td>-397.2178</td><td>40.283</td></tr><tr><td>11.0</td><td>761.8105</td><td>145.8825</td><td>-393.1895</td><td>40.8825</td></tr><tr><td>11.1</td><td>776.39875</td><td>146.4325</td><td>-389.10125</td><td>41.4325</td></tr><tr><td>11.2</td><td>791.042</td><td>146.932</td><td>-384.958</td><td>41.932</td></tr><tr><td>11.3</td><td>805.7352</td><td>147.38</td><td>-380.7648</td><td>42.38</td></tr><tr><td>11.4</td><td>820.4732</td><td>147.7755</td><td>-376.5268</td><td>42.7755</td></tr><tr><td>11.5</td><td>835.25075</td><td>148.1175</td><td>-372.24925</td><td>43.1175</td></tr><tr><td>11.6</td><td>850.0625</td><td>148.405</td><td>-367.9375</td><td>43.405</td></tr><tr><td>11.7</td><td>864.903</td><td>148.637</td><td>-363.597</td><td>43.637</td></tr><tr><td>11.8</td><td>879.7667</td><td>148.8125</td><td>-359.2333</td><td>43.8125</td></tr><tr><td>11.9</td><td>894.64795</td><td>148.9305</td><td>-354.85205</td><td>43.9305</td></tr><tr><td>12.0</td><td>909.541</td><td>148.99</td><td>-350.459</td><td>43.99</td></tr></table>"
      ],
      "text/plain": [
       "[['x', 'w1', 'z1', 'w2', 'z2'],\n",
       " [0.0, 0.0, 5.0, 0.0, -100.0],\n",
       " [0.1, 0.5, 5.0, -10.0, -100.0],\n",
       " [0.2, 1.0, 5.0595, -20.0, -99.9405],\n",
       " [0.3, 1.50595, 5.1775, -29.99405, -99.8225],\n",
       " [0.4, 2.0237, 5.353, -39.9763, -99.647],\n",
       " [0.5, 2.559, 5.585, -49.941, -99.415],\n",
       " [0.6, 3.1175, 5.8725, -59.8825, -99.1275],\n",
       " [0.7, 3.70475, 6.2145, -69.79525, -98.7855],\n",
       " [0.8, 4.3262, 6.61, -79.6738, -98.39],\n",
       " [0.9, 4.9872, 7.058, -89.5128, -97.942],\n",
       " [1.0, 5.693, 7.5575, -99.307, -97.4425],\n",
       " [1.1, 6.44875, 8.1075, -109.05125, -96.8925],\n",
       " [1.2, 7.2595, 8.707, -118.7405, -96.293],\n",
       " [1.3, 8.1302, 9.355, -128.3698, -95.645],\n",
       " [1.4, 9.0657, 10.0505, -137.9343, -94.9495],\n",
       " [1.5, 10.07075, 10.7925, -147.42925, -94.2075],\n",
       " [1.6, 11.15, 11.58, -156.85, -93.42],\n",
       " [1.7, 12.308, 12.412, -166.192, -92.588],\n",
       " [1.8, 13.5492, 13.2875, -175.4508, -91.7125],\n",
       " [1.9, 14.87795, 14.2055, -184.62205, -90.7945],\n",
       " [2.0, 16.2985, 15.165, -193.7015, -89.835],\n",
       " [2.1, 17.815, 16.165, -202.685, -88.835],\n",
       " [2.2, 19.4315, 17.2045, -211.5685, -87.7955],\n",
       " [2.3, 21.15195, 18.2825, -220.34805, -86.7175],\n",
       " [2.4, 22.9802, 19.398, -229.0198, -85.602],\n",
       " [2.5, 24.92, 20.55, -237.58, -84.45],\n",
       " [2.6, 26.975, 21.7375, -246.025, -83.2625],\n",
       " [2.7, 29.14875, 22.9595, -254.35125, -82.0405],\n",
       " [2.8, 31.4447, 24.215, -262.5553, -80.785],\n",
       " [2.9, 33.8662, 25.503, -270.6338, -79.497],\n",
       " [3.0, 36.4165, 26.8225, -278.5835, -78.1775],\n",
       " [3.1, 39.09875, 28.1725, -286.40125, -76.8275],\n",
       " [3.2, 41.916, 29.552, -294.084, -75.448],\n",
       " [3.3, 44.8712, 30.96, -301.6288, -74.04],\n",
       " [3.4, 47.9672, 32.3955, -309.0328, -72.6045],\n",
       " [3.5, 51.20675, 33.8575, -316.29325, -71.1425],\n",
       " [3.6, 54.5925, 35.345, -323.4075, -69.655],\n",
       " [3.7, 58.127, 36.857, -330.373, -68.143],\n",
       " [3.8, 61.8127, 38.3925, -337.1873, -66.6075],\n",
       " [3.9, 65.65195, 39.9505, -343.84805, -65.0495],\n",
       " [4.0, 69.647, 41.53, -350.353, -63.47],\n",
       " [4.1, 73.8, 43.13, -356.7, -61.87],\n",
       " [4.2, 78.113, 44.7495, -362.887, -60.2505],\n",
       " [4.3, 82.58795, 46.3875, -368.91205, -58.6125],\n",
       " [4.4, 87.2267, 48.043, -374.7733, -56.957],\n",
       " [4.5, 92.031, 49.715, -380.469, -55.285],\n",
       " [4.6, 97.0025, 51.4025, -385.9975, -53.5975],\n",
       " [4.7, 102.14275, 53.1045, -391.35725, -51.8955],\n",
       " [4.8, 107.4532, 54.82, -396.5468, -50.18],\n",
       " [4.9, 112.9352, 56.548, -401.5648, -48.452],\n",
       " [5.0, 118.59, 58.2875, -406.41, -46.7125],\n",
       " [5.1, 124.41875, 60.0375, -411.08125, -44.9625],\n",
       " [5.2, 130.4225, 61.797, -415.5775, -43.203],\n",
       " [5.3, 136.6022, 63.565, -419.8978, -41.435],\n",
       " [5.4, 142.9587, 65.3405, -424.0413, -39.6595],\n",
       " [5.5, 149.49275, 67.1225, -428.00725, -37.8775],\n",
       " [5.6, 156.205, 68.91, -431.795, -36.09],\n",
       " [5.7, 163.096, 70.702, -435.404, -34.298],\n",
       " [5.8, 170.1662, 72.4975, -438.8338, -32.5025],\n",
       " [5.9, 177.41595, 74.2955, -442.08405, -30.7045],\n",
       " [6.0, 184.8455, 76.095, -445.1545, -28.905],\n",
       " [6.1, 192.455, 77.895, -448.045, -27.105],\n",
       " [6.2, 200.2445, 79.6945, -450.7555, -25.3055],\n",
       " [6.3, 208.21395, 81.4925, -453.28605, -23.5075],\n",
       " [6.4, 216.3632, 83.288, -455.6368, -21.712],\n",
       " [6.5, 224.692, 85.08, -457.808, -19.92],\n",
       " [6.6, 233.2, 86.8675, -459.8, -18.1325],\n",
       " [6.7, 241.88675, 88.6495, -461.61325, -16.3505],\n",
       " [6.8, 250.7517, 90.425, -463.2483, -14.575],\n",
       " [6.9, 259.7942, 92.193, -464.7058, -12.807],\n",
       " [7.0, 269.0135, 93.9525, -465.9865, -11.0475],\n",
       " [7.1, 278.40875, 95.7025, -467.09125, -9.2975],\n",
       " [7.2, 287.979, 97.442, -468.021, -7.558],\n",
       " [7.3, 297.7232, 99.17, -468.7768, -5.83],\n",
       " [7.4, 307.6402, 100.8855, -469.3598, -4.1145],\n",
       " [7.5, 317.72875, 102.5875, -469.77125, -2.4125],\n",
       " [7.6, 327.9875, 104.275, -470.0125, -0.725],\n",
       " [7.7, 338.415, 105.947, -470.085, 0.947],\n",
       " [7.8, 349.0097, 107.6025, -469.9903, 2.6025],\n",
       " [7.9, 359.76995, 109.2405, -469.73005, 4.2405],\n",
       " [8.0, 370.694, 110.86, -469.306, 5.86],\n",
       " [8.1, 381.78, 112.46, -468.72, 7.46],\n",
       " [8.2, 393.026, 114.0395, -467.974, 9.0395],\n",
       " [8.3, 404.42995, 115.5975, -467.07005, 10.5975],\n",
       " [8.4, 415.9897, 117.133, -466.0103, 12.133],\n",
       " [8.5, 427.703, 118.645, -464.797, 13.645],\n",
       " [8.6, 439.5675, 120.1325, -463.4325, 15.1325],\n",
       " [8.7, 451.58075, 121.5945, -461.91925, 16.5945],\n",
       " [8.8, 463.7402, 123.03, -460.2598, 18.03],\n",
       " [8.9, 476.0432, 124.438, -458.4568, 19.438],\n",
       " [9.0, 488.487, 125.8175, -456.513, 20.8175],\n",
       " [9.1, 501.06875, 127.1675, -454.43125, 22.1675],\n",
       " [9.2, 513.7855, 128.487, -452.2145, 23.487],\n",
       " [9.3, 526.6342, 129.775, -449.8658, 24.775],\n",
       " [9.4, 539.6117, 131.0305, -447.3883, 26.0305],\n",
       " [9.5, 552.71475, 132.2525, -444.78525, 27.2525],\n",
       " [9.6, 565.94, 133.44, -442.06, 28.44],\n",
       " [9.7, 579.284, 134.592, -439.216, 29.592],\n",
       " [9.8, 592.7432, 135.7075, -436.2568, 30.7075],\n",
       " [9.9, 606.31395, 136.7855, -433.18605, 31.7855],\n",
       " [10.0, 619.9925, 137.825, -430.0075, 32.825],\n",
       " [10.1, 633.775, 138.825, -426.725, 33.825],\n",
       " [10.2, 647.6575, 139.7845, -423.3425, 34.7845],\n",
       " [10.3, 661.63595, 140.7025, -419.86405, 35.7025],\n",
       " [10.4, 675.7062, 141.578, -416.2938, 36.578],\n",
       " [10.5, 689.864, 142.41, -412.636, 37.41],\n",
       " [10.6, 704.105, 143.1975, -408.895, 38.1975],\n",
       " [10.7, 718.42475, 143.9395, -405.07525, 38.9395],\n",
       " [10.8, 732.8187, 144.635, -401.1813, 39.635],\n",
       " [10.9, 747.2822, 145.283, -397.2178, 40.283],\n",
       " [11.0, 761.8105, 145.8825, -393.1895, 40.8825],\n",
       " [11.1, 776.39875, 146.4325, -389.10125, 41.4325],\n",
       " [11.2, 791.042, 146.932, -384.958, 41.932],\n",
       " [11.3, 805.7352, 147.38, -380.7648, 42.38],\n",
       " [11.4, 820.4732, 147.7755, -376.5268, 42.7755],\n",
       " [11.5, 835.25075, 148.1175, -372.24925, 43.1175],\n",
       " [11.6, 850.0625, 148.405, -367.9375, 43.405],\n",
       " [11.7, 864.903, 148.637, -363.597, 43.637],\n",
       " [11.8, 879.7667, 148.8125, -359.2333, 43.8125],\n",
       " [11.9, 894.64795, 148.9305, -354.85205, 43.9305],\n",
       " [12.0, 909.541, 148.99, -350.459, 43.99]]"
      ]
     },
     "execution_count": 85,
     "metadata": {},
     "output_type": "execute_result"
    }
   ],
   "source": [
    "table = ListTable()\n",
    "table.append(['x', 'w1', 'z1','w2', 'z2'\n",
    "              ])\n",
    "tableSize = 120\n",
    "for i in range (0,tableSize+1):\n",
    "    table.append([round(x1[i],5), round(w1[i],5), round(z1[i],5), round(w2[i],5), round(z2[i],5)])\n",
    "    \n",
    "table"
   ]
  },
  {
   "cell_type": "markdown",
   "metadata": {},
   "source": [
    "$y'(0)$ | $y_3 \\approx y(12)$ | \n",
    "--- | --- |\n",
    "$p_0$ | $q_0$ | \n",
    "$p_1$ | $q_1$ | \n",
    "\n",
    "\n",
    "Interpolating a more accurate value for $y'(0)$:\n",
    "\n",
    "$$ p = p_0 + \\frac{p_1-p_0}{q_1-q_0}(q-q_0) $$\n",
    "\n",
    "In the example above we have:\n",
    "\n",
    "$y'(0)$ | $y_3 \\approx y(12)$ | \n",
    "--- | --- |\n",
    "5 | 909.541 | \n",
    "-100 | -350.459 | \n",
    "\n",
    "\n",
    "Therefore:\n",
    "\n",
    "$$ p = 5 + \\frac{-100 -5}{-350.459-909.541}(q-909.541) $$\n",
    "\n",
    "We want the value of p when $q=0$, therefore $p = -70.79508$\n",
    "\n",
    "We now rerun through the IVP method with y(0) =0 and y'(0) = -70.79508 as the initial conditions.\n"
   ]
  },
  {
   "cell_type": "code",
   "execution_count": 81,
   "metadata": {},
   "outputs": [
    {
     "name": "stdout",
     "output_type": "stream",
     "text": [
      "-70.79508333333334\n"
     ]
    }
   ],
   "source": [
    "## Best Guess\n",
    "p = 5 + (z2[0]-z1[0])/(w2[N1]-w1[N1])*(-w1[N1])\n",
    "print(p)\n",
    "\n",
    "IC_W3=0 # Intial condtion\n",
    "IC_Z3=p # Intial condtion\n",
    "w3 = np.zeros(N1+1)\n",
    "z3 = np.zeros(N1+1)\n",
    "\n",
    "w3[0]=IC_W3\n",
    "z3[0]=IC_Z3"
   ]
  },
  {
   "cell_type": "code",
   "execution_count": 82,
   "metadata": {},
   "outputs": [
    {
     "data": {
      "text/plain": [
       "Text(0.5, 1.0, 'BVP Shooting Method Best Guess (z=-21.33) solution')"
      ]
     },
     "execution_count": 82,
     "metadata": {},
     "output_type": "execute_result"
    },
    {
     "data": {
      "image/png": "[encoded data removed]",
      "text/plain": [
       "<Figure size 720x288 with 1 Axes>"
      ]
     },
     "metadata": {
      "needs_background": "light"
     },
     "output_type": "display_data"
    }
   ],
   "source": [
    "for i in range (0,N1):\n",
    "    w3[i+1]=w3[i]+h1*myfun_f1(x1[i], w3[i], z3[i])\n",
    "    z3[i+1]=z3[i]+h1*myfun_f2(x1[i], w3[i], z3[i])\n",
    "    \n",
    "    \n",
    "    \n",
    "    \n",
    "fig = plt.figure(figsize=(10,4))\n",
    "plt.plot(x1,w3,'s:',color='green',label='BVP Shooting Method best Guess (Euler)')\n",
    "\n",
    "\n",
    "\n",
    "plt.xlim((0,12))\n",
    "plt.xlabel('x')\n",
    "plt.legend(loc='best')\n",
    "plt.title('BVP Shooting Method Best Guess (z=-21.33) solution')"
   ]
  },
  {
   "cell_type": "code",
   "execution_count": 83,
   "metadata": {},
   "outputs": [
    {
     "data": {
      "text/html": [
       "<table><tr><td>x</td><td>w1</td><td>z1</td><td>w2</td><td>z2</td><td>w3</td><td>z3</td></tr><tr><td>4.0</td><td>69.647</td><td>41.53</td><td>-350.353</td><td>-63.47</td><td>-233.53333</td><td>-34.26508</td></tr><tr><td>12.0</td><td>909.541</td><td>148.99</td><td>-350.459</td><td>43.99</td><td>-0.0</td><td>73.19492</td></tr></table>"
      ],
      "text/plain": [
       "[['x', 'w1', 'z1', 'w2', 'z2', 'w3', 'z3'],\n",
       " [4.0, 69.647, 41.53, -350.353, -63.47, -233.53333, -34.26508],\n",
       " [12.0, 909.541, 148.99, -350.459, 43.99, -0.0, 73.19492]]"
      ]
     },
     "execution_count": 83,
     "metadata": {},
     "output_type": "execute_result"
    }
   ],
   "source": [
    "table = ListTable()\n",
    "table.append(['x', 'w1', 'z1','w2', 'z2', 'w3', 'z3'\n",
    "              ])\n",
    "\n",
    "table.append([round(x1[int(4/h1)],5), round(w1[int(4/h1)],5), round(z1[int(4/h1)],5), \n",
    "              round(w2[int(4/h1)],5), round(z2[int(4/h1)],5), \n",
    "                 round(w3[int(4/h1)],5), round(z3[int(4/h1)],5)])\n",
    "table.append([round(x1[N1],5), round(w1[N1],5), round(z1[N1],5), round(w2[N1],5), round(z2[N1],5), \n",
    "                 round(w3[N1],5), round(z3[N1],5)])\n",
    "\n",
    "\"\"\"\n",
    "tableSize = 120\n",
    "for i in range (0,tableSize+1):\n",
    "    table.append([round(x1[i],5), round(w1[i],5), round(z1[i],5), round(w2[i],5), round(z2[i],5), \n",
    "                 round(w3[i],5), round(z3[i],5)])\n",
    "\"\"\"\n",
    "    \n",
    "table"
   ]
  },
  {
   "cell_type": "code",
   "execution_count": null,
   "metadata": {},
   "outputs": [],
   "source": []
  },
  {
   "cell_type": "code",
   "execution_count": null,
   "metadata": {},
   "outputs": [],
   "source": []
  }
 ],
 "metadata": {
  "kernelspec": {
   "display_name": "Python 3",
   "language": "python",
   "name": "python3"
  },
  "language_info": {
   "codemirror_mode": {
    "name": "ipython",
    "version": 3
   },
   "file_extension": ".py",
   "mimetype": "text/x-python",
   "name": "python",
   "nbconvert_exporter": "python",
   "pygments_lexer": "ipython3",
   "version": "3.7.4"
  }
 },
 "nbformat": 4,
 "nbformat_minor": 2
}
