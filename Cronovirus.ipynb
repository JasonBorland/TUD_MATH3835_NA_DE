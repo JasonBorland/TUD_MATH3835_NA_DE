{
 "cells": [
  {
   "cell_type": "code",
   "execution_count": null,
   "metadata": {},
   "outputs": [],
   "source": [
    "import plotly.offline as go_offline\n",
    "import plotly.graph_objects as go\n",
    "import pandas as pd"
   ]
  },
  {
   "cell_type": "code",
   "execution_count": null,
   "metadata": {},
   "outputs": [],
   "source": [
    "#READING DATA\n",
    "url='https://docs.google.com/spreadsheets/d/18X1VM1671d99V_yd-cnUI1j8oSG2ZgfU_q1HfOizErA/export?format=csv&id'\n",
    "data=pd.read_csv(url)\n",
    "data=data.fillna(0)"
   ]
  },
  {
   "cell_type": "code",
   "execution_count": null,
   "metadata": {},
   "outputs": [],
   "source": [
    "#SOME VARIABLES INITIATIONS\n",
    "fig=go.Figure()\n",
    "col_name=data.columns\n",
    "n_col=len(data.columns)\n",
    "date_list=[]\n",
    "init=4\n",
    "n_range=int((n_col-5)/2)"
   ]
  },
  {
   "cell_type": "code",
   "execution_count": null,
   "metadata": {},
   "outputs": [],
   "source": [
    "#LOOPING FOR DATA SPLITTING AND FIGURES \n",
    "for i in range(n_range):\n",
    "    col_case=init+1\n",
    "    col_dead=col_case+1\n",
    "    init=col_case+1\n",
    "    df_split=data[['latitude','longitude','country','location',col_name[col_case],col_name[col_dead]]]\n",
    "    df=df_split[(df_split[col_name[col_case]]!=0)]\n",
    "    lat=df['latitude']\n",
    "    lon=df['longitude']\n",
    "    case=df[df.columns[-2]].astype(int)\n",
    "    deaths=df[df.columns[-1]].astype(int)\n",
    "    df['text']=df['country']+'<br>'+df['location']+'<br>'+'confirmed cases: '+ case.astype(str)+'<br>'+'deaths: '+deaths.astype(str)\n",
    "    date_label=deaths.name[7:17]\n",
    "    date_list.append(date_label)\n",
    "    \n",
    "    #ADDING GEOSCATTER PLOT\n",
    "    fig.add_trace(go.Scattergeo(\n",
    "    name='',\n",
    "    lon=lon,\n",
    "    lat=lat,\n",
    "    visible=False,\n",
    "    hovertemplate=df['text'],\n",
    "    text=df['text'],\n",
    "    mode='markers',\n",
    "    marker=dict(size=15,opacity=0.6,color='Red', symbol='circle'),\n",
    "    ))"
   ]
  },
  {
   "cell_type": "code",
   "execution_count": null,
   "metadata": {},
   "outputs": [],
   "source": [
    "#SLIDER PART\n",
    "steps = []\n",
    "for i in range(len(fig.data)):\n",
    "    step = dict(\n",
    "        method=\"restyle\",\n",
    "        args=[\"visible\", [False] * len(fig.data)],\n",
    "        label=date_list[i],\n",
    "    )\n",
    "    step[\"args\"][1][i] = True  # Toggle i'th trace to \"visible\"\n",
    "    steps.append(step)\n",
    "    \n",
    "sliders = [dict(\n",
    "    active=0,\n",
    "    currentvalue={\"prefix\": \"Date: \"},\n",
    "    pad={\"t\": 1},\n",
    "    steps=steps\n",
    ")]"
   ]
  },
  {
   "cell_type": "code",
   "execution_count": null,
   "metadata": {},
   "outputs": [],
   "source": [
    "#SET FIRST FIGURE VISIBLE\n",
    "fig.data[0].visible=True\n",
    "\n",
    "#SHOW AND SAVE TO HTML\n",
    "fig.update_layout(sliders=sliders,title='Coronavirus Spreading Map'+'<br>geodose.com',height=600)\n",
    "fig.show()\n",
    "go_offline.plot(fig,filename='F:/html/map_ncov_slider.html',validate=True, auto_open=False)"
   ]
  },
  {
   "cell_type": "code",
   "execution_count": null,
   "metadata": {},
   "outputs": [],
   "source": []
  }
 ],
 "metadata": {
  "kernelspec": {
   "display_name": "Python 3",
   "language": "python",
   "name": "python3"
  },
  "language_info": {
   "codemirror_mode": {
    "name": "ipython",
    "version": 3
   },
   "file_extension": ".py",
   "mimetype": "text/x-python",
   "name": "python",
   "nbconvert_exporter": "python",
   "pygments_lexer": "ipython3",
   "version": "3.7.4"
  }
 },
 "nbformat": 4,
 "nbformat_minor": 2
}
