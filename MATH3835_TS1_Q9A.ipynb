{
 "cells": [
  {
   "cell_type": "markdown",
   "metadata": {},
   "source": [
    "# Question 9A: RK4 Method"
   ]
  },
  {
   "cell_type": "markdown",
   "metadata": {},
   "source": [
    "The more general form of a first order Ordinary Differential Equation is: $$ y′=f(x,y) $$\n",
    " \n",
    "This can be solved analytically by integrating both sides but this is not straight forward for most problems. Numerical methods can be used to approximate the solution at discrete points.\n",
    "\n",
    "$$ y' = f(x,y) = \\frac{1}{4}(1-\\frac{1}{20}y) $$ \n",
    "\n",
    "Initial Condition $ y(0) = 1 $\n",
    "\n",
    "Boundary $ 0 \\le x \\le 20 $\n",
    "\n",
    "Step Size $ h = 0.01 $\n",
    "\n",
    "Actual Solution $ y(x) = \\frac{20}{1 + 19e^{\\frac{-x}{4}}} $\n",
    "\n",
    "\n",
    "\n"
   ]
  },
  {
   "cell_type": "code",
   "execution_count": 1,
   "metadata": {},
   "outputs": [],
   "source": [
    "## Library\n",
    "import numpy as np\n",
    "import math \n",
    "\n",
    "%matplotlib inline\n",
    "import matplotlib.pyplot as plt # side-stepping mpl backend\n",
    "import matplotlib.gridspec as gridspec # subplots\n",
    "import warnings\n",
    "\n",
    "warnings.filterwarnings(\"ignore\")\n",
    "class ListTable(list):\n",
    "    \"\"\" Overridden list class which takes a 2-dimensional list of \n",
    "        the form [[1,2,3],[4,5,6]], and renders an HTML Table in \n",
    "        IPython Notebook. \"\"\"\n",
    "    \n",
    "    def _repr_html_(self):\n",
    "        html = [\"<table>\"]\n",
    "        for row in self:\n",
    "            html.append(\"<tr>\")\n",
    "            \n",
    "            for col in row:\n",
    "                html.append(\"<td>{0}</td>\".format(col))\n",
    "            \n",
    "            html.append(\"</tr>\")\n",
    "        html.append(\"</table>\")\n",
    "        return ''.join(html)"
   ]
  },
  {
   "cell_type": "markdown",
   "metadata": {},
   "source": [
    "## Defining the Function"
   ]
  },
  {
   "cell_type": "code",
   "execution_count": 2,
   "metadata": {},
   "outputs": [],
   "source": [
    "def myfun_xy(x,y):\n",
    "    return (0.25*y*(1 - 1/20*y))\n"
   ]
  },
  {
   "cell_type": "markdown",
   "metadata": {},
   "source": [
    "## Discrete Interval \n",
    "Here we will use two different steps sizes on the  $ 0 \\leq x \\leq 20 $.\n",
    "### Interval\n",
    "The step Size will be $h = 0.01$\n",
    "\n",
    "with the discrete time steps,\n",
    "$$ x_{i} = 0 + i0.01 $$\n",
    "for  $i=0,1,...,2000$."
   ]
  },
  {
   "cell_type": "code",
   "execution_count": 3,
   "metadata": {},
   "outputs": [
    {
     "data": {
      "image/png": "[encoded data removed]",
      "text/plain": [
       "<Figure size 1440x288 with 1 Axes>"
      ]
     },
     "metadata": {
      "needs_background": "light"
     },
     "output_type": "display_data"
    }
   ],
   "source": [
    "# Start and end of interval\n",
    "b=2\n",
    "a=0\n",
    "# Steps N1=400\n",
    "N1=200\n",
    "h1=0.01\n",
    "\n",
    "\n",
    "x1=np.arange(a,b+h1,h1)\n",
    "#x2=np.arange(a,b+h2,h2)\n",
    "\n",
    "fig = plt.figure(figsize=(20,4))\n",
    "plt.plot(x1,0*x1,'s:',color='red',label='Fine Grid h=%s'%(h1))\n",
    "#plt.plot(x2,0*x2+.05,'v:',color='blue',label='Fine Grid h=%s'%(h2))\n",
    "\n",
    "plt.xlim((0,1))\n",
    "plt.ylim((-0.1,0.1))\n",
    "plt.title('Illustration of discrete time points')\n",
    "plt.legend()\n",
    "plt.show()"
   ]
  },
  {
   "cell_type": "code",
   "execution_count": 13,
   "metadata": {},
   "outputs": [
    {
     "data": {
      "text/plain": [
       "Text(0.5, 1.0, 'Analytic (Exact) solution')"
      ]
     },
     "execution_count": 13,
     "metadata": {},
     "output_type": "execute_result"
    },
    {
     "data": {
      "image/png": "[encoded data removed]",
      "text/plain": [
       "<Figure size 1440x288 with 1 Axes>"
      ]
     },
     "metadata": {
      "needs_background": "light"
     },
     "output_type": "display_data"
    }
   ],
   "source": [
    "## Analytic Solution y\n",
    "y1= 20/(1+19*np.exp(-x1/4))\n",
    "\n",
    "\n",
    "fig = plt.figure(figsize=(20,4))\n",
    "plt.plot(x1,y1,'o:',color='black')\n",
    "#plt.plot(x2,y2,'v:',color='blue')\n",
    "plt.xlim((0,2))\n",
    "plt.xlabel('x')\n",
    "plt.ylabel('y')\n",
    "\n",
    "plt.title('Analytic (Exact) solution')"
   ]
  },
  {
   "cell_type": "markdown",
   "metadata": {},
   "source": [
    "## Setting up the inital Conditions\n",
    "$$ w_{0} = 1 $$"
   ]
  },
  {
   "cell_type": "code",
   "execution_count": 14,
   "metadata": {},
   "outputs": [],
   "source": [
    "# Initial Condition\n",
    "IC=1\n",
    "w1=np.zeros(N1+1)\n",
    "w1[0]=IC\n"
   ]
  },
  {
   "cell_type": "markdown",
   "metadata": {},
   "source": [
    "## 4th Order Runge Kutta\n",
    "The general form of the 4th order Runge Kutta is:\n",
    "$$\n",
    "\\begin{align*}\n",
    "k_{1}&=hf(x_{i},w_{i}),  \\\\\n",
    "k_{2}&=hf(x_{i}+\\frac{h}{2},w_{i}+\\frac{1}{2}k_{1}),  \\\\\n",
    "k_{3}&=hf(x_{i}+\\frac{h}{2},w{i}+\\frac{1}{2}k_{2}),  \\\\\n",
    "k_{4}&=hf(x_{i}+h,w_{i}+k_{3}),  \\\\\n",
    "w_{i+1}&=w_{i} +\\frac{1}{6}(k_{1}+2k_{2}+2k_{3}+k_{4}). \\\\\n",
    "\\end{align*}\n",
    "$$\n",
    "\n"
   ]
  },
  {
   "cell_type": "code",
   "execution_count": 15,
   "metadata": {},
   "outputs": [
    {
     "data": {
      "text/plain": [
       "Text(0.5, 1.0, 'Analytic and RK4 Method solution')"
      ]
     },
     "execution_count": 15,
     "metadata": {},
     "output_type": "execute_result"
    },
    {
     "data": {
      "image/png": "[encoded data removed]",
      "text/plain": [
       "<Figure size 1440x288 with 1 Axes>"
      ]
     },
     "metadata": {
      "needs_background": "light"
     },
     "output_type": "display_data"
    }
   ],
   "source": [
    "\n",
    "for k in range (0,N1):\n",
    "    k1=h1*myfun_xy(x1[k],w1[k])\n",
    "    k2=h1*myfun_xy(x1[k]+h1/2,w1[k]+1/2*k1)\n",
    "    k3=h1*myfun_xy(x1[k]+h1/2,w1[k]+1/2*k2)\n",
    "    k4=h1*myfun_xy(x1[k]+h1,w1[k]+k3)\n",
    "    w1[k+1]=w1[k]+1/6*(k1+2*k2+2*k3+k4)\n",
    "    \n",
    "\n",
    "fig = plt.figure(figsize=(20,4))\n",
    "plt.plot(x1,y1,'o:',color='black',label='exact')\n",
    "plt.plot(x1,w1,'s:',color='blue',label='RK4 Method h=0.01')\n",
    "\n",
    "plt.xlim((0,1))\n",
    "plt.xlabel('x')\n",
    "plt.legend(loc='best')\n",
    "plt.title('Analytic and RK4 Method solution')"
   ]
  },
  {
   "cell_type": "code",
   "execution_count": 17,
   "metadata": {},
   "outputs": [
    {
     "data": {
      "text/html": [
       "<table><tr><td>x</td><td>w1 RK4 h=0.01</td><td>Exact</td><td>RK4 Err 0.01</td><td>% Err RK4 0.01</td></tr><tr><td>0.0</td><td>1.0</td><td>1.0</td><td>0.0</td><td>0.0</td></tr><tr><td>0.01</td><td>1.00238</td><td>1.00238</td><td>0.0</td><td>0.0</td></tr><tr><td>0.02</td><td>1.00476</td><td>1.00476</td><td>0.0</td><td>0.0</td></tr><tr><td>0.03</td><td>1.00715</td><td>1.00715</td><td>0.0</td><td>0.0</td></tr><tr><td>0.04</td><td>1.00954</td><td>1.00954</td><td>0.0</td><td>0.0</td></tr><tr><td>0.05</td><td>1.01194</td><td>1.01194</td><td>0.0</td><td>0.0</td></tr><tr><td>0.06</td><td>1.01435</td><td>1.01435</td><td>0.0</td><td>0.0</td></tr><tr><td>0.07</td><td>1.01676</td><td>1.01676</td><td>0.0</td><td>0.0</td></tr><tr><td>0.08</td><td>1.01917</td><td>1.01917</td><td>0.0</td><td>0.0</td></tr><tr><td>0.09</td><td>1.02159</td><td>1.02159</td><td>0.0</td><td>0.0</td></tr><tr><td>0.1</td><td>1.02402</td><td>1.02402</td><td>0.0</td><td>0.0</td></tr><tr><td>0.11</td><td>1.02645</td><td>1.02645</td><td>0.0</td><td>0.0</td></tr><tr><td>0.12</td><td>1.02889</td><td>1.02889</td><td>0.0</td><td>0.0</td></tr><tr><td>0.13</td><td>1.03133</td><td>1.03133</td><td>0.0</td><td>0.0</td></tr><tr><td>0.14</td><td>1.03378</td><td>1.03378</td><td>0.0</td><td>0.0</td></tr><tr><td>0.15</td><td>1.03623</td><td>1.03623</td><td>0.0</td><td>0.0</td></tr><tr><td>0.16</td><td>1.03869</td><td>1.03869</td><td>0.0</td><td>0.0</td></tr><tr><td>0.17</td><td>1.04116</td><td>1.04116</td><td>0.0</td><td>0.0</td></tr><tr><td>0.18</td><td>1.04363</td><td>1.04363</td><td>0.0</td><td>0.0</td></tr><tr><td>0.19</td><td>1.0461</td><td>1.0461</td><td>0.0</td><td>0.0</td></tr><tr><td>0.2</td><td>1.04858</td><td>1.04858</td><td>0.0</td><td>0.0</td></tr><tr><td>Max</td><td> </td><td> </td><td>0.0</td></tr></table>"
      ],
      "text/plain": [
       "[['x', 'w1 RK4 h=0.01', 'Exact', 'RK4 Err 0.01', '% Err RK4 0.01'],\n",
       " [0.0, 1.0, 1.0, 0.0, 0.0],\n",
       " [0.01, 1.00238, 1.00238, 0.0, 0.0],\n",
       " [0.02, 1.00476, 1.00476, 0.0, 0.0],\n",
       " [0.03, 1.00715, 1.00715, 0.0, 0.0],\n",
       " [0.04, 1.00954, 1.00954, 0.0, 0.0],\n",
       " [0.05, 1.01194, 1.01194, 0.0, 0.0],\n",
       " [0.06, 1.01435, 1.01435, 0.0, 0.0],\n",
       " [0.07, 1.01676, 1.01676, 0.0, 0.0],\n",
       " [0.08, 1.01917, 1.01917, 0.0, 0.0],\n",
       " [0.09, 1.02159, 1.02159, 0.0, 0.0],\n",
       " [0.1, 1.02402, 1.02402, 0.0, 0.0],\n",
       " [0.11, 1.02645, 1.02645, 0.0, 0.0],\n",
       " [0.12, 1.02889, 1.02889, 0.0, 0.0],\n",
       " [0.13, 1.03133, 1.03133, 0.0, 0.0],\n",
       " [0.14, 1.03378, 1.03378, 0.0, 0.0],\n",
       " [0.15, 1.03623, 1.03623, 0.0, 0.0],\n",
       " [0.16, 1.03869, 1.03869, 0.0, 0.0],\n",
       " [0.17, 1.04116, 1.04116, 0.0, 0.0],\n",
       " [0.18, 1.04363, 1.04363, 0.0, 0.0],\n",
       " [0.19, 1.0461, 1.0461, 0.0, 0.0],\n",
       " [0.2, 1.04858, 1.04858, 0.0, 0.0],\n",
       " ['Max', ' ', ' ', 0.0]]"
      ]
     },
     "execution_count": 17,
     "metadata": {},
     "output_type": "execute_result"
    }
   ],
   "source": [
    "table = ListTable()\n",
    "table.append(['x', 'w1 RK4 h=0.01', 'Exact',\n",
    "              'RK4 Err 0.01', '% Err RK4 0.01'])\n",
    "tableSize = 20\n",
    "for i in range (0,tableSize+1):\n",
    "    table.append([round(x1[i],5), round(w1[i],5), round(y1[i],5),\n",
    "                  round(abs(y1[i]-w1[i]),8), \n",
    "                 round(abs(y1[i]-w1[i])/abs(y1[i])*100,5)])\n",
    "    \n",
    "table.append(['Max',' ' ,' ' \n",
    "              , round(max(abs(y1-w1)),5)])\n",
    "table"
   ]
  },
  {
   "cell_type": "code",
   "execution_count": null,
   "metadata": {},
   "outputs": [],
   "source": []
  }
 ],
 "metadata": {
  "kernelspec": {
   "display_name": "Python 3",
   "language": "python",
   "name": "python3"
  },
  "language_info": {
   "codemirror_mode": {
    "name": "ipython",
    "version": 3
   },
   "file_extension": ".py",
   "mimetype": "text/x-python",
   "name": "python",
   "nbconvert_exporter": "python",
   "pygments_lexer": "ipython3",
   "version": "3.7.4"
  }
 },
 "nbformat": 4,
 "nbformat_minor": 2
}
