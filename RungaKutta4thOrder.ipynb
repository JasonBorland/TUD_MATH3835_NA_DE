{
 "cells": [
  {
   "cell_type": "markdown",
   "metadata": {},
   "source": [
    "## Example Runge Kutta\n",
    "This notebook illustrates the 4th order Runge Kutta method using the initial value problem\n",
    "$$ y′=t−y,  (0 \\leq t \\leq 4) $$\n",
    "with the initial condition\n",
    "$$ y(0)=1 $$.\n",
    " \n",
    "### Setting up Libraries"
   ]
  },
  {
   "cell_type": "code",
   "execution_count": 1,
   "metadata": {},
   "outputs": [],
   "source": [
    "import numpy as np\n",
    "import math \n",
    "\n",
    "%matplotlib inline\n",
    "import matplotlib.pyplot as plt # side-stepping mpl backend\n",
    "import matplotlib.gridspec as gridspec # subplots\n",
    "import warnings\n",
    "\n",
    "warnings.filterwarnings(\"ignore\")\n",
    "class ListTable(list):\n",
    "    \"\"\" Overridden list class which takes a 2-dimensional list of \n",
    "        the form [[1,2,3],[4,5,6]], and renders an HTML Table in \n",
    "        IPython Notebook. \"\"\"\n",
    "    \n",
    "    def _repr_html_(self):\n",
    "        html = [\"<table>\"]\n",
    "        for row in self:\n",
    "            html.append(\"<tr>\")\n",
    "            \n",
    "            for col in row:\n",
    "                html.append(\"<td>{0}</td>\".format(col))\n",
    "            \n",
    "            html.append(\"</tr>\")\n",
    "        html.append(\"</table>\")\n",
    "        return ''.join(html)"
   ]
  },
  {
   "cell_type": "markdown",
   "metadata": {},
   "source": [
    "### Defining the function\n",
    "$$ f(t,y)=t−y $$\n",
    " \n"
   ]
  },
  {
   "cell_type": "code",
   "execution_count": 2,
   "metadata": {},
   "outputs": [],
   "source": [
    "def myfun_ty(t,y):\n",
    "    return t-y"
   ]
  },
  {
   "cell_type": "markdown",
   "metadata": {},
   "source": [
    "### Discrete Interval\n",
    "Defining the step size $h$ from the interval range $a \\leq t \\leq b$ and number of steps N\n",
    "$$ h = \\frac{b-a}{N} $$\n",
    "This gives the discrete time steps,\n",
    "$$ t_{i} = t_{0} + ih $$,\n",
    "where  $t_{0}=a$\n",
    "Here the interval is $0 \\leq t \\leq 4$ and number of steps 8\n",
    "$$ h = \\frac{4 - 0}{8} = 0.5 $$\n",
    "This gives the discrete time steps,\n",
    "$$ t_{i} = 0 + i0.5,$$\n",
    "\n",
    "for $i=0,1,⋯,8.$\n",
    " \n",
    "\n",
    " \n",
    "\n",
    " "
   ]
  },
  {
   "cell_type": "code",
   "execution_count": 3,
   "metadata": {},
   "outputs": [
    {
     "data": {
      "text/plain": [
       "Text(0.5, 1.0, 'Illustration of discrete time points for h=0.5')"
      ]
     },
     "execution_count": 3,
     "metadata": {},
     "output_type": "execute_result"
    },
    {
     "data": {
      "image/png": "[encoded data removed]",
      "text/plain": [
       "<Figure size 720x288 with 1 Axes>"
      ]
     },
     "metadata": {
      "needs_background": "light"
     },
     "output_type": "display_data"
    }
   ],
   "source": [
    "# Start and end of interval\n",
    "b=4\n",
    "a=0\n",
    "# Step size\n",
    "N=8\n",
    "h=(b-a)/(N)\n",
    "t=np.arange(a,b+h,h)\n",
    "fig = plt.figure(figsize=(10,4))\n",
    "plt.plot(t,0*t,'o:',color='red')\n",
    "plt.xlim((0,4))\n",
    "plt.title('Illustration of discrete time points for h=%s'%(h))"
   ]
  },
  {
   "cell_type": "markdown",
   "metadata": {},
   "source": [
    "## Exact Solution\n",
    "The intial value problem has the exact solution\n",
    "$$ y = 2e^{-t} +t -1 $$\n",
    "The figure below plots the exact solution."
   ]
  },
  {
   "cell_type": "code",
   "execution_count": 4,
   "metadata": {},
   "outputs": [
    {
     "data": {
      "text/plain": [
       "Text(0.5, 0, 'time')"
      ]
     },
     "execution_count": 4,
     "metadata": {},
     "output_type": "execute_result"
    },
    {
     "data": {
      "image/png": "[encoded data removed]",
      "text/plain": [
       "<Figure size 432x288 with 1 Axes>"
      ]
     },
     "metadata": {
      "needs_background": "light"
     },
     "output_type": "display_data"
    }
   ],
   "source": [
    "IC=1 # Intial condtion\n",
    "y=(IC+1)*np.exp(-t)+t-1\n",
    "fig = plt.figure(figsize=(6,4))\n",
    "plt.plot(t,y,'o-',color='black')\n",
    "plt.title('Exact Solution ')\n",
    "plt.xlabel('time')"
   ]
  },
  {
   "cell_type": "markdown",
   "metadata": {},
   "source": [
    "### Setting up the initial conditions of the equation\n",
    "$$w_0=1$$"
   ]
  },
  {
   "cell_type": "code",
   "execution_count": 5,
   "metadata": {},
   "outputs": [],
   "source": [
    "# Initial Condition\n",
    "w=np.zeros(N+1)\n",
    "#np.zeros(N+1)\n",
    "w[0]=IC"
   ]
  },
  {
   "cell_type": "markdown",
   "metadata": {},
   "source": [
    "## 4th Order Runge Kutta\n",
    "The general form of the 4th order Runge Kutta is:\n",
    "$$ k_{1}=f(t,w),$$\n",
    "$$ k_{2}=f(t+\\frac{h}{2},w+\\frac{h}{2}k_{1}),$$\n",
    "$$ k_{3}=f(t+\\frac{h}{2},w+\\frac{h}{2}k_{2}),$$\n",
    "$$ k_{4}=f(t+h,w+hk_{3}),$$\n",
    "$$ w_{i+1}=w_{i} +\\frac{h}{6}(k_{1}+2k_{2}+2k_{3}+k_{4}).$$\n",
    "\n",
    "For this differential equation the specific 4th order Runge Kutta methods is:\n",
    "\n",
    "$$ k_{1}= t - w_{i},$$\n",
    "$$ k_{2}= (t+\\frac{h}{2}) - ( w_{i}+\\frac{h}{2}k_{1}),$$\n",
    "$$ k_{2}= (t+\\frac{h}{2}) - ( w_{i}+\\frac{h}{2}k_{2}),$$\n",
    "$$ k_{4}= (t + h) - (w_{i} + hk_{3}),$$\n",
    "$$ w_{i+1}=w_{i} +\\frac{h}{6}(k_{1}+2k_{2}+2k_{3}+k_{4}).$$\n",
    "\n",
    "\n",
    " \n",
    "\n",
    "\n",
    " \n",
    " \n",
    "\n",
    "\n",
    " \n"
   ]
  },
  {
   "cell_type": "code",
   "execution_count": 6,
   "metadata": {},
   "outputs": [],
   "source": [
    "for k in range (0,N):\n",
    "    k1=myfun_ty(t[k],w[k])\n",
    "    k2=myfun_ty(t[k]+h/2,w[k]+h/2*k1)\n",
    "    k3=myfun_ty(t[k]+h/2,w[k]+h/2*k2)\n",
    "    k4=myfun_ty(t[k]+h,w[k]+h*k3)\n",
    "    w[k+1]=w[k]+h/6*(k1+2*k2+2*k3+k4)"
   ]
  },
  {
   "cell_type": "markdown",
   "metadata": {},
   "source": [
    "## Plotting Results\n",
    "The plot below shows the exact solution (black) and the 4th order Runge Kutta Approximation."
   ]
  },
  {
   "cell_type": "code",
   "execution_count": 7,
   "metadata": {},
   "outputs": [
    {
     "data": {
      "text/plain": [
       "<function matplotlib.pyplot.show(*args, **kw)>"
      ]
     },
     "execution_count": 7,
     "metadata": {},
     "output_type": "execute_result"
    },
    {
     "data": {
      "image/png": "[encoded data removed]",
      "text/plain": [
       "<Figure size 720x288 with 1 Axes>"
      ]
     },
     "metadata": {
      "needs_background": "light"
     },
     "output_type": "display_data"
    }
   ],
   "source": [
    "fig = plt.figure(figsize=(10,4))\n",
    "# --- left hand plot\n",
    "plt.plot(t,y, 'o-',color='black',label='Exact')\n",
    "plt.plot(t,w,'s:',color='blue',label='4th Runge Kutta ')\n",
    "plt.xlabel('time')\n",
    "plt.legend()\n",
    "plt.show"
   ]
  },
  {
   "cell_type": "code",
   "execution_count": 8,
   "metadata": {},
   "outputs": [
    {
     "data": {
      "text/html": [
       "<table><tr><td>time</td><td>RK</td><td>Exact</td><td>Error</td><td>LTE</td></tr><tr><td>0.0</td><td>1.0</td><td>1.0</td><td>0.0</td><td>0.0625</td></tr><tr><td>0.5</td><td>0.714</td><td>0.713</td><td>0.00048</td><td>0.0625</td></tr><tr><td>1.0</td><td>0.736</td><td>0.736</td><td>0.00058</td><td>0.0625</td></tr><tr><td>1.5</td><td>0.947</td><td>0.946</td><td>0.00053</td><td>0.0625</td></tr><tr><td>2.0</td><td>1.271</td><td>1.271</td><td>0.00043</td><td>0.0625</td></tr><tr><td>2.5</td><td>1.664</td><td>1.664</td><td>0.00033</td><td>0.0625</td></tr><tr><td>3.0</td><td>2.1</td><td>2.1</td><td>0.00024</td><td>0.0625</td></tr><tr><td>3.5</td><td>2.561</td><td>2.56</td><td>0.00017</td><td>0.0625</td></tr><tr><td>4.0</td><td>3.037</td><td>3.037</td><td>0.00012</td><td>0.0625</td></tr></table>"
      ],
      "text/plain": [
       "[['time', 'RK', 'Exact', 'Error', 'LTE'],\n",
       " [0.0, 1.0, 1.0, 0.0, 0.0625],\n",
       " [0.5, 0.714, 0.713, 0.00048, 0.0625],\n",
       " [1.0, 0.736, 0.736, 0.00058, 0.0625],\n",
       " [1.5, 0.947, 0.946, 0.00053, 0.0625],\n",
       " [2.0, 1.271, 1.271, 0.00043, 0.0625],\n",
       " [2.5, 1.664, 1.664, 0.00033, 0.0625],\n",
       " [3.0, 2.1, 2.1, 0.00024, 0.0625],\n",
       " [3.5, 2.561, 2.56, 0.00017, 0.0625],\n",
       " [4.0, 3.037, 3.037, 0.00012, 0.0625]]"
      ]
     },
     "execution_count": 8,
     "metadata": {},
     "output_type": "execute_result"
    }
   ],
   "source": [
    "table = ListTable()\n",
    "table.append(['time', 'RK','Exact','Error','LTE'])\n",
    "for i in range (0,N+1):\n",
    "    table.append([round(t[i],3), round(w[i],3), round(y[i],3),round(abs(y[i]-w[i]),5),round(2*0.5**5,5)])\n",
    "    \n",
    "table"
   ]
  },
  {
   "cell_type": "code",
   "execution_count": null,
   "metadata": {},
   "outputs": [],
   "source": []
  }
 ],
 "metadata": {
  "kernelspec": {
   "display_name": "Python 3",
   "language": "python",
   "name": "python3"
  },
  "language_info": {
   "codemirror_mode": {
    "name": "ipython",
    "version": 3
   },
   "file_extension": ".py",
   "mimetype": "text/x-python",
   "name": "python",
   "nbconvert_exporter": "python",
   "pygments_lexer": "ipython3",
   "version": "3.7.4"
  }
 },
 "nbformat": 4,
 "nbformat_minor": 2
}
