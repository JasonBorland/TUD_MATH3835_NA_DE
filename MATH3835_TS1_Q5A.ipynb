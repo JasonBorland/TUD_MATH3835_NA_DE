{
 "cells": [
  {
   "cell_type": "markdown",
   "metadata": {},
   "source": [
    "# Question 5A: Eulers MIDPOINT Method"
   ]
  },
  {
   "cell_type": "markdown",
   "metadata": {},
   "source": [
    "The more general form of a first order Ordinary Differential Equation is: $$ y′=f(x,y) $$\n",
    " \n",
    "This can be solved analytically by integrating both sides but this is not straight forward for most problems. Numerical methods can be used to approximate the solution at discrete points.\n",
    "\n",
    "$$ y' = f(x,y) = x - y $$ \n",
    "\n",
    "Initial Condition $ y(0) = 1 $\n",
    "\n",
    "Boundary $ 0 \\le x \\le 4 $\n",
    "\n",
    "Step Size $ h = 0.01 $\n",
    "\n",
    "Actual Solution $ y(x) = 2e^{-x} + x - 1 $\n",
    "\n",
    "\n",
    "\n"
   ]
  },
  {
   "cell_type": "code",
   "execution_count": 1,
   "metadata": {},
   "outputs": [],
   "source": [
    "## Library\n",
    "import numpy as np\n",
    "import math \n",
    "\n",
    "%matplotlib inline\n",
    "import matplotlib.pyplot as plt # side-stepping mpl backend\n",
    "import matplotlib.gridspec as gridspec # subplots\n",
    "import warnings\n",
    "\n",
    "warnings.filterwarnings(\"ignore\")\n",
    "class ListTable(list):\n",
    "    \"\"\" Overridden list class which takes a 2-dimensional list of \n",
    "        the form [[1,2,3],[4,5,6]], and renders an HTML Table in \n",
    "        IPython Notebook. \"\"\"\n",
    "    \n",
    "    def _repr_html_(self):\n",
    "        html = [\"<table>\"]\n",
    "        for row in self:\n",
    "            html.append(\"<tr>\")\n",
    "            \n",
    "            for col in row:\n",
    "                html.append(\"<td>{0}</td>\".format(col))\n",
    "            \n",
    "            html.append(\"</tr>\")\n",
    "        html.append(\"</table>\")\n",
    "        return ''.join(html)"
   ]
  },
  {
   "cell_type": "markdown",
   "metadata": {},
   "source": [
    "## Defining the Function"
   ]
  },
  {
   "cell_type": "code",
   "execution_count": 2,
   "metadata": {},
   "outputs": [],
   "source": [
    "def myfun_xy(x,y):\n",
    "    return (x -y)\n"
   ]
  },
  {
   "cell_type": "markdown",
   "metadata": {},
   "source": [
    "## Discrete Interval \n",
    "Here we will use two different steps sizes on the  $ 0 \\leq x \\leq 4 $.\n",
    "### Interval\n",
    "The step Size will be $h = 0.01$\n",
    "\n",
    "with the discrete time steps,\n",
    "$$ x_{i} = 0 + i0.01 $$\n",
    "for  $i=0,1,...,400$."
   ]
  },
  {
   "cell_type": "code",
   "execution_count": 4,
   "metadata": {},
   "outputs": [
    {
     "data": {
      "image/png": "[encoded data removed]",
      "text/plain": [
       "<Figure size 1440x288 with 1 Axes>"
      ]
     },
     "metadata": {
      "needs_background": "light"
     },
     "output_type": "display_data"
    }
   ],
   "source": [
    "# Start and end of interval\n",
    "b=4\n",
    "a=0\n",
    "# Steps N1=400\n",
    "N1=400\n",
    "#N2=200\n",
    "h1=0.01\n",
    "#h2=0.05\n",
    "\n",
    "x1=np.arange(a,b+h1,h1)\n",
    "#x2=np.arange(a,b+h2,h2)\n",
    "\n",
    "fig = plt.figure(figsize=(20,4))\n",
    "plt.plot(x1,0*x1,'s:',color='red',label='Fine Grid h=%s'%(h1))\n",
    "#plt.plot(x2,0*x2+.05,'v:',color='blue',label='Fine Grid h=%s'%(h2))\n",
    "\n",
    "plt.xlim((0,1))\n",
    "plt.ylim((-0.1,0.1))\n",
    "plt.title('Illustration of discrete time points')\n",
    "plt.legend()\n",
    "plt.show()"
   ]
  },
  {
   "cell_type": "code",
   "execution_count": 10,
   "metadata": {},
   "outputs": [
    {
     "data": {
      "text/plain": [
       "Text(0.5, 1.0, 'Analytic (Exact) solution')"
      ]
     },
     "execution_count": 10,
     "metadata": {},
     "output_type": "execute_result"
    },
    {
     "data": {
      "image/png": "[encoded data removed]",
      "text/plain": [
       "<Figure size 720x288 with 1 Axes>"
      ]
     },
     "metadata": {
      "needs_background": "light"
     },
     "output_type": "display_data"
    }
   ],
   "source": [
    "## Analytic Solution y\n",
    "y1= 2*np.exp(-x1) + x1 - 1\n",
    "#y2= -((x2**3 + x2 +1)**(-1))\n",
    "\n",
    "fig = plt.figure(figsize=(10,4))\n",
    "plt.plot(x1,y1,'o:',color='black')\n",
    "#plt.plot(x2,y2,'v:',color='blue')\n",
    "plt.xlim((0,1))\n",
    "plt.xlabel('x')\n",
    "plt.ylabel('y')\n",
    "\n",
    "plt.title('Analytic (Exact) solution')"
   ]
  },
  {
   "cell_type": "markdown",
   "metadata": {},
   "source": [
    "## Setting up the inital Conditions\n",
    "$$ w_{0} = 2 $$"
   ]
  },
  {
   "cell_type": "code",
   "execution_count": 8,
   "metadata": {},
   "outputs": [],
   "source": [
    "IC=1 # Intial condtion\n",
    "w1 = np.zeros(N1+1)\n",
    "w1bar = np.zeros(N1+1)\n",
    "# v1 = np.zeros(N1+1)\n",
    "# v1bar = np.zeros(N1+1)\n",
    "w1[0]=IC\n",
    "w1bar[0]=IC\n",
    "# v1bar[0]=IC\n",
    "# v1[0]=IC\n",
    "\n",
    "\n",
    "# w2 = np.zeros(N2+1)\n",
    "# v2 = np.zeros(N2+1)\n",
    "# v2bar = np.zeros(N2+1)\n",
    "# w2[0]=IC\n",
    "# v2bar[0]=IC\n",
    "# v2[0]=IC\n"
   ]
  },
  {
   "cell_type": "markdown",
   "metadata": {},
   "source": [
    "## Midpoint Euler\n",
    "Assuming uniform stepsize  $x_{i+1} − x_{i}$ is replaced by  h, re-arranging the equation gives:\n",
    "$$ w_{i+1} = w_{i} + hf(x_{i} + \\frac{h}{2}, w_{i} + \\frac{h}{2}f(x_{i}, w_{i})) $$\n",
    "\n",
    "$$ w_{i+\\frac{1}{2}} = w_{i} + \\frac{h}{2}f(x_{i}, w_{i}) $$\n",
    "\n",
    "\n",
    "\n"
   ]
  },
  {
   "cell_type": "code",
   "execution_count": 13,
   "metadata": {},
   "outputs": [
    {
     "data": {
      "text/plain": [
       "Text(0.5, 1.0, 'Analytic and Euler Midpoint solution')"
      ]
     },
     "execution_count": 13,
     "metadata": {},
     "output_type": "execute_result"
    },
    {
     "data": {
      "image/png": "[encoded data removed]",
      "text/plain": [
       "<Figure size 1440x288 with 1 Axes>"
      ]
     },
     "metadata": {
      "needs_background": "light"
     },
     "output_type": "display_data"
    }
   ],
   "source": [
    "\n",
    "for i in range (0,N1):\n",
    "    w1bar[i]=w1[i]+h1/2*myfun_xy(x1[i], w1[i])\n",
    "    w1[i+1]=w1[i]+h1*myfun_xy(x1[i]+h1/2, w1bar[i])\n",
    "    \n",
    "\n",
    "fig = plt.figure(figsize=(20,4))\n",
    "plt.plot(x1,y1,'o:',color='black',label='exact')\n",
    "plt.plot(x1,w1,'s:',color='blue',label='Midpoint Euler h=0.01')\n",
    "\n",
    "plt.xlim((0,1))\n",
    "plt.xlabel('x')\n",
    "plt.legend(loc='best')\n",
    "plt.title('Analytic and Euler Midpoint solution')"
   ]
  },
  {
   "cell_type": "code",
   "execution_count": 18,
   "metadata": {},
   "outputs": [
    {
     "data": {
      "text/html": [
       "<table><tr><td>x</td><td>w1 MP h=0.01</td><td>Exact</td><td>MP Err 0.01</td><td>% Err MP 0.01</td></tr><tr><td>0.0</td><td>1.0</td><td>1.0</td><td>0.0</td><td>0.0</td></tr><tr><td>0.01</td><td>0.99</td><td>0.99</td><td>3.3e-07</td><td>3e-05</td></tr><tr><td>0.02</td><td>0.98</td><td>0.98</td><td>6.6e-07</td><td>7e-05</td></tr><tr><td>0.03</td><td>0.971</td><td>0.971</td><td>9.8e-07</td><td>0.0001</td></tr><tr><td>0.04</td><td>0.962</td><td>0.962</td><td>1.29e-06</td><td>0.00013</td></tr><tr><td>0.05</td><td>0.952</td><td>0.952</td><td>1.6e-06</td><td>0.00017</td></tr><tr><td>0.06</td><td>0.944</td><td>0.944</td><td>1.9e-06</td><td>0.0002</td></tr><tr><td>0.07</td><td>0.935</td><td>0.935</td><td>2.19e-06</td><td>0.00023</td></tr><tr><td>0.08</td><td>0.926</td><td>0.926</td><td>2.48e-06</td><td>0.00027</td></tr><tr><td>0.09</td><td>0.918</td><td>0.918</td><td>2.76e-06</td><td>0.0003</td></tr><tr><td>0.1</td><td>0.91</td><td>0.91</td><td>3.04e-06</td><td>0.00033</td></tr><tr><td>Max</td><td> </td><td> </td><td>1e-05</td></tr></table>"
      ],
      "text/plain": [
       "[['x', 'w1 MP h=0.01', 'Exact', 'MP Err 0.01', '% Err MP 0.01'],\n",
       " [0.0, 1.0, 1.0, 0.0, 0.0],\n",
       " [0.01, 0.99, 0.99, 3.3e-07, 3e-05],\n",
       " [0.02, 0.98, 0.98, 6.6e-07, 7e-05],\n",
       " [0.03, 0.971, 0.971, 9.8e-07, 0.0001],\n",
       " [0.04, 0.962, 0.962, 1.29e-06, 0.00013],\n",
       " [0.05, 0.952, 0.952, 1.6e-06, 0.00017],\n",
       " [0.06, 0.944, 0.944, 1.9e-06, 0.0002],\n",
       " [0.07, 0.935, 0.935, 2.19e-06, 0.00023],\n",
       " [0.08, 0.926, 0.926, 2.48e-06, 0.00027],\n",
       " [0.09, 0.918, 0.918, 2.76e-06, 0.0003],\n",
       " [0.1, 0.91, 0.91, 3.04e-06, 0.00033],\n",
       " ['Max', ' ', ' ', 1e-05]]"
      ]
     },
     "execution_count": 18,
     "metadata": {},
     "output_type": "execute_result"
    }
   ],
   "source": [
    "table = ListTable()\n",
    "table.append(['x', 'w1 MP h=0.01', 'Exact',\n",
    "              'MP Err 0.01', '% Err MP 0.01'])\n",
    "tableSize = 10\n",
    "for i in range (0,tableSize+1):\n",
    "    table.append([round(x1[i],3), round(w1[i],3), round(y1[i],3),\n",
    "                  round(abs(y1[i]-w1[i]),8), \n",
    "                 round(abs(y1[i]-w1[i])/abs(y1[i])*100,5)])\n",
    "    \n",
    "table.append(['Max',' ' ,' ' \n",
    "              , round(max(abs(y1-w1)),5)])\n",
    "table"
   ]
  },
  {
   "cell_type": "code",
   "execution_count": null,
   "metadata": {},
   "outputs": [],
   "source": []
  }
 ],
 "metadata": {
  "kernelspec": {
   "display_name": "Python 3",
   "language": "python",
   "name": "python3"
  },
  "language_info": {
   "codemirror_mode": {
    "name": "ipython",
    "version": 3
   },
   "file_extension": ".py",
   "mimetype": "text/x-python",
   "name": "python",
   "nbconvert_exporter": "python",
   "pygments_lexer": "ipython3",
   "version": "3.7.4"
  }
 },
 "nbformat": 4,
 "nbformat_minor": 2
}
