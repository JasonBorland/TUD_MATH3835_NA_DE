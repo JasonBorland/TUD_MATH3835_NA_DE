{
 "cells": [
  {
   "cell_type": "markdown",
   "metadata": {},
   "source": [
    "# Question 3C: Finite Difference Method"
   ]
  },
  {
   "cell_type": "markdown",
   "metadata": {},
   "source": [
    "Given the second order differential equation function.\n",
    "\n",
    "$$ \\frac{d^2y}{dx^2} = f(x, y , \\frac{dy}{dx} )$$\n",
    "$$ xy'' - 2xy' +2y = x^3sin(x) $$\n",
    "\n",
    "The Boundary value problem:\n",
    "\n",
    "$$ y(\\frac{\\pi}{2}) = \\frac{1}{20}\\pi^2 - \\pi, \\ and \\ y(2\\pi) = \\frac{4}{5}\\pi^2 - 2\\pi $$\n",
    "\n",
    "The step size $h=\\pi/2$ the actual $y(x)$ is unknown, we wish to find $y(3\\pi/2)$.\n",
    "\n",
    "$$ y'' = \\frac{y_{n+1} - 2y_n + y_{n-1}}{h^2}  \\quad \\ (from \\ central \\ difference) (1) $$\n",
    "$$ y' = \\frac{y_{n+1} - y_n}{h} \\ quad \\ (From \\ Forward \\ Euler) \\ (2) $$\n",
    "\n",
    "\n",
    "\n",
    "So using (1) and (2) we get:\n",
    "\n",
    "$$ x_n\\frac{y_{n+1} - 2y_n + y_{n-1}}{h^2} - 2x_n\\frac{y_{n+1} - y_n}{h} + 2y_n = x_n^3\\sin(x_n)  \\quad (3)$$\n",
    "\n",
    "We are using $h=\\pi/2$, so (3) becomes,\n",
    "\n",
    "$$ y_{n+1}(\\frac{x_n}{h^2} -\\frac{2x_n}{h}) + 2y_n(\\frac{x_n}{h} - \\frac{x_n}{h^2} + 1) + y_{n-1}(\\frac{x_n}{h^2}) = x_n^3\\sin(x_n) \\quad (4)$$\n",
    "\n",
    "$$y_0 = \\frac{1}{20}\\pi^2 - \\pi$$                \n",
    "$$-2.726y_2 + 3.453y_1 + 1.2732y_0 = 0$$ \n",
    "$$-4.090y_3 + 4.18.028y_2 + 1.9098y_1 = 0$$\n",
    "$$y_3 = \\frac{4}{5}\\pi^2 - 2\\pi$$\n",
    "\n",
    "\n",
    "$$\n",
    "\\begin{equation*}\n",
    "\\begin{bmatrix}\n",
    "1 & 0 & 0 & 0 \\\\\n",
    "1.2732 & 3.45352 & -2.72676 & 0 \\\\\n",
    "0 & 1.9098 & 4.18028 & -4.09014 \\\\\n",
    "0 & 0 & 0 & 1\n",
    "\\end{bmatrix}\n",
    "\\begin{bmatrix}\n",
    "y_0 \\\\\n",
    "y_1 \\\\\n",
    "y_2 \\\\\n",
    "y_3 \n",
    "\\end{bmatrix}\n",
    "= \\begin{bmatrix}\n",
    "-2.64811243 \\\\\n",
    "0  \\\\\n",
    "-104.646 \\\\\n",
    "1.61249821\n",
    "\\end{bmatrix}\n",
    "\\end{equation*}\n",
    "$$\n",
    "\n",
    "\n"
   ]
  },
  {
   "cell_type": "code",
   "execution_count": 1,
   "metadata": {},
   "outputs": [],
   "source": [
    "## Library\n",
    "import numpy as np\n",
    "import math \n",
    "\n",
    "%matplotlib inline\n",
    "import matplotlib.pyplot as plt # side-stepping mpl backend\n",
    "import matplotlib.gridspec as gridspec # subplots\n",
    "import warnings\n",
    "\n",
    "warnings.filterwarnings(\"ignore\")\n",
    "class ListTable(list):\n",
    "    \"\"\" Overridden list class which takes a 2-dimensional list of \n",
    "        the form [[1,2,3],[4,5,6]], and renders an HTML Table in \n",
    "        IPython Notebook. \"\"\"\n",
    "    \n",
    "    def _repr_html_(self):\n",
    "        html = [\"<table>\"]\n",
    "        for row in self:\n",
    "            html.append(\"<tr>\")\n",
    "            \n",
    "            for col in row:\n",
    "                html.append(\"<td>{0}</td>\".format(col))\n",
    "            \n",
    "            html.append(\"</tr>\")\n",
    "        html.append(\"</table>\")\n",
    "        return ''.join(html)"
   ]
  },
  {
   "cell_type": "markdown",
   "metadata": {},
   "source": [
    "## Discrete Interval \n",
    "Here we will use a step sizes on the  $ \\frac{\\pi}{2} \\leq x \\leq 2\\pi $.\n",
    "### Interval\n",
    "The step Size will be $h_{1} = \\frac{\\pi}{2}$\n",
    "\n",
    "with the discrete time steps,\n",
    "$$ x_{i} = 0 + \\frac{\\pi}{2}i $$\n",
    "for  $i=0,1,...,3$.\n",
    "\n"
   ]
  },
  {
   "cell_type": "code",
   "execution_count": 2,
   "metadata": {},
   "outputs": [
    {
     "name": "stdout",
     "output_type": "stream",
     "text": [
      "1.5707963267948966\n"
     ]
    },
    {
     "data": {
      "image/png": "[encoded data removed]",
      "text/plain": [
       "<Figure size 1440x288 with 1 Axes>"
      ]
     },
     "metadata": {
      "needs_background": "light"
     },
     "output_type": "display_data"
    }
   ],
   "source": [
    "# Start and end of interval\n",
    "b=2*math.pi\n",
    "a=math.pi/2\n",
    "\n",
    "N1=3\n",
    "\n",
    "h1=((b-a)/N1)\n",
    "print(h1)\n",
    "\n",
    "x1=np.arange(a,b+h1,h1)\n",
    "\n",
    "\n",
    "fig = plt.figure(figsize=(20,4))\n",
    "plt.plot(x1,0*x1,'s:',color='red',label='Course Grid h=%s'%(h1))\n",
    "\n",
    "\n",
    "plt.xlim((0,2*math.pi))\n",
    "plt.ylim((-0.1,0.1))\n",
    "plt.title('Illustration of discrete time points')\n",
    "plt.legend()\n",
    "plt.show()"
   ]
  },
  {
   "cell_type": "code",
   "execution_count": 7,
   "metadata": {},
   "outputs": [],
   "source": [
    "y0 = np.zeros(N1+1)\n",
    "y1 = np.zeros(N1+1)\n",
    "y2 = np.zeros(N1+1)\n",
    "\n",
    "for i in range (0,N1):\n",
    "    y0[i] = x1[i]/(h1**2)\n",
    "    y1[i] = 2*(x1[i]/(h1) -x1[i]/(h1**2) +1)\n",
    "    y2[i] = (x1[i]/(h1**2) -2*x1[i]/(h1))\n"
   ]
  },
  {
   "cell_type": "code",
   "execution_count": 8,
   "metadata": {},
   "outputs": [],
   "source": [
    "def myfun_b(x,h):\n",
    "    #print(x)\n",
    "    #print(x**3)\n",
    "    #print(math.sin(x))\n",
    "    #print(x**3*math.sin(x))\n",
    "    return (x**3*math.sin(x))\n",
    "\n",
    "def myfun_A(size, b0, bn, y0, y1, y2 ):\n",
    "    A = np.zeros(shape=(size+1,size+1))\n",
    "    A[0][0] = b0\n",
    "    A[size][size] = bn\n",
    "    for i in range(1,size):\n",
    "        A[i][i-1] = y0[i]\n",
    "        A[i][i] = y1[i]\n",
    "        A[i][i+1] = y2[i]\n",
    "    return A\n",
    "\n"
   ]
  },
  {
   "cell_type": "code",
   "execution_count": 10,
   "metadata": {},
   "outputs": [
    {
     "name": "stdout",
     "output_type": "stream",
     "text": [
      "[[ 1.          0.          0.          0.        ]\n",
      " [ 1.27323954  3.45352091 -2.72676046  0.        ]\n",
      " [ 0.          1.90985932  4.18028137 -4.09014068]\n",
      " [ 0.          0.          0.          1.        ]]\n",
      "[-2.64811243e+00  3.79717375e-15 -1.04646184e+02  1.61249821e+00]\n"
     ]
    },
    {
     "data": {
      "text/plain": [
       "Text(0.5, 1.0, 'Analytical and Finite Difference Method Solutions')"
      ]
     },
     "execution_count": 10,
     "metadata": {},
     "output_type": "execute_result"
    },
    {
     "data": {
      "image/png": "[encoded data removed]",
      "text/plain": [
       "<Figure size 720x288 with 1 Axes>"
      ]
     },
     "metadata": {
      "needs_background": "light"
     },
     "output_type": "display_data"
    }
   ],
   "source": [
    "\n",
    "A = myfun_A(N1, 1, 1, y0, y1, y2 )\n",
    "print(A)\n",
    "b = np.zeros(N1+1)\n",
    "\n",
    "b[0] = 1/20*math.pi**2 - math.pi\n",
    "b[N1] = 4/5*math.pi**2 - 2*math.pi\n",
    "for i in range (1,N1):\n",
    "    b[i] = myfun_b(x1[i], h1)\n",
    "    #if abs(b[i]) < 0.000000000001:\n",
    "    #b[i] =0\n",
    "#print(x1)\n",
    "print(b)\n",
    "#print(math.sin(4.71238))\n",
    "y_numerical = np.linalg.solve(A, b)\n",
    "\n",
    "#y_actual = myfun_yactual(x1)\n",
    "\n",
    "fig = plt.figure(figsize=(10,4))\n",
    "\n",
    "plt.plot(x1,y_numerical,'s:',color='blue',label='y_numerical h=%s'%(h1))\n",
    "#plt.plot(x1,y_actual,'^:',color='red',label='y_actual h=%s'%(h1))\n",
    "plt.xlim((0,12))\n",
    "plt.xlabel('x')\n",
    "plt.legend(loc='best')\n",
    "plt.title('Analytical and Finite Difference Method Solutions')"
   ]
  },
  {
   "cell_type": "code",
   "execution_count": 11,
   "metadata": {},
   "outputs": [
    {
     "data": {
      "text/html": [
       "<table><tr><td>x</td><td>y_numerical</td></tr><tr><td>1.5708</td><td>-2.64811</td></tr><tr><td>3.14159</td><td>-12.89255</td></tr><tr><td>4.71239</td><td>-17.5653</td></tr><tr><td>6.28319</td><td>1.6125</td></tr></table>"
      ],
      "text/plain": [
       "[['x', 'y_numerical'],\n",
       " [1.5708, -2.64811],\n",
       " [3.14159, -12.89255],\n",
       " [4.71239, -17.5653],\n",
       " [6.28319, 1.6125]]"
      ]
     },
     "execution_count": 11,
     "metadata": {},
     "output_type": "execute_result"
    }
   ],
   "source": [
    "table = ListTable()\n",
    "table.append(['x', 'y_numerical'\n",
    "              ])\n",
    "tableSize = N1\n",
    "for i in range (0,tableSize+1):\n",
    "    table.append([round(x1[i],5), round(y_numerical[i],5)])\n",
    "    \n",
    "table"
   ]
  },
  {
   "cell_type": "code",
   "execution_count": null,
   "metadata": {},
   "outputs": [],
   "source": []
  }
 ],
 "metadata": {
  "kernelspec": {
   "display_name": "Python 3",
   "language": "python",
   "name": "python3"
  },
  "language_info": {
   "codemirror_mode": {
    "name": "ipython",
    "version": 3
   },
   "file_extension": ".py",
   "mimetype": "text/x-python",
   "name": "python",
   "nbconvert_exporter": "python",
   "pygments_lexer": "ipython3",
   "version": "3.7.4"
  }
 },
 "nbformat": 4,
 "nbformat_minor": 2
}
