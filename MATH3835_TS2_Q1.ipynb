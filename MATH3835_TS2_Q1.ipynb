{
 "cells": [
  {
   "cell_type": "markdown",
   "metadata": {},
   "source": [
    "# Question 1: Shooting Method"
   ]
  },
  {
   "cell_type": "markdown",
   "metadata": {},
   "source": [
    "Given the second order differential equation function.\n",
    "\n",
    "$$ \\frac{d^2y}{dx^2} = f(x, y , \\frac{dy}{dx} )$$\n",
    "$$ \\frac{d^2y}{dx^2} = y'' = 6x - \\frac{1}{2}x^2 $$\n",
    "\n",
    "The Boundary value problem:\n",
    "\n",
    "$$ y(0) = 0, \\ and \\ y(12) = 0 $$\n",
    "\n",
    "The step size $h=4$ the actual $y(x)$ is unknown, we wish to find $y(4)$.\n",
    "\n",
    "We will make a guess of the value $y'(0) = 5$\n",
    "\n",
    "We can then reduce the BVP to simultaneous 1st order equations. These we are IVPs, and we can use IVP methods like Euler's method.\n",
    "$$\n",
    "\\begin{align*}\n",
    "\\frac{dy}{dx} &= z \\\\\n",
    "&= f_1(x, y, z)     \\qquad (1) \\ (\\ note \\ this \\ is \\ just \\ assumed) \\\\\n",
    "\\frac{dz}{dx} &= 6x - \\frac{1}{2}x^2  \\\\\n",
    "&= f_2(x,y,z) \\qquad (2) \\\\\n",
    "\\end{align*}\n",
    "$$\n",
    "\n",
    "\n",
    "To solve we use an IVP method, we will use EUlers:\n",
    "\n",
    "$$ y_{i+1} = y_i + f_1(x_i, y_i, z_i)h $$\n",
    "$$ z_{i+1} = z_i + f_2(x_i, y_i, z_i)h $$\n",
    "\n",
    "\n"
   ]
  },
  {
   "cell_type": "code",
   "execution_count": 2,
   "metadata": {},
   "outputs": [],
   "source": [
    "## Library\n",
    "import numpy as np\n",
    "import math \n",
    "\n",
    "%matplotlib inline\n",
    "import matplotlib.pyplot as plt # side-stepping mpl backend\n",
    "import matplotlib.gridspec as gridspec # subplots\n",
    "import warnings\n",
    "\n",
    "warnings.filterwarnings(\"ignore\")\n",
    "class ListTable(list):\n",
    "    \"\"\" Overridden list class which takes a 2-dimensional list of \n",
    "        the form [[1,2,3],[4,5,6]], and renders an HTML Table in \n",
    "        IPython Notebook. \"\"\"\n",
    "    \n",
    "    def _repr_html_(self):\n",
    "        html = [\"<table>\"]\n",
    "        for row in self:\n",
    "            html.append(\"<tr>\")\n",
    "            \n",
    "            for col in row:\n",
    "                html.append(\"<td>{0}</td>\".format(col))\n",
    "            \n",
    "            html.append(\"</tr>\")\n",
    "        html.append(\"</table>\")\n",
    "        return ''.join(html)"
   ]
  },
  {
   "cell_type": "markdown",
   "metadata": {},
   "source": [
    "## Defining the Function"
   ]
  },
  {
   "cell_type": "code",
   "execution_count": 3,
   "metadata": {},
   "outputs": [],
   "source": [
    "def myfun_f1(x,y,z):\n",
    "    return (z)\n",
    "\n",
    "def myfun_f2(x,y,z):\n",
    "    return (6*x - 0.5*x**2)\n"
   ]
  },
  {
   "cell_type": "markdown",
   "metadata": {},
   "source": [
    "## Discrete Interval \n",
    "Here we will use a step sizes on the  $ 0 \\leq x \\leq 12 $.\n",
    "### Interval\n",
    "The step Size will be $h_{1} = 4\n",
    "\n",
    "with the discrete time steps,\n",
    "$$ x_{i} = 0 + 4i $$\n",
    "for  $i=0,1,...,3$.\n",
    "\n"
   ]
  },
  {
   "cell_type": "code",
   "execution_count": 5,
   "metadata": {},
   "outputs": [
    {
     "data": {
      "image/png": "[encoded data removed]",
      "text/plain": [
       "<Figure size 1440x288 with 1 Axes>"
      ]
     },
     "metadata": {
      "needs_background": "light"
     },
     "output_type": "display_data"
    }
   ],
   "source": [
    "# Start and end of interval\n",
    "b=12\n",
    "a=0\n",
    "# Steps N1=400\n",
    "N1=3\n",
    "\n",
    "h1=4\n",
    "\n",
    "x1=np.arange(a,b+h1,h1)\n",
    "\n",
    "\n",
    "fig = plt.figure(figsize=(20,4))\n",
    "plt.plot(x1,0*x1,'s:',color='red',label='Course Grid h=%s'%(h1))\n",
    "\n",
    "\n",
    "plt.xlim((0,12))\n",
    "plt.ylim((-0.1,0.1))\n",
    "plt.title('Illustration of discrete time points')\n",
    "plt.legend()\n",
    "plt.show()"
   ]
  },
  {
   "cell_type": "markdown",
   "metadata": {},
   "source": [
    "## Setting up the inital Conditions for our 1st guess\n",
    "$$ w_{1} = 0 $$\n",
    "$$ z_{1} = 5 $$\n",
    "\n",
    "## Setting up the inital Conditions for our 2nd guess\n",
    "$$ w_{2} = 0 $$\n",
    "$$ z_{2} = -10 $$"
   ]
  },
  {
   "cell_type": "code",
   "execution_count": 29,
   "metadata": {},
   "outputs": [],
   "source": [
    "## 1st Guess \n",
    "\n",
    "IC_W1=0 # Intial condtion\n",
    "IC_Z1=5 # Intial condtion\n",
    "w1 = np.zeros(N1+1)\n",
    "z1 = np.zeros(N1+1)\n",
    "\n",
    "\n",
    "w1[0]=IC_W1\n",
    "z1[0]=IC_Z1\n",
    "\n",
    "## 2nd Guess \n",
    "\n",
    "IC_W2=0 # Intial condtion\n",
    "IC_Z2=-25 # Intial condtion\n",
    "w2 = np.zeros(N1+1)\n",
    "z2 = np.zeros(N1+1)\n",
    "\n",
    "\n",
    "w2[0]=IC_W2\n",
    "z2[0]=IC_Z2\n",
    "\n"
   ]
  },
  {
   "cell_type": "markdown",
   "metadata": {},
   "source": [
    "## Euler Method\n",
    "\n",
    "$$ w_{i+1} = w_{i} + hf_1(x_{i}, w_{i}, z_{i}) $$\n",
    "\n",
    "$$ z_{i+1} = z_{i} + hf_2(x_{i}, w_{i}, z_{i}) $$\n",
    "\n",
    "\n",
    "\n"
   ]
  },
  {
   "cell_type": "code",
   "execution_count": 35,
   "metadata": {},
   "outputs": [
    {
     "data": {
      "text/plain": [
       "Text(0.5, 1.0, 'BVP Shooting Method 1st and 2nd Guesses (z=5,-25) solution')"
      ]
     },
     "execution_count": 35,
     "metadata": {},
     "output_type": "execute_result"
    },
    {
     "data": {
      "image/png": "[encoded data removed]",
      "text/plain": [
       "<Figure size 720x288 with 1 Axes>"
      ]
     },
     "metadata": {
      "needs_background": "light"
     },
     "output_type": "display_data"
    }
   ],
   "source": [
    "\n",
    "for i in range (0,N1):\n",
    "    w1[i+1]=w1[i]+h1*myfun_f1(x1[i], w1[i], z1[i])\n",
    "    z1[i+1]=z1[i]+h1*myfun_f2(x1[i], w1[i], z1[i])\n",
    "    w2[i+1]=w2[i]+h1*myfun_f1(x1[i], w2[i], z2[i])\n",
    "    z2[i+1]=z2[i]+h1*myfun_f2(x1[i], w2[i], z2[i])\n",
    "    \n",
    "    \n",
    "    \n",
    "fig = plt.figure(figsize=(10,4))\n",
    "plt.plot(x1,w1,'s:',color='blue',label='BVP Shooting Method 1st Guess (Euler)')\n",
    "plt.plot(x1,w2,'*:',color='red',label='BVP Shooting Method 2nd Guess (Euler)')\n",
    "\n",
    "\n",
    "plt.xlim((0,12))\n",
    "plt.xlabel('x')\n",
    "plt.legend(loc='best')\n",
    "plt.title('BVP Shooting Method 1st and 2nd Guesses (z=5,-25) solution')"
   ]
  },
  {
   "cell_type": "code",
   "execution_count": 33,
   "metadata": {},
   "outputs": [
    {
     "data": {
      "text/html": [
       "<table><tr><td>x</td><td>w1</td><td>z1</td><td>w2</td><td>z2</td></tr><tr><td>0</td><td>0.0</td><td>5.0</td><td>0.0</td><td>-25.0</td></tr><tr><td>4</td><td>20.0</td><td>5.0</td><td>-100.0</td><td>-25.0</td></tr><tr><td>8</td><td>40.0</td><td>69.0</td><td>-200.0</td><td>39.0</td></tr><tr><td>12</td><td>316.0</td><td>133.0</td><td>-44.0</td><td>103.0</td></tr></table>"
      ],
      "text/plain": [
       "[['x', 'w1', 'z1', 'w2', 'z2'],\n",
       " [0, 0.0, 5.0, 0.0, -25.0],\n",
       " [4, 20.0, 5.0, -100.0, -25.0],\n",
       " [8, 40.0, 69.0, -200.0, 39.0],\n",
       " [12, 316.0, 133.0, -44.0, 103.0]]"
      ]
     },
     "execution_count": 33,
     "metadata": {},
     "output_type": "execute_result"
    }
   ],
   "source": [
    "table = ListTable()\n",
    "table.append(['x', 'w1', 'z1','w2', 'z2'\n",
    "              ])\n",
    "tableSize = 3\n",
    "for i in range (0,tableSize+1):\n",
    "    table.append([round(x1[i],5), round(w1[i],5), round(z1[i],5), round(w2[i],5), round(z2[i],5)])\n",
    "    \n",
    "table"
   ]
  },
  {
   "cell_type": "markdown",
   "metadata": {},
   "source": [
    "$y'(0)$ | $y_3 \\approx y(12)$ | \n",
    "--- | --- |\n",
    "$p_0$ | $q_0$ | \n",
    "$p_1$ | $q_1$ | \n",
    "\n",
    "\n",
    "Interpolating a more accurate value for $y'(0)$:\n",
    "\n",
    "$$ p = p_0 + \\frac{p_1-p_0}{q_1-q_0}(q-q_0) $$\n",
    "\n",
    "In the example above we have:\n",
    "\n",
    "$y'(0)$ | $y_3 \\approx y(12)$ | \n",
    "--- | --- |\n",
    "5 | 316 | \n",
    "-25 | -44 | \n",
    "\n",
    "\n",
    "Therefore:\n",
    "\n",
    "$$ p = 5 + \\frac{-25 -5}{-44-316}(q-316) $$\n",
    "\n",
    "We want the value of p when $q=0$, therefore $p = \\frac{-64}{3} = -21.33333$\n",
    "\n",
    "We now rerun through the IVP method with y(0) =0 and y'(0) = -21.3333 as the initial conditions.\n"
   ]
  },
  {
   "cell_type": "code",
   "execution_count": 43,
   "metadata": {},
   "outputs": [],
   "source": [
    "## Best Guess\n",
    "\n",
    "IC_W3=0 # Intial condtion\n",
    "IC_Z3=-21.33333333 # Intial condtion\n",
    "w3 = np.zeros(N1+1)\n",
    "z3 = np.zeros(N1+1)\n",
    "\n",
    "w3[0]=IC_W3\n",
    "z3[0]=IC_Z3"
   ]
  },
  {
   "cell_type": "code",
   "execution_count": 44,
   "metadata": {},
   "outputs": [
    {
     "data": {
      "text/plain": [
       "Text(0.5, 1.0, 'BVP Shooting Method Best Guess (z=-21.33) solution')"
      ]
     },
     "execution_count": 44,
     "metadata": {},
     "output_type": "execute_result"
    },
    {
     "data": {
      "image/png": "[encoded data removed]",
      "text/plain": [
       "<Figure size 720x288 with 1 Axes>"
      ]
     },
     "metadata": {
      "needs_background": "light"
     },
     "output_type": "display_data"
    }
   ],
   "source": [
    "for i in range (0,N1):\n",
    "    w3[i+1]=w3[i]+h1*myfun_f1(x1[i], w3[i], z3[i])\n",
    "    z3[i+1]=z3[i]+h1*myfun_f2(x1[i], w3[i], z3[i])\n",
    "    \n",
    "    \n",
    "    \n",
    "    \n",
    "fig = plt.figure(figsize=(10,4))\n",
    "plt.plot(x1,w3,'s:',color='green',label='BVP Shooting Method best Guess (Euler)')\n",
    "\n",
    "\n",
    "\n",
    "plt.xlim((0,12))\n",
    "plt.xlabel('x')\n",
    "plt.legend(loc='best')\n",
    "plt.title('BVP Shooting Method Best Guess (z=-21.33) solution')"
   ]
  },
  {
   "cell_type": "code",
   "execution_count": 45,
   "metadata": {},
   "outputs": [
    {
     "data": {
      "text/html": [
       "<table><tr><td>x</td><td>w1</td><td>z1</td><td>w2</td><td>z2</td><td>w3</td><td>z3</td></tr><tr><td>0</td><td>0.0</td><td>5.0</td><td>0.0</td><td>-25.0</td><td>0.0</td><td>-21.33333</td></tr><tr><td>4</td><td>20.0</td><td>5.0</td><td>-100.0</td><td>-25.0</td><td>-85.33333</td><td>-21.33333</td></tr><tr><td>8</td><td>40.0</td><td>69.0</td><td>-200.0</td><td>39.0</td><td>-170.66667</td><td>42.66667</td></tr><tr><td>12</td><td>316.0</td><td>133.0</td><td>-44.0</td><td>103.0</td><td>0.0</td><td>106.66667</td></tr></table>"
      ],
      "text/plain": [
       "[['x', 'w1', 'z1', 'w2', 'z2', 'w3', 'z3'],\n",
       " [0, 0.0, 5.0, 0.0, -25.0, 0.0, -21.33333],\n",
       " [4, 20.0, 5.0, -100.0, -25.0, -85.33333, -21.33333],\n",
       " [8, 40.0, 69.0, -200.0, 39.0, -170.66667, 42.66667],\n",
       " [12, 316.0, 133.0, -44.0, 103.0, 0.0, 106.66667]]"
      ]
     },
     "execution_count": 45,
     "metadata": {},
     "output_type": "execute_result"
    }
   ],
   "source": [
    "table = ListTable()\n",
    "table.append(['x', 'w1', 'z1','w2', 'z2', 'w3', 'z3'\n",
    "              ])\n",
    "tableSize = 3\n",
    "for i in range (0,tableSize+1):\n",
    "    table.append([round(x1[i],5), round(w1[i],5), round(z1[i],5), round(w2[i],5), round(z2[i],5), \n",
    "                 round(w3[i],5), round(z3[i],5)])\n",
    "    \n",
    "table"
   ]
  },
  {
   "cell_type": "code",
   "execution_count": null,
   "metadata": {},
   "outputs": [],
   "source": []
  }
 ],
 "metadata": {
  "kernelspec": {
   "display_name": "Python 3",
   "language": "python",
   "name": "python3"
  },
  "language_info": {
   "codemirror_mode": {
    "name": "ipython",
    "version": 3
   },
   "file_extension": ".py",
   "mimetype": "text/x-python",
   "name": "python",
   "nbconvert_exporter": "python",
   "pygments_lexer": "ipython3",
   "version": "3.7.4"
  }
 },
 "nbformat": 4,
 "nbformat_minor": 2
}
